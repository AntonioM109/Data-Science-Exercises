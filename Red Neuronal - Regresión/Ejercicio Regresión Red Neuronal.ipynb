{
 "cells": [
  {
   "cell_type": "markdown",
   "id": "fffc25c6-e2e3-4ee2-9008-769883ee9385",
   "metadata": {},
   "source": [
    "# Ejemplo de regresión RN"
   ]
  },
  {
   "cell_type": "markdown",
   "id": "c4b577eb-5ab5-4f4f-b8a7-7202924af496",
   "metadata": {},
   "source": [
    "## Datos"
   ]
  },
  {
   "cell_type": "code",
   "execution_count": 1,
   "id": "7caa578d-899a-40bb-9163-9c2cccc958f5",
   "metadata": {},
   "outputs": [],
   "source": [
    "# DATOS\n",
    "import pandas as pd\n",
    "import numpy as np\n",
    "datos = pd.read_csv('Advertising.csv')"
   ]
  },
  {
   "cell_type": "code",
   "execution_count": 2,
   "id": "52d073a4-f7ad-48aa-b87c-fb4e40e88994",
   "metadata": {},
   "outputs": [
    {
     "data": {
      "text/html": [
       "<div>\n",
       "<style scoped>\n",
       "    .dataframe tbody tr th:only-of-type {\n",
       "        vertical-align: middle;\n",
       "    }\n",
       "\n",
       "    .dataframe tbody tr th {\n",
       "        vertical-align: top;\n",
       "    }\n",
       "\n",
       "    .dataframe thead th {\n",
       "        text-align: right;\n",
       "    }\n",
       "</style>\n",
       "<table border=\"1\" class=\"dataframe\">\n",
       "  <thead>\n",
       "    <tr style=\"text-align: right;\">\n",
       "      <th></th>\n",
       "      <th>TV</th>\n",
       "      <th>Radio</th>\n",
       "      <th>Newspaper</th>\n",
       "      <th>Sales</th>\n",
       "    </tr>\n",
       "  </thead>\n",
       "  <tbody>\n",
       "    <tr>\n",
       "      <th>0</th>\n",
       "      <td>230.1</td>\n",
       "      <td>37.8</td>\n",
       "      <td>69.2</td>\n",
       "      <td>22.1</td>\n",
       "    </tr>\n",
       "    <tr>\n",
       "      <th>1</th>\n",
       "      <td>44.5</td>\n",
       "      <td>39.3</td>\n",
       "      <td>45.1</td>\n",
       "      <td>10.4</td>\n",
       "    </tr>\n",
       "    <tr>\n",
       "      <th>2</th>\n",
       "      <td>17.2</td>\n",
       "      <td>45.9</td>\n",
       "      <td>69.3</td>\n",
       "      <td>9.3</td>\n",
       "    </tr>\n",
       "    <tr>\n",
       "      <th>3</th>\n",
       "      <td>151.5</td>\n",
       "      <td>41.3</td>\n",
       "      <td>58.5</td>\n",
       "      <td>18.5</td>\n",
       "    </tr>\n",
       "    <tr>\n",
       "      <th>4</th>\n",
       "      <td>180.8</td>\n",
       "      <td>10.8</td>\n",
       "      <td>58.4</td>\n",
       "      <td>12.9</td>\n",
       "    </tr>\n",
       "    <tr>\n",
       "      <th>...</th>\n",
       "      <td>...</td>\n",
       "      <td>...</td>\n",
       "      <td>...</td>\n",
       "      <td>...</td>\n",
       "    </tr>\n",
       "    <tr>\n",
       "      <th>195</th>\n",
       "      <td>38.2</td>\n",
       "      <td>3.7</td>\n",
       "      <td>13.8</td>\n",
       "      <td>7.6</td>\n",
       "    </tr>\n",
       "    <tr>\n",
       "      <th>196</th>\n",
       "      <td>94.2</td>\n",
       "      <td>4.9</td>\n",
       "      <td>8.1</td>\n",
       "      <td>9.7</td>\n",
       "    </tr>\n",
       "    <tr>\n",
       "      <th>197</th>\n",
       "      <td>177.0</td>\n",
       "      <td>9.3</td>\n",
       "      <td>6.4</td>\n",
       "      <td>12.8</td>\n",
       "    </tr>\n",
       "    <tr>\n",
       "      <th>198</th>\n",
       "      <td>283.6</td>\n",
       "      <td>42.0</td>\n",
       "      <td>66.2</td>\n",
       "      <td>25.5</td>\n",
       "    </tr>\n",
       "    <tr>\n",
       "      <th>199</th>\n",
       "      <td>232.1</td>\n",
       "      <td>8.6</td>\n",
       "      <td>8.7</td>\n",
       "      <td>13.4</td>\n",
       "    </tr>\n",
       "  </tbody>\n",
       "</table>\n",
       "<p>200 rows × 4 columns</p>\n",
       "</div>"
      ],
      "text/plain": [
       "        TV  Radio  Newspaper  Sales\n",
       "0    230.1   37.8       69.2   22.1\n",
       "1     44.5   39.3       45.1   10.4\n",
       "2     17.2   45.9       69.3    9.3\n",
       "3    151.5   41.3       58.5   18.5\n",
       "4    180.8   10.8       58.4   12.9\n",
       "..     ...    ...        ...    ...\n",
       "195   38.2    3.7       13.8    7.6\n",
       "196   94.2    4.9        8.1    9.7\n",
       "197  177.0    9.3        6.4   12.8\n",
       "198  283.6   42.0       66.2   25.5\n",
       "199  232.1    8.6        8.7   13.4\n",
       "\n",
       "[200 rows x 4 columns]"
      ]
     },
     "execution_count": 2,
     "metadata": {},
     "output_type": "execute_result"
    }
   ],
   "source": [
    "datos"
   ]
  },
  {
   "cell_type": "markdown",
   "id": "99fa98d3-3c5a-48ed-95c4-84e4f997b222",
   "metadata": {},
   "source": [
    "## Train and test"
   ]
  },
  {
   "cell_type": "code",
   "execution_count": 3,
   "id": "fe61b341-0032-4243-a88e-8070c52eefab",
   "metadata": {},
   "outputs": [],
   "source": [
    "from sklearn.model_selection import train_test_split\n",
    "\n",
    "X = datos.iloc[:, :3]\n",
    "y = datos.iloc[:,-1]\n",
    "\n",
    "Xtrain, Xtest, ytrain, ytest = train_test_split(X, y, train_size=0.75 ,random_state=0)"
   ]
  },
  {
   "cell_type": "markdown",
   "id": "48a6bfef-3a2a-45de-8c79-8d050ca1aeae",
   "metadata": {},
   "source": [
    "## Modelo"
   ]
  },
  {
   "cell_type": "code",
   "execution_count": 4,
   "id": "dbc623f5-4c75-4875-a24b-d06326e05f37",
   "metadata": {},
   "outputs": [],
   "source": [
    "# Importamos la función para REGRESIÓN\n",
    "from sklearn.neural_network import MLPRegressor"
   ]
  },
  {
   "cell_type": "code",
   "execution_count": 5,
   "id": "91e387af-ba1a-45bf-974b-58a33d391754",
   "metadata": {},
   "outputs": [],
   "source": [
    "# Creamos un modelo con una sola capa\n",
    "modelo_1 = MLPRegressor(hidden_layer_sizes=(5),  # una capa con 5 neuronas\n",
    "                        solver = 'lbfgs',        # algoritmo de optimización, para sets pequeños este es mejor\n",
    "                        max_iter = 1000,         # num max de iteraciones de entrenamiento\n",
    "                        random_state = 123)      # semilla de aleatoriedad"
   ]
  },
  {
   "cell_type": "code",
   "execution_count": 6,
   "id": "5cfb4df6-2ed7-43f3-896b-51e76b1ac8e0",
   "metadata": {},
   "outputs": [
    {
     "data": {
      "text/plain": [
       "MLPRegressor(hidden_layer_sizes=5, max_iter=1000, random_state=123,\n",
       "             solver='lbfgs')"
      ]
     },
     "execution_count": 6,
     "metadata": {},
     "output_type": "execute_result"
    }
   ],
   "source": [
    "# Ajustamos el modelo a los datos de entrenamiento\n",
    "modelo_1.fit(Xtrain, ytrain)"
   ]
  },
  {
   "cell_type": "markdown",
   "id": "083c4664-e01e-4427-b98a-48f4affa1e07",
   "metadata": {},
   "source": [
    "## Evaluación del primer modelo"
   ]
  },
  {
   "cell_type": "code",
   "execution_count": 7,
   "id": "3ef8835a-4611-4f82-a91f-0934515bc7ca",
   "metadata": {},
   "outputs": [],
   "source": [
    "# Realizamos predicciones usando los datos de prueba\n",
    "y_pred = modelo_1.predict(Xtest)"
   ]
  },
  {
   "cell_type": "code",
   "execution_count": 8,
   "id": "7e875a39-7a4d-459b-820f-74f9cce59b5c",
   "metadata": {},
   "outputs": [
    {
     "name": "stdout",
     "output_type": "stream",
     "text": [
      "El error cuadrático medio (rmse) de test es: 2.003122984156475\n",
      "Las predicciones del modelo se alejan en promedio 2.003122984156475 unidades del valor real.\n"
     ]
    }
   ],
   "source": [
    "# Error de test del modelo inicial\n",
    "#-------------------------------------------------------------------------------\n",
    "from sklearn.metrics import mean_squared_error\n",
    "\n",
    "rmse = mean_squared_error(ytest, y_pred, squared = False)\n",
    "\n",
    "print(f\"El error cuadrático medio (rmse) de test es: {rmse}\")\n",
    "print(f\"Las predicciones del modelo se alejan en promedio {rmse} unidades del valor real.\")"
   ]
  },
  {
   "cell_type": "markdown",
   "id": "c2e02292-63a2-4851-9729-f00b5a112bfa",
   "metadata": {},
   "source": [
    "## Optimización de hiperparámetros"
   ]
  },
  {
   "cell_type": "code",
   "execution_count": 9,
   "id": "c80c2c03-a19e-4810-a9ed-9bc498130b3f",
   "metadata": {},
   "outputs": [],
   "source": [
    "from sklearn.model_selection import RandomizedSearchCV\n",
    "\n",
    " # Espacio de búsqueda de cada hiperparámetro\n",
    "# ==============================================================================\n",
    "param_distributions = {'hidden_layer_sizes': [(10), (20), (10, 10)],\n",
    "                       'alpha': np.logspace(-3, 3, 10),\n",
    "                       'learning_rate_init': [0.001, 0.01]\n",
    "                      }"
   ]
  },
  {
   "cell_type": "code",
   "execution_count": 10,
   "id": "43d827c3-b937-4bb2-a4b8-86ab7f7b5375",
   "metadata": {},
   "outputs": [],
   "source": [
    "# Búsqueda por validación cruzada\n",
    "# ==============================================================================\n",
    "grid = RandomizedSearchCV(estimator = MLPRegressor(solver = 'lbfgs', max_iter= 10000),\n",
    "                          param_distributions = param_distributions,\n",
    "                          n_iter = 50,\n",
    "                          scoring = 'neg_mean_squared_error',\n",
    "                          cv = 5,\n",
    "                          random_state = 123)\n",
    "\n",
    "grid.fit(X = Xtrain, y = ytrain);"
   ]
  },
  {
   "cell_type": "code",
   "execution_count": 11,
   "id": "5f38f715-df63-4149-adce-a2979e54ff38",
   "metadata": {},
   "outputs": [
    {
     "data": {
      "text/plain": [
       "{'learning_rate_init': 0.01, 'hidden_layer_sizes': 20, 'alpha': 10.0}"
      ]
     },
     "execution_count": 11,
     "metadata": {},
     "output_type": "execute_result"
    }
   ],
   "source": [
    "# Los mejores parámetros\n",
    "grid.best_params_"
   ]
  },
  {
   "cell_type": "code",
   "execution_count": 12,
   "id": "7f2fa1fc-d6a8-453e-8d89-0c2ad26a0754",
   "metadata": {},
   "outputs": [
    {
     "data": {
      "text/plain": [
       "MLPRegressor(alpha=10.0, hidden_layer_sizes=20, learning_rate_init=0.01,\n",
       "             max_iter=10000, solver='lbfgs')"
      ]
     },
     "execution_count": 12,
     "metadata": {},
     "output_type": "execute_result"
    }
   ],
   "source": [
    "# El modelo con los mejores parámetros está almacenado en:\n",
    "modelo_final = grid.best_estimator_\n",
    "modelo_final"
   ]
  },
  {
   "cell_type": "markdown",
   "id": "3a6b7cdc-3df8-409e-adb7-38f09ca700da",
   "metadata": {},
   "source": [
    "## Evaluación del modelo con los mejores hiperparámetros"
   ]
  },
  {
   "cell_type": "code",
   "execution_count": 13,
   "id": "5f704378-7a38-41af-8ca6-c18cfa639c25",
   "metadata": {},
   "outputs": [],
   "source": [
    "# Realizamos predicciones usando los datos de prueba\n",
    "y_pred2 = modelo_final.predict(Xtest)"
   ]
  },
  {
   "cell_type": "code",
   "execution_count": 14,
   "id": "f1f4a5e4-c33e-4b9f-a98e-2a854efe74ed",
   "metadata": {},
   "outputs": [
    {
     "name": "stdout",
     "output_type": "stream",
     "text": [
      "El error cuadrático medio (rmse) de test es: 0.7231669792060338\n",
      "Las predicciones del modelo final se alejan en promedio 0.7231669792060338 unidades del valor real.\n"
     ]
    }
   ],
   "source": [
    "# Error de test del modelo inicial\n",
    "#-------------------------------------------------------------------------------\n",
    "from sklearn.metrics import mean_squared_error\n",
    "\n",
    "rmse2 = mean_squared_error(ytest, y_pred2, squared = False)\n",
    "\n",
    "print(f\"El error cuadrático medio (rmse) de test es: {rmse2}\")\n",
    "print(f\"Las predicciones del modelo final se alejan en promedio {rmse2} unidades del valor real.\")"
   ]
  },
  {
   "cell_type": "markdown",
   "id": "11187f48-8744-4730-94eb-980b674d2631",
   "metadata": {},
   "source": [
    "## Regresión"
   ]
  },
  {
   "cell_type": "code",
   "execution_count": 15,
   "id": "e5167e2e-8ca7-4051-83d8-f5fb26af15f6",
   "metadata": {},
   "outputs": [
    {
     "name": "stderr",
     "output_type": "stream",
     "text": [
      "D:\\Documentos\\Programas\\Miniconda3\\envs\\Entorno01\\lib\\site-packages\\statsmodels\\tsa\\tsatools.py:142: FutureWarning: In a future version of pandas all arguments of concat except for the argument 'objs' will be keyword-only\n",
      "  x = pd.concat(x[::order], 1)\n"
     ]
    },
    {
     "data": {
      "text/plain": [
       "2.0031219440955446"
      ]
     },
     "execution_count": 15,
     "metadata": {},
     "output_type": "execute_result"
    }
   ],
   "source": [
    "# Modelo de regresión múltiple\n",
    "import statsmodels.api as sm\n",
    "X_train = sm.add_constant(Xtrain, prepend=True)\n",
    "modelo_reg = sm.OLS(endog=ytrain, exog=X_train).fit()\n",
    "\n",
    "# Predicciones\n",
    "X_test = sm.add_constant(Xtest, prepend=True)\n",
    "predicciones = modelo_reg.predict(X_test)\n",
    "\n",
    "# Error para comparar con el de la red neuronal\n",
    "mean_squared_error(ytest, predicciones, squared = False)"
   ]
  },
  {
   "cell_type": "markdown",
   "id": "b000f615-db29-4c4e-b0d9-b0366bc2232c",
   "metadata": {},
   "source": [
    "Notemos que la red neuronal nos ofrece muchas mejores predicciones que una regresión."
   ]
  },
  {
   "cell_type": "code",
   "execution_count": null,
   "id": "a1acbe9a-e051-4cae-a094-02930b3372e3",
   "metadata": {},
   "outputs": [],
   "source": []
  }
 ],
 "metadata": {
  "kernelspec": {
   "display_name": "Entorno01",
   "language": "python",
   "name": "entorno01"
  },
  "language_info": {
   "codemirror_mode": {
    "name": "ipython",
    "version": 3
   },
   "file_extension": ".py",
   "mimetype": "text/x-python",
   "name": "python",
   "nbconvert_exporter": "python",
   "pygments_lexer": "ipython3",
   "version": "3.9.7"
  }
 },
 "nbformat": 4,
 "nbformat_minor": 5
}
