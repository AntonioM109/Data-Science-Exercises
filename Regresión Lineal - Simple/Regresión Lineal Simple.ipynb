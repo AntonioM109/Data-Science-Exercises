{
 "cells": [
  {
   "cell_type": "markdown",
   "id": "91bffdf8",
   "metadata": {},
   "source": [
    "# REGRESIÓN LINEAL"
   ]
  },
  {
   "cell_type": "markdown",
   "id": "06f3fdfb",
   "metadata": {},
   "source": [
    "Los datos y la información se han obtenido de:\n",
    "https://www.cienciadedatos.net/documentos/py10-regresion-lineal-python.html#:~:text=La%20regresi%C3%B3n%20lineal%20es%20un,cuando%20hay%20m%C3%A1s%20de%20una"
   ]
  },
  {
   "cell_type": "markdown",
   "id": "d7d948ca",
   "metadata": {},
   "source": [
    "## Regresión Lineal Simple"
   ]
  },
  {
   "cell_type": "code",
   "execution_count": 2,
   "id": "f085a39b",
   "metadata": {},
   "outputs": [],
   "source": [
    "#------------------------------------------------------------------------------\n",
    "# PAQUETES QUE SE USARÁN A LO LARGO DEL TRABAJO\n",
    "#------------------------------------------------------------------------------\n",
    "\n",
    "# Tratamiento de datos\n",
    "# ==============================================================================\n",
    "import pandas as pd\n",
    "import numpy as np\n",
    "\n",
    "# Gráficos\n",
    "# ==============================================================================\n",
    "import matplotlib.pyplot as plt\n",
    "from matplotlib import style\n",
    "import seaborn as sns\n",
    "\n",
    "# Preprocesado y modelado\n",
    "# ==============================================================================\n",
    "from scipy.stats import pearsonr\n",
    "from sklearn.linear_model import LinearRegression\n",
    "from sklearn.model_selection import train_test_split\n",
    "from sklearn.metrics import r2_score\n",
    "from sklearn.metrics import mean_squared_error\n",
    "import statsmodels.api as sm\n",
    "import statsmodels.formula.api as smf\n",
    "\n",
    "# Configuración matplotlib\n",
    "# ==============================================================================\n",
    "plt.rcParams['image.cmap'] = \"bwr\"\n",
    "#plt.rcParams['figure.dpi'] = \"100\"\n",
    "plt.rcParams['savefig.bbox'] = \"tight\"\n",
    "style.use('ggplot') or plt.style.use('ggplot')\n",
    "\n",
    "# Configuración warnings\n",
    "# ==============================================================================\n",
    "import warnings\n",
    "warnings.filterwarnings('ignore')"
   ]
  },
  {
   "cell_type": "code",
   "execution_count": 3,
   "id": "abe49df7",
   "metadata": {},
   "outputs": [
    {
     "data": {
      "text/html": [
       "<div>\n",
       "<style scoped>\n",
       "    .dataframe tbody tr th:only-of-type {\n",
       "        vertical-align: middle;\n",
       "    }\n",
       "\n",
       "    .dataframe tbody tr th {\n",
       "        vertical-align: top;\n",
       "    }\n",
       "\n",
       "    .dataframe thead th {\n",
       "        text-align: right;\n",
       "    }\n",
       "</style>\n",
       "<table border=\"1\" class=\"dataframe\">\n",
       "  <thead>\n",
       "    <tr style=\"text-align: right;\">\n",
       "      <th></th>\n",
       "      <th>equipos</th>\n",
       "      <th>bateos</th>\n",
       "      <th>runs</th>\n",
       "    </tr>\n",
       "  </thead>\n",
       "  <tbody>\n",
       "    <tr>\n",
       "      <th>0</th>\n",
       "      <td>Texas</td>\n",
       "      <td>5659</td>\n",
       "      <td>855</td>\n",
       "    </tr>\n",
       "    <tr>\n",
       "      <th>1</th>\n",
       "      <td>Boston</td>\n",
       "      <td>5710</td>\n",
       "      <td>875</td>\n",
       "    </tr>\n",
       "    <tr>\n",
       "      <th>2</th>\n",
       "      <td>Detroit</td>\n",
       "      <td>5563</td>\n",
       "      <td>787</td>\n",
       "    </tr>\n",
       "  </tbody>\n",
       "</table>\n",
       "</div>"
      ],
      "text/plain": [
       "   equipos  bateos  runs\n",
       "0    Texas    5659   855\n",
       "1   Boston    5710   875\n",
       "2  Detroit    5563   787"
      ]
     },
     "execution_count": 3,
     "metadata": {},
     "output_type": "execute_result"
    }
   ],
   "source": [
    "# Datos\n",
    "# ==============================================================================\n",
    "equipos = [\"Texas\",\"Boston\",\"Detroit\",\"Kansas\",\"St.\",\"New_S.\",\"New_Y.\",\n",
    "           \"Milwaukee\",\"Colorado\",\"Houston\",\"Baltimore\",\"Los_An.\",\"Chicago\",\n",
    "           \"Cincinnati\",\"Los_P.\",\"Philadelphia\",\"Chicago\",\"Cleveland\",\"Arizona\",\n",
    "           \"Toronto\",\"Minnesota\",\"Florida\",\"Pittsburgh\",\"Oakland\",\"Tampa\",\n",
    "           \"Atlanta\",\"Washington\",\"San.F\",\"San.I\",\"Seattle\"]\n",
    "bateos = [5659,  5710, 5563, 5672, 5532, 5600, 5518, 5447, 5544, 5598,\n",
    "          5585, 5436, 5549, 5612, 5513, 5579, 5502, 5509, 5421, 5559,\n",
    "          5487, 5508, 5421, 5452, 5436, 5528, 5441, 5486, 5417, 5421]\n",
    "\n",
    "runs = [855, 875, 787, 730, 762, 718, 867, 721, 735, 615, 708, 644, 654, 735,\n",
    "        667, 713, 654, 704, 731, 743, 619, 625, 610, 645, 707, 641, 624, 570,\n",
    "        593, 556]\n",
    "\n",
    "datos = pd.DataFrame({'equipos': equipos, 'bateos': bateos, 'runs': runs})\n",
    "datos.head(3)"
   ]
  },
  {
   "cell_type": "code",
   "execution_count": 4,
   "id": "11cad8c6",
   "metadata": {},
   "outputs": [
    {
     "data": {
      "text/plain": [
       "<AxesSubplot:title={'center':'Distribución de bateos y runs'}, xlabel='Bateos', ylabel='Runs'>"
      ]
     },
     "execution_count": 4,
     "metadata": {},
     "output_type": "execute_result"
    },
    {
     "data": {
      "image/png": "[encoded data removed]",
      "text/plain": [
       "<Figure size 432x288 with 1 Axes>"
      ]
     },
     "metadata": {},
     "output_type": "display_data"
    }
   ],
   "source": [
    "# -- Graficamos\n",
    "datos.plot(x=\"bateos\", y=\"runs\", kind=\"scatter\", \n",
    "           title=\"Distribución de bateos y runs\", \n",
    "           xlabel=\"Bateos\", ylabel=\"Runs\")"
   ]
  },
  {
   "cell_type": "code",
   "execution_count": 5,
   "id": "29699a0d",
   "metadata": {},
   "outputs": [
    {
     "data": {
      "text/plain": [
       "(0.6106270467206685, 0.0003388351359791999)"
      ]
     },
     "execution_count": 5,
     "metadata": {},
     "output_type": "execute_result"
    }
   ],
   "source": [
    "# Correlación lineal entre las dos variables\n",
    "# ==============================================================================\n",
    "corr_test = pearsonr(x = datos['bateos'], y =  datos['runs'])\n",
    "corr_test"
   ]
  },
  {
   "cell_type": "code",
   "execution_count": 6,
   "id": "633cac3e",
   "metadata": {},
   "outputs": [
    {
     "name": "stdout",
     "output_type": "stream",
     "text": [
      "Coeficiente de correlación de Pearson:  0.6106270467206685\n",
      "P-value:  0.0003388351359791999\n"
     ]
    }
   ],
   "source": [
    "print(\"Coeficiente de correlación de Pearson: \", corr_test[0])\n",
    "print(\"P-value: \", corr_test[1])"
   ]
  },
  {
   "cell_type": "markdown",
   "id": "c78e02da",
   "metadata": {},
   "source": [
    "El gráfico y el test de correlación muestran una relación lineal, de intensidad considerable (r = 0.61) y significativa (p-value = 0.000339). Tiene sentido intentar generar un modelo de regresión lineal con el objetivo de predecir el número de runs en función del número de bateos del equipo."
   ]
  },
  {
   "cell_type": "code",
   "execution_count": 7,
   "id": "14d449e8",
   "metadata": {},
   "outputs": [],
   "source": [
    "# División de los datos en train y test\n",
    "# ==============================================================================\n",
    "X = datos[['bateos']]\n",
    "y = datos['runs']\n",
    "\n",
    "X_train, X_test, y_train, y_test = train_test_split(\n",
    "                                        X.values.reshape(-1,1), # se debe pasar a un array\n",
    "                                        y.values.reshape(-1,1),\n",
    "                                        train_size   = 0.8, # entrenamiento se ocupará el 80% y la prueba 20%\n",
    "                                        random_state = 1234,\n",
    "                                        shuffle      = True\n",
    "                                    )"
   ]
  },
  {
   "cell_type": "code",
   "execution_count": 8,
   "id": "9097790d",
   "metadata": {},
   "outputs": [
    {
     "name": "stdout",
     "output_type": "stream",
     "text": [
      "                            OLS Regression Results                            \n",
      "==============================================================================\n",
      "Dep. Variable:                   runs   R-squared:                       0.271\n",
      "Model:                            OLS   Adj. R-squared:                  0.238\n",
      "Method:                 Least Squares   F-statistic:                     8.191\n",
      "Date:                Thu, 26 Aug 2021   Prob (F-statistic):            0.00906\n",
      "Time:                        21:04:55   Log-Likelihood:                -134.71\n",
      "No. Observations:                  24   AIC:                             273.4\n",
      "Df Residuals:                      22   BIC:                             275.8\n",
      "Df Model:                           1                                         \n",
      "Covariance Type:            nonrobust                                         \n",
      "==============================================================================\n",
      "                 coef    std err          t      P>|t|      [0.025      0.975]\n",
      "------------------------------------------------------------------------------\n",
      "Intercept  -2367.7028   1066.357     -2.220      0.037   -4579.192    -156.214\n",
      "bateos         0.5529      0.193      2.862      0.009       0.152       0.953\n",
      "==============================================================================\n",
      "Omnibus:                        5.033   Durbin-Watson:                   1.902\n",
      "Prob(Omnibus):                  0.081   Jarque-Bera (JB):                3.170\n",
      "Skew:                           0.829   Prob(JB):                        0.205\n",
      "Kurtosis:                       3.650   Cond. No.                     4.17e+05\n",
      "==============================================================================\n",
      "\n",
      "Notes:\n",
      "[1] Standard Errors assume that the covariance matrix of the errors is correctly specified.\n",
      "[2] The condition number is large, 4.17e+05. This might indicate that there are\n",
      "strong multicollinearity or other numerical problems.\n"
     ]
    }
   ],
   "source": [
    "# Creación del modelo utilizando el modo fórmula (similar a R)\n",
    "# ==============================================================================\n",
    "datos_train = pd.DataFrame(np.hstack((X_train, y_train)), columns=['bateos', 'runs'])\n",
    "modelo = smf.ols(formula = 'runs ~bateos', data = datos_train)\n",
    "modelo = modelo.fit()\n",
    "print(modelo.summary())"
   ]
  },
  {
   "cell_type": "code",
   "execution_count": 9,
   "id": "3ad3f4a8",
   "metadata": {},
   "outputs": [
    {
     "name": "stdout",
     "output_type": "stream",
     "text": [
      "                            OLS Regression Results                            \n",
      "==============================================================================\n",
      "Dep. Variable:                      y   R-squared:                       0.271\n",
      "Model:                            OLS   Adj. R-squared:                  0.238\n",
      "Method:                 Least Squares   F-statistic:                     8.191\n",
      "Date:                Thu, 26 Aug 2021   Prob (F-statistic):            0.00906\n",
      "Time:                        21:04:55   Log-Likelihood:                -134.71\n",
      "No. Observations:                  24   AIC:                             273.4\n",
      "Df Residuals:                      22   BIC:                             275.8\n",
      "Df Model:                           1                                         \n",
      "Covariance Type:            nonrobust                                         \n",
      "==============================================================================\n",
      "                 coef    std err          t      P>|t|      [0.025      0.975]\n",
      "------------------------------------------------------------------------------\n",
      "const      -2367.7028   1066.357     -2.220      0.037   -4579.192    -156.214\n",
      "x1             0.5529      0.193      2.862      0.009       0.152       0.953\n",
      "==============================================================================\n",
      "Omnibus:                        5.033   Durbin-Watson:                   1.902\n",
      "Prob(Omnibus):                  0.081   Jarque-Bera (JB):                3.170\n",
      "Skew:                           0.829   Prob(JB):                        0.205\n",
      "Kurtosis:                       3.650   Cond. No.                     4.17e+05\n",
      "==============================================================================\n",
      "\n",
      "Notes:\n",
      "[1] Standard Errors assume that the covariance matrix of the errors is correctly specified.\n",
      "[2] The condition number is large, 4.17e+05. This might indicate that there are\n",
      "strong multicollinearity or other numerical problems.\n"
     ]
    }
   ],
   "source": [
    "# Creación del modelo utilizando matrices como en scikitlearn\n",
    "# ==============================================================================\n",
    "# A la matriz de predictores se le tiene que añadir una columna de 1s para el intercept del modelo\n",
    "X_train = sm.add_constant(X_train, prepend=True)\n",
    "modelo = sm.OLS(endog=y_train, exog=X_train,)\n",
    "modelo = modelo.fit()\n",
    "print(modelo.summary())"
   ]
  },
  {
   "cell_type": "code",
   "execution_count": 10,
   "id": "d7f2ee4a",
   "metadata": {},
   "outputs": [
    {
     "data": {
      "text/plain": [
       "array([[-4.57919205e+03, -1.56213633e+02],\n",
       "       [ 1.52244180e-01,  9.53498527e-01]])"
      ]
     },
     "execution_count": 10,
     "metadata": {},
     "output_type": "execute_result"
    }
   ],
   "source": [
    "# Intervalos de confianza para los coeficientes del modelo\n",
    "# ==============================================================================\n",
    "modelo.conf_int(alpha=0.05)"
   ]
  },
  {
   "cell_type": "code",
   "execution_count": 11,
   "id": "fed7a586",
   "metadata": {},
   "outputs": [
    {
     "data": {
      "text/html": [
       "<div>\n",
       "<style scoped>\n",
       "    .dataframe tbody tr th:only-of-type {\n",
       "        vertical-align: middle;\n",
       "    }\n",
       "\n",
       "    .dataframe tbody tr th {\n",
       "        vertical-align: top;\n",
       "    }\n",
       "\n",
       "    .dataframe thead th {\n",
       "        text-align: right;\n",
       "    }\n",
       "</style>\n",
       "<table border=\"1\" class=\"dataframe\">\n",
       "  <thead>\n",
       "    <tr style=\"text-align: right;\">\n",
       "      <th></th>\n",
       "      <th>mean</th>\n",
       "      <th>mean_se</th>\n",
       "      <th>mean_ci_lower</th>\n",
       "      <th>mean_ci_upper</th>\n",
       "      <th>obs_ci_lower</th>\n",
       "      <th>obs_ci_upper</th>\n",
       "    </tr>\n",
       "  </thead>\n",
       "  <tbody>\n",
       "    <tr>\n",
       "      <th>0</th>\n",
       "      <td>768.183475</td>\n",
       "      <td>32.658268</td>\n",
       "      <td>700.454374</td>\n",
       "      <td>835.912577</td>\n",
       "      <td>609.456054</td>\n",
       "      <td>926.910897</td>\n",
       "    </tr>\n",
       "    <tr>\n",
       "      <th>1</th>\n",
       "      <td>646.551778</td>\n",
       "      <td>19.237651</td>\n",
       "      <td>606.655332</td>\n",
       "      <td>686.448224</td>\n",
       "      <td>497.558860</td>\n",
       "      <td>795.544695</td>\n",
       "    </tr>\n",
       "    <tr>\n",
       "      <th>2</th>\n",
       "      <td>680.276930</td>\n",
       "      <td>14.186441</td>\n",
       "      <td>650.856053</td>\n",
       "      <td>709.697807</td>\n",
       "      <td>533.741095</td>\n",
       "      <td>826.812765</td>\n",
       "    </tr>\n",
       "    <tr>\n",
       "      <th>3</th>\n",
       "      <td>735.011194</td>\n",
       "      <td>22.767596</td>\n",
       "      <td>687.794091</td>\n",
       "      <td>782.228298</td>\n",
       "      <td>583.893300</td>\n",
       "      <td>886.129088</td>\n",
       "    </tr>\n",
       "  </tbody>\n",
       "</table>\n",
       "</div>"
      ],
      "text/plain": [
       "         mean    mean_se  mean_ci_lower  mean_ci_upper  obs_ci_lower  \\\n",
       "0  768.183475  32.658268     700.454374     835.912577    609.456054   \n",
       "1  646.551778  19.237651     606.655332     686.448224    497.558860   \n",
       "2  680.276930  14.186441     650.856053     709.697807    533.741095   \n",
       "3  735.011194  22.767596     687.794091     782.228298    583.893300   \n",
       "\n",
       "   obs_ci_upper  \n",
       "0    926.910897  \n",
       "1    795.544695  \n",
       "2    826.812765  \n",
       "3    886.129088  "
      ]
     },
     "execution_count": 11,
     "metadata": {},
     "output_type": "execute_result"
    }
   ],
   "source": [
    "# Predicciones con intervalo de confianza del 95%\n",
    "# ==============================================================================\n",
    "predicciones = modelo.get_prediction(exog = X_train).summary_frame(alpha=0.05)\n",
    "predicciones.head(4)"
   ]
  },
  {
   "cell_type": "code",
   "execution_count": 12,
   "id": "a19bb9d4",
   "metadata": {},
   "outputs": [],
   "source": [
    "pred = modelo.predict() # Solamente los valores de predicción"
   ]
  },
  {
   "cell_type": "code",
   "execution_count": 13,
   "id": "dec99117",
   "metadata": {},
   "outputs": [
    {
     "data": {
      "text/plain": [
       "array([768.18347545, 646.5517777 , 680.27693026, 735.01119425,\n",
       "       629.41276574, 637.70583604, 760.99614786, 707.92049793,\n",
       "       665.34940371, 640.47019281, 629.41276574, 728.37673801,\n",
       "       674.19534537, 688.57000056, 637.70583604, 727.2709953 ,\n",
       "       678.06544484, 629.41276574, 665.90227507, 700.18029898,\n",
       "       677.51257349, 683.04128702, 705.70901252, 716.76643958])"
      ]
     },
     "execution_count": 13,
     "metadata": {},
     "output_type": "execute_result"
    }
   ],
   "source": [
    "pred "
   ]
  },
  {
   "cell_type": "code",
   "execution_count": 14,
   "id": "111e5bb5-c4d3-41a5-90c2-4273552096db",
   "metadata": {},
   "outputs": [
    {
     "name": "stdout",
     "output_type": "stream",
     "text": [
      "                            OLS Regression Results                            \n",
      "==============================================================================\n",
      "Dep. Variable:                   runs   R-squared:                       0.373\n",
      "Model:                            OLS   Adj. R-squared:                  0.350\n",
      "Method:                 Least Squares   F-statistic:                     16.65\n",
      "Date:                Thu, 26 Aug 2021   Prob (F-statistic):           0.000339\n",
      "Time:                        21:04:55   Log-Likelihood:                -167.44\n",
      "No. Observations:                  30   AIC:                             338.9\n",
      "Df Residuals:                      28   BIC:                             341.7\n",
      "Df Model:                           1                                         \n",
      "Covariance Type:            nonrobust                                         \n",
      "==============================================================================\n",
      "                 coef    std err          t      P>|t|      [0.025      0.975]\n",
      "------------------------------------------------------------------------------\n",
      "Intercept  -2789.2429    853.696     -3.267      0.003   -4537.959   -1040.526\n",
      "bateos         0.6305      0.155      4.080      0.000       0.314       0.947\n",
      "==============================================================================\n",
      "Omnibus:                        2.579   Durbin-Watson:                   1.524\n",
      "Prob(Omnibus):                  0.275   Jarque-Bera (JB):                1.559\n",
      "Skew:                           0.544   Prob(JB):                        0.459\n",
      "Kurtosis:                       3.252   Cond. No.                     3.89e+05\n",
      "==============================================================================\n",
      "\n",
      "Notes:\n",
      "[1] Standard Errors assume that the covariance matrix of the errors is correctly specified.\n",
      "[2] The condition number is large, 3.89e+05. This might indicate that there are\n",
      "strong multicollinearity or other numerical problems.\n"
     ]
    }
   ],
   "source": [
    "# DE MANERA MÁS RÁPIDA E IGUALANDO LA FUNCIÓN LM() (nota: los datos no se dividen en entrenamiento y prueba)\n",
    "modelo2 = smf.ols(formula = 'runs ~bateos', data = datos)\n",
    "modelo2 = modelo2.fit()\n",
    "print(modelo2.summary())"
   ]
  },
  {
   "cell_type": "code",
   "execution_count": 15,
   "id": "b4fc052f-0a8f-4b9a-a48a-ffb93e822740",
   "metadata": {},
   "outputs": [
    {
     "data": {
      "image/png": "[encoded data removed]",
      "text/plain": [
       "<Figure size 432x276.48 with 1 Axes>"
      ]
     },
     "metadata": {},
     "output_type": "display_data"
    }
   ],
   "source": [
    "# Predicciones con intervalo de confianza del 95%\n",
    "# ==============================================================================\n",
    "predicciones = modelo.get_prediction(exog = X_train).summary_frame(alpha=0.05)\n",
    "predicciones['x'] = X_train[:, 1]\n",
    "predicciones['y'] = y_train\n",
    "predicciones = predicciones.sort_values('x')\n",
    "\n",
    "# Gráfico del modelo\n",
    "# ==============================================================================\n",
    "fig, ax = plt.subplots(figsize=(6, 3.84))\n",
    "\n",
    "ax.scatter(predicciones['x'], predicciones['y'], marker='o', color = \"gray\")\n",
    "ax.plot(predicciones['x'], predicciones[\"mean\"], linestyle='-', label=\"OLS\")\n",
    "ax.plot(predicciones['x'], predicciones[\"mean_ci_lower\"], linestyle='--', color='red', label=\"95% CI\")\n",
    "ax.plot(predicciones['x'], predicciones[\"mean_ci_upper\"], linestyle='--', color='red')\n",
    "ax.fill_between(predicciones['x'], predicciones[\"mean_ci_lower\"], predicciones[\"mean_ci_upper\"], alpha=0.1)\n",
    "ax.legend();"
   ]
  },
  {
   "cell_type": "code",
   "execution_count": 16,
   "id": "5dce2a38-c5a2-4235-ba8a-e7f821b3153e",
   "metadata": {},
   "outputs": [
    {
     "name": "stdout",
     "output_type": "stream",
     "text": [
      "\n",
      "El error (rmse) de test es: 59.3367160833608\n"
     ]
    }
   ],
   "source": [
    "# Error de test del modelo \n",
    "# ==============================================================================\n",
    "X_test = sm.add_constant(X_test, prepend=True)\n",
    "predicciones = modelo.predict(exog = X_test)\n",
    "rmse = mean_squared_error(\n",
    "        y_true  = y_test,\n",
    "        y_pred  = predicciones,\n",
    "        squared = False\n",
    "       )\n",
    "print(\"\")\n",
    "print(f\"El error (rmse) de test es: {rmse}\")"
   ]
  },
  {
   "cell_type": "markdown",
   "id": "e73b3cf2-99bd-48e2-94fd-c6fcdf740ae7",
   "metadata": {},
   "source": [
    "### Ejemplo De Regresión Lineal Con Mis Datos"
   ]
  },
  {
   "cell_type": "code",
   "execution_count": 17,
   "id": "8f06638e-afd2-4baa-9487-55d95b7e335a",
   "metadata": {},
   "outputs": [
    {
     "data": {
      "text/html": [
       "<div>\n",
       "<style scoped>\n",
       "    .dataframe tbody tr th:only-of-type {\n",
       "        vertical-align: middle;\n",
       "    }\n",
       "\n",
       "    .dataframe tbody tr th {\n",
       "        vertical-align: top;\n",
       "    }\n",
       "\n",
       "    .dataframe thead th {\n",
       "        text-align: right;\n",
       "    }\n",
       "</style>\n",
       "<table border=\"1\" class=\"dataframe\">\n",
       "  <thead>\n",
       "    <tr style=\"text-align: right;\">\n",
       "      <th></th>\n",
       "      <th>survived</th>\n",
       "      <th>pclass</th>\n",
       "      <th>sex</th>\n",
       "      <th>age</th>\n",
       "      <th>sibsp</th>\n",
       "      <th>parch</th>\n",
       "      <th>fare</th>\n",
       "      <th>embarked</th>\n",
       "      <th>class</th>\n",
       "      <th>who</th>\n",
       "      <th>adult_male</th>\n",
       "      <th>deck</th>\n",
       "      <th>embark_town</th>\n",
       "      <th>alive</th>\n",
       "      <th>alone</th>\n",
       "    </tr>\n",
       "  </thead>\n",
       "  <tbody>\n",
       "    <tr>\n",
       "      <th>0</th>\n",
       "      <td>0</td>\n",
       "      <td>3</td>\n",
       "      <td>male</td>\n",
       "      <td>22.0</td>\n",
       "      <td>1</td>\n",
       "      <td>0</td>\n",
       "      <td>7.2500</td>\n",
       "      <td>S</td>\n",
       "      <td>Third</td>\n",
       "      <td>man</td>\n",
       "      <td>True</td>\n",
       "      <td>NaN</td>\n",
       "      <td>Southampton</td>\n",
       "      <td>no</td>\n",
       "      <td>False</td>\n",
       "    </tr>\n",
       "    <tr>\n",
       "      <th>1</th>\n",
       "      <td>1</td>\n",
       "      <td>1</td>\n",
       "      <td>female</td>\n",
       "      <td>38.0</td>\n",
       "      <td>1</td>\n",
       "      <td>0</td>\n",
       "      <td>71.2833</td>\n",
       "      <td>C</td>\n",
       "      <td>First</td>\n",
       "      <td>woman</td>\n",
       "      <td>False</td>\n",
       "      <td>C</td>\n",
       "      <td>Cherbourg</td>\n",
       "      <td>yes</td>\n",
       "      <td>False</td>\n",
       "    </tr>\n",
       "    <tr>\n",
       "      <th>2</th>\n",
       "      <td>1</td>\n",
       "      <td>3</td>\n",
       "      <td>female</td>\n",
       "      <td>26.0</td>\n",
       "      <td>0</td>\n",
       "      <td>0</td>\n",
       "      <td>7.9250</td>\n",
       "      <td>S</td>\n",
       "      <td>Third</td>\n",
       "      <td>woman</td>\n",
       "      <td>False</td>\n",
       "      <td>NaN</td>\n",
       "      <td>Southampton</td>\n",
       "      <td>yes</td>\n",
       "      <td>True</td>\n",
       "    </tr>\n",
       "    <tr>\n",
       "      <th>3</th>\n",
       "      <td>1</td>\n",
       "      <td>1</td>\n",
       "      <td>female</td>\n",
       "      <td>35.0</td>\n",
       "      <td>1</td>\n",
       "      <td>0</td>\n",
       "      <td>53.1000</td>\n",
       "      <td>S</td>\n",
       "      <td>First</td>\n",
       "      <td>woman</td>\n",
       "      <td>False</td>\n",
       "      <td>C</td>\n",
       "      <td>Southampton</td>\n",
       "      <td>yes</td>\n",
       "      <td>False</td>\n",
       "    </tr>\n",
       "    <tr>\n",
       "      <th>4</th>\n",
       "      <td>0</td>\n",
       "      <td>3</td>\n",
       "      <td>male</td>\n",
       "      <td>35.0</td>\n",
       "      <td>0</td>\n",
       "      <td>0</td>\n",
       "      <td>8.0500</td>\n",
       "      <td>S</td>\n",
       "      <td>Third</td>\n",
       "      <td>man</td>\n",
       "      <td>True</td>\n",
       "      <td>NaN</td>\n",
       "      <td>Southampton</td>\n",
       "      <td>no</td>\n",
       "      <td>True</td>\n",
       "    </tr>\n",
       "  </tbody>\n",
       "</table>\n",
       "</div>"
      ],
      "text/plain": [
       "   survived  pclass     sex   age  sibsp  parch     fare embarked  class  \\\n",
       "0         0       3    male  22.0      1      0   7.2500        S  Third   \n",
       "1         1       1  female  38.0      1      0  71.2833        C  First   \n",
       "2         1       3  female  26.0      0      0   7.9250        S  Third   \n",
       "3         1       1  female  35.0      1      0  53.1000        S  First   \n",
       "4         0       3    male  35.0      0      0   8.0500        S  Third   \n",
       "\n",
       "     who  adult_male deck  embark_town alive  alone  \n",
       "0    man        True  NaN  Southampton    no  False  \n",
       "1  woman       False    C    Cherbourg   yes  False  \n",
       "2  woman       False  NaN  Southampton   yes   True  \n",
       "3  woman       False    C  Southampton   yes  False  \n",
       "4    man        True  NaN  Southampton    no   True  "
      ]
     },
     "execution_count": 17,
     "metadata": {},
     "output_type": "execute_result"
    }
   ],
   "source": [
    "# IMPORTAMOS LA LIBRERÍA SEABORN \n",
    "import seaborn as sns\n",
    "# Cargamos los datos TITANIC\n",
    "datos3 = sns.load_dataset(\"titanic\")\n",
    "datos3.head()"
   ]
  },
  {
   "cell_type": "code",
   "execution_count": 18,
   "id": "70d1523b-77e0-4373-8657-13e1f749ee99",
   "metadata": {},
   "outputs": [
    {
     "data": {
      "text/html": [
       "<div>\n",
       "<style scoped>\n",
       "    .dataframe tbody tr th:only-of-type {\n",
       "        vertical-align: middle;\n",
       "    }\n",
       "\n",
       "    .dataframe tbody tr th {\n",
       "        vertical-align: top;\n",
       "    }\n",
       "\n",
       "    .dataframe thead th {\n",
       "        text-align: right;\n",
       "    }\n",
       "</style>\n",
       "<table border=\"1\" class=\"dataframe\">\n",
       "  <thead>\n",
       "    <tr style=\"text-align: right;\">\n",
       "      <th></th>\n",
       "      <th>Unnamed: 0</th>\n",
       "      <th>region</th>\n",
       "      <th>group</th>\n",
       "      <th>fertility</th>\n",
       "      <th>ppgdp</th>\n",
       "      <th>lifeExpF</th>\n",
       "      <th>pctUrban</th>\n",
       "    </tr>\n",
       "  </thead>\n",
       "  <tbody>\n",
       "    <tr>\n",
       "      <th>0</th>\n",
       "      <td>Afghanistan</td>\n",
       "      <td>Asia</td>\n",
       "      <td>other</td>\n",
       "      <td>5.968</td>\n",
       "      <td>499.0</td>\n",
       "      <td>49.49</td>\n",
       "      <td>23</td>\n",
       "    </tr>\n",
       "    <tr>\n",
       "      <th>1</th>\n",
       "      <td>Albania</td>\n",
       "      <td>Europe</td>\n",
       "      <td>other</td>\n",
       "      <td>1.525</td>\n",
       "      <td>3677.2</td>\n",
       "      <td>80.40</td>\n",
       "      <td>53</td>\n",
       "    </tr>\n",
       "    <tr>\n",
       "      <th>2</th>\n",
       "      <td>Algeria</td>\n",
       "      <td>Africa</td>\n",
       "      <td>africa</td>\n",
       "      <td>2.142</td>\n",
       "      <td>4473.0</td>\n",
       "      <td>75.00</td>\n",
       "      <td>67</td>\n",
       "    </tr>\n",
       "    <tr>\n",
       "      <th>3</th>\n",
       "      <td>Angola</td>\n",
       "      <td>Africa</td>\n",
       "      <td>africa</td>\n",
       "      <td>5.135</td>\n",
       "      <td>4321.9</td>\n",
       "      <td>53.17</td>\n",
       "      <td>59</td>\n",
       "    </tr>\n",
       "    <tr>\n",
       "      <th>4</th>\n",
       "      <td>Anguilla</td>\n",
       "      <td>Caribbean</td>\n",
       "      <td>other</td>\n",
       "      <td>2.000</td>\n",
       "      <td>13750.1</td>\n",
       "      <td>81.10</td>\n",
       "      <td>100</td>\n",
       "    </tr>\n",
       "  </tbody>\n",
       "</table>\n",
       "</div>"
      ],
      "text/plain": [
       "    Unnamed: 0     region   group  fertility    ppgdp  lifeExpF  pctUrban\n",
       "0  Afghanistan       Asia   other      5.968    499.0     49.49        23\n",
       "1      Albania     Europe   other      1.525   3677.2     80.40        53\n",
       "2      Algeria     Africa  africa      2.142   4473.0     75.00        67\n",
       "3       Angola     Africa  africa      5.135   4321.9     53.17        59\n",
       "4     Anguilla  Caribbean   other      2.000  13750.1     81.10       100"
      ]
     },
     "execution_count": 18,
     "metadata": {},
     "output_type": "execute_result"
    }
   ],
   "source": [
    "# USANDO EL ARCHIVO UN11 DE R\n",
    "UN11 = pd.read_csv(\"D:\\\\Documentos\\\\CONJUNTO DE DATOS\\\\UN11.csv\")\n",
    "UN11.head()"
   ]
  },
  {
   "cell_type": "code",
   "execution_count": 19,
   "id": "4eb4bcb7-36a5-4564-a2fa-c53ea8f89df1",
   "metadata": {},
   "outputs": [
    {
     "name": "stdout",
     "output_type": "stream",
     "text": [
      "                            OLS Regression Results                            \n",
      "==============================================================================\n",
      "Dep. Variable:              fertility   R-squared:                       0.520\n",
      "Model:                            OLS   Adj. R-squared:                  0.518\n",
      "Method:                 Least Squares   F-statistic:                     213.4\n",
      "Date:                Thu, 26 Aug 2021   Prob (F-statistic):           3.16e-33\n",
      "Time:                        21:04:56   Log-Likelihood:                -267.03\n",
      "No. Observations:                 199   AIC:                             538.1\n",
      "Df Residuals:                     197   BIC:                             544.6\n",
      "Df Model:                           1                                         \n",
      "Covariance Type:            nonrobust                                         \n",
      "==============================================================================\n",
      "                 coef    std err          t      P>|t|      [0.025      0.975]\n",
      "------------------------------------------------------------------------------\n",
      "Intercept      8.0097      0.365     21.927      0.000       7.289       8.730\n",
      "log_ppgdp     -0.6201      0.042    -14.608      0.000      -0.704      -0.536\n",
      "==============================================================================\n",
      "Omnibus:                        5.850   Durbin-Watson:                   2.171\n",
      "Prob(Omnibus):                  0.054   Jarque-Bera (JB):                5.477\n",
      "Skew:                           0.375   Prob(JB):                       0.0647\n",
      "Kurtosis:                       3.315   Cond. No.                         48.3\n",
      "==============================================================================\n",
      "\n",
      "Notes:\n",
      "[1] Standard Errors assume that the covariance matrix of the errors is correctly specified.\n"
     ]
    }
   ],
   "source": [
    "# Realizamos la regresión lineal simple fertility~log(ppgdp)\n",
    "log_ppgdp = np.log(UN11[\"ppgdp\"])\n",
    "m = smf.ols(formula = 'fertility ~log_ppgdp', data = UN11)\n",
    "m = m.fit()\n",
    "print(m.summary())"
   ]
  },
  {
   "cell_type": "code",
   "execution_count": 20,
   "id": "777c10a0-5536-48bb-a2bd-59f699c48e99",
   "metadata": {},
   "outputs": [
    {
     "name": "stdout",
     "output_type": "stream",
     "text": [
      "                            OLS Regression Results                            \n",
      "==============================================================================\n",
      "Dep. Variable:              fertility   R-squared:                       0.496\n",
      "Model:                            OLS   Adj. R-squared:                  0.492\n",
      "Method:                 Least Squares   F-statistic:                     154.2\n",
      "Date:                Thu, 26 Aug 2021   Prob (F-statistic):           4.20e-25\n",
      "Time:                        21:04:56   Log-Likelihood:                -238.91\n",
      "No. Observations:                 159   AIC:                             481.8\n",
      "Df Residuals:                     157   BIC:                             488.0\n",
      "Df Model:                           1                                         \n",
      "Covariance Type:            nonrobust                                         \n",
      "==============================================================================\n",
      "                 coef    std err          t      P>|t|      [0.025      0.975]\n",
      "------------------------------------------------------------------------------\n",
      "Intercept     10.7576      0.199     54.184      0.000      10.365      11.150\n",
      "log_ppgdp     -0.8237      0.066    -12.419      0.000      -0.955      -0.693\n",
      "==============================================================================\n",
      "Omnibus:                        0.266   Durbin-Watson:                   1.994\n",
      "Prob(Omnibus):                  0.876   Jarque-Bera (JB):                0.412\n",
      "Skew:                           0.071   Prob(JB):                        0.814\n",
      "Kurtosis:                       2.795   Cond. No.                         7.48\n",
      "==============================================================================\n",
      "\n",
      "Notes:\n",
      "[1] Standard Errors assume that the covariance matrix of the errors is correctly specified.\n"
     ]
    }
   ],
   "source": [
    "# Ahora, aplicando entretamiento y prueba\n",
    "\n",
    "# División de los datos en train y test\n",
    "# ==============================================================================\n",
    "X = UN11[\"fertility\"]\n",
    "y = np.log(UN11[\"ppgdp\"])\n",
    "X_train, X_test, y_train, y_test = train_test_split(\n",
    "                                        X.values.reshape(-1,1), # se debe pasar a un array\n",
    "                                        y.values.reshape(-1,1),\n",
    "                                        train_size   = 0.8, # entrenamiento se ocupará el 80% y la prueba 20%\n",
    "                                        random_state = 1234,\n",
    "                                        shuffle      = True\n",
    "                                    )\n",
    "# Creación del modelo utilizando el modo fórmula (similar a R)\n",
    "# ==============================================================================\n",
    "datos_train = pd.DataFrame(np.hstack((X_train, y_train)), columns=[\"log_ppgdp\", \"fertility\"])\n",
    "ml = smf.ols(formula = 'fertility ~log_ppgdp', data = datos_train)\n",
    "ml = ml.fit()\n",
    "print(ml.summary())"
   ]
  },
  {
   "cell_type": "code",
   "execution_count": 21,
   "id": "f24b2784-658b-4eef-bb04-5bbb2700c4f9",
   "metadata": {},
   "outputs": [],
   "source": [
    "# NOTEMOS QUE SIN DIVIDIR EL DATASET EN TEST Y TRAIN OBTENEMOS UN R2 = 0.52 Y DIVIDIENDO LOS DATOS OBTENEMOS UN R2 = 0.49, SIN EMBARGO"
   ]
  },
  {
   "cell_type": "code",
   "execution_count": 23,
   "id": "076154e8-7b37-4208-99e4-04ab95f4df00",
   "metadata": {},
   "outputs": [
    {
     "data": {
      "text/html": [
       "<div>\n",
       "<style scoped>\n",
       "    .dataframe tbody tr th:only-of-type {\n",
       "        vertical-align: middle;\n",
       "    }\n",
       "\n",
       "    .dataframe tbody tr th {\n",
       "        vertical-align: top;\n",
       "    }\n",
       "\n",
       "    .dataframe thead th {\n",
       "        text-align: right;\n",
       "    }\n",
       "</style>\n",
       "<table border=\"1\" class=\"dataframe\">\n",
       "  <thead>\n",
       "    <tr style=\"text-align: right;\">\n",
       "      <th></th>\n",
       "      <th>fertility</th>\n",
       "      <th>ppgdp</th>\n",
       "      <th>lifeExpF</th>\n",
       "      <th>pctUrban</th>\n",
       "    </tr>\n",
       "  </thead>\n",
       "  <tbody>\n",
       "    <tr>\n",
       "      <th>fertility</th>\n",
       "      <td>1.000000</td>\n",
       "      <td>-0.439989</td>\n",
       "      <td>-0.823588</td>\n",
       "      <td>-0.542985</td>\n",
       "    </tr>\n",
       "    <tr>\n",
       "      <th>ppgdp</th>\n",
       "      <td>-0.439989</td>\n",
       "      <td>1.000000</td>\n",
       "      <td>0.548960</td>\n",
       "      <td>0.598309</td>\n",
       "    </tr>\n",
       "    <tr>\n",
       "      <th>lifeExpF</th>\n",
       "      <td>-0.823588</td>\n",
       "      <td>0.548960</td>\n",
       "      <td>1.000000</td>\n",
       "      <td>0.601332</td>\n",
       "    </tr>\n",
       "    <tr>\n",
       "      <th>pctUrban</th>\n",
       "      <td>-0.542985</td>\n",
       "      <td>0.598309</td>\n",
       "      <td>0.601332</td>\n",
       "      <td>1.000000</td>\n",
       "    </tr>\n",
       "  </tbody>\n",
       "</table>\n",
       "</div>"
      ],
      "text/plain": [
       "           fertility     ppgdp  lifeExpF  pctUrban\n",
       "fertility   1.000000 -0.439989 -0.823588 -0.542985\n",
       "ppgdp      -0.439989  1.000000  0.548960  0.598309\n",
       "lifeExpF   -0.823588  0.548960  1.000000  0.601332\n",
       "pctUrban   -0.542985  0.598309  0.601332  1.000000"
      ]
     },
     "execution_count": 23,
     "metadata": {},
     "output_type": "execute_result"
    }
   ],
   "source": [
    "# MATRIZ DE CORRELACIONES PARA UN11\n",
    "matriz_corr = UN11.corr()\n",
    "matriz_corr"
   ]
  },
  {
   "cell_type": "code",
   "execution_count": 42,
   "id": "7b137964-706e-4566-9e38-7b81b034c806",
   "metadata": {},
   "outputs": [
    {
     "data": {
      "text/plain": [
       "<AxesSubplot:>"
      ]
     },
     "execution_count": 42,
     "metadata": {},
     "output_type": "execute_result"
    },
    {
     "data": {
      "image/png": "[encoded data removed]",
      "text/plain": [
       "<Figure size 432x288 with 2 Axes>"
      ]
     },
     "metadata": {},
     "output_type": "display_data"
    }
   ],
   "source": [
    "sns.heatmap(matriz_corr, annot=True, cmap = sns.diverging_palette(20, 220, n=200))"
   ]
  },
  {
   "cell_type": "code",
   "execution_count": null,
   "id": "43a6d55a-d682-43df-bf3c-735652d728cb",
   "metadata": {},
   "outputs": [],
   "source": []
  }
 ],
 "metadata": {
  "kernelspec": {
   "display_name": "Python 3 (ipykernel)",
   "language": "python",
   "name": "python3"
  },
  "language_info": {
   "codemirror_mode": {
    "name": "ipython",
    "version": 3
   },
   "file_extension": ".py",
   "mimetype": "text/x-python",
   "name": "python",
   "nbconvert_exporter": "python",
   "pygments_lexer": "ipython3",
   "version": "3.8.11"
  }
 },
 "nbformat": 4,
 "nbformat_minor": 5
}
