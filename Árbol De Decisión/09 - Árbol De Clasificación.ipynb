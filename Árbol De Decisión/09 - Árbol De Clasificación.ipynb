{
 "cells": [
  {
   "cell_type": "markdown",
   "id": "e9d05291-bbb6-4b51-8a4d-ac854be0c2d6",
   "metadata": {},
   "source": [
    "# Árbol De Clasificación\n",
    "\n",
    "\n",
    "Los árboles de regresión son el subtipo de árboles de predicción que se aplica cuando la variable respuesta es categórica.  \n",
    "  \n",
    "Para construir un árbol de clasificación, se emplea el mismo método recursive binary splitting descrito en los árboles de regresión. Sin embargo, como la variable respuesta en cualitativa, no se puede emplear el RSS como criterio de selección de las divisiones óptimas. Existen varias alternativas, todas ellas con el objetivo de encontrar nodos lo más puros/homogéneos posible. Las más empleadas son:  \n",
    "* CLASSIFICATION ERROR RATE.  \n",
    "* GINI INDEX.  \n",
    "* INFORMATION GAIN: CROSS ENTROPY.  \n",
    "* CHI-SQUARE.  \n",
    "  \n",
    "  \n",
    " "
   ]
  },
  {
   "cell_type": "markdown",
   "id": "a311d583-aae9-44f7-abb4-5d72265cd565",
   "metadata": {},
   "source": [
    "# Datos"
   ]
  },
  {
   "cell_type": "code",
   "execution_count": 1,
   "id": "01db7f3e-a30b-43ab-9069-aff3fe23681c",
   "metadata": {},
   "outputs": [],
   "source": [
    "import pandas as pd\n",
    "import numpy as np"
   ]
  },
  {
   "cell_type": "code",
   "execution_count": 2,
   "id": "36e1a8a3-db32-4b4e-a439-2fc5b2b7fc7c",
   "metadata": {},
   "outputs": [
    {
     "data": {
      "text/html": [
       "<div>\n",
       "<style scoped>\n",
       "    .dataframe tbody tr th:only-of-type {\n",
       "        vertical-align: middle;\n",
       "    }\n",
       "\n",
       "    .dataframe tbody tr th {\n",
       "        vertical-align: top;\n",
       "    }\n",
       "\n",
       "    .dataframe thead th {\n",
       "        text-align: right;\n",
       "    }\n",
       "</style>\n",
       "<table border=\"1\" class=\"dataframe\">\n",
       "  <thead>\n",
       "    <tr style=\"text-align: right;\">\n",
       "      <th></th>\n",
       "      <th>Sales</th>\n",
       "      <th>CompPrice</th>\n",
       "      <th>Income</th>\n",
       "      <th>Advertising</th>\n",
       "      <th>Population</th>\n",
       "      <th>Price</th>\n",
       "      <th>ShelveLoc</th>\n",
       "      <th>Age</th>\n",
       "      <th>Education</th>\n",
       "      <th>Urban</th>\n",
       "      <th>US</th>\n",
       "    </tr>\n",
       "  </thead>\n",
       "  <tbody>\n",
       "    <tr>\n",
       "      <th>0</th>\n",
       "      <td>9.50</td>\n",
       "      <td>138</td>\n",
       "      <td>73</td>\n",
       "      <td>11</td>\n",
       "      <td>276</td>\n",
       "      <td>120</td>\n",
       "      <td>Bad</td>\n",
       "      <td>42</td>\n",
       "      <td>17</td>\n",
       "      <td>Yes</td>\n",
       "      <td>Yes</td>\n",
       "    </tr>\n",
       "    <tr>\n",
       "      <th>1</th>\n",
       "      <td>11.22</td>\n",
       "      <td>111</td>\n",
       "      <td>48</td>\n",
       "      <td>16</td>\n",
       "      <td>260</td>\n",
       "      <td>83</td>\n",
       "      <td>Good</td>\n",
       "      <td>65</td>\n",
       "      <td>10</td>\n",
       "      <td>Yes</td>\n",
       "      <td>Yes</td>\n",
       "    </tr>\n",
       "    <tr>\n",
       "      <th>2</th>\n",
       "      <td>10.06</td>\n",
       "      <td>113</td>\n",
       "      <td>35</td>\n",
       "      <td>10</td>\n",
       "      <td>269</td>\n",
       "      <td>80</td>\n",
       "      <td>Medium</td>\n",
       "      <td>59</td>\n",
       "      <td>12</td>\n",
       "      <td>Yes</td>\n",
       "      <td>Yes</td>\n",
       "    </tr>\n",
       "    <tr>\n",
       "      <th>3</th>\n",
       "      <td>7.40</td>\n",
       "      <td>117</td>\n",
       "      <td>100</td>\n",
       "      <td>4</td>\n",
       "      <td>466</td>\n",
       "      <td>97</td>\n",
       "      <td>Medium</td>\n",
       "      <td>55</td>\n",
       "      <td>14</td>\n",
       "      <td>Yes</td>\n",
       "      <td>Yes</td>\n",
       "    </tr>\n",
       "    <tr>\n",
       "      <th>4</th>\n",
       "      <td>4.15</td>\n",
       "      <td>141</td>\n",
       "      <td>64</td>\n",
       "      <td>3</td>\n",
       "      <td>340</td>\n",
       "      <td>128</td>\n",
       "      <td>Bad</td>\n",
       "      <td>38</td>\n",
       "      <td>13</td>\n",
       "      <td>Yes</td>\n",
       "      <td>No</td>\n",
       "    </tr>\n",
       "  </tbody>\n",
       "</table>\n",
       "</div>"
      ],
      "text/plain": [
       "   Sales  CompPrice  Income  Advertising  Population  Price ShelveLoc  Age  \\\n",
       "0   9.50        138      73           11         276    120       Bad   42   \n",
       "1  11.22        111      48           16         260     83      Good   65   \n",
       "2  10.06        113      35           10         269     80    Medium   59   \n",
       "3   7.40        117     100            4         466     97    Medium   55   \n",
       "4   4.15        141      64            3         340    128       Bad   38   \n",
       "\n",
       "   Education Urban   US  \n",
       "0         17   Yes  Yes  \n",
       "1         10   Yes  Yes  \n",
       "2         12   Yes  Yes  \n",
       "3         14   Yes  Yes  \n",
       "4         13   Yes   No  "
      ]
     },
     "execution_count": 2,
     "metadata": {},
     "output_type": "execute_result"
    }
   ],
   "source": [
    "carseats = pd.read_csv('Carseats.csv')\n",
    "datos = carseats.iloc[:,1:]\n",
    "datos.head()"
   ]
  },
  {
   "cell_type": "markdown",
   "id": "add968cb-e190-4814-91cf-d746459370e6",
   "metadata": {},
   "source": [
    "El set de datos Carseats, contiene información sobre la venta de sillas infantiles en 400 tiendas distintas. Para cada una de las 400 tiendas se han registrado 11 variables. Se pretende generar un modelo de clasificación que permita predecir si una tienda tiene ventas altas (Sales > 8) o bajas (Sales <= 8) en función de todas las variables disponibles.  \n",
    "Como Sales es una variable continua y el objetivo del estudio es clasificar las tiendas según si venden mucho o poco, se crea una nueva variable binaria (0, 1) llamada ventas_altas."
   ]
  },
  {
   "cell_type": "code",
   "execution_count": 3,
   "id": "1a92b532-b253-489c-9c01-ff63e30f8cfc",
   "metadata": {},
   "outputs": [
    {
     "data": {
      "text/html": [
       "<div>\n",
       "<style scoped>\n",
       "    .dataframe tbody tr th:only-of-type {\n",
       "        vertical-align: middle;\n",
       "    }\n",
       "\n",
       "    .dataframe tbody tr th {\n",
       "        vertical-align: top;\n",
       "    }\n",
       "\n",
       "    .dataframe thead th {\n",
       "        text-align: right;\n",
       "    }\n",
       "</style>\n",
       "<table border=\"1\" class=\"dataframe\">\n",
       "  <thead>\n",
       "    <tr style=\"text-align: right;\">\n",
       "      <th></th>\n",
       "      <th>CompPrice</th>\n",
       "      <th>Income</th>\n",
       "      <th>Advertising</th>\n",
       "      <th>Population</th>\n",
       "      <th>Price</th>\n",
       "      <th>ShelveLoc</th>\n",
       "      <th>Age</th>\n",
       "      <th>Education</th>\n",
       "      <th>Urban</th>\n",
       "      <th>US</th>\n",
       "      <th>ventas_altas</th>\n",
       "    </tr>\n",
       "  </thead>\n",
       "  <tbody>\n",
       "    <tr>\n",
       "      <th>0</th>\n",
       "      <td>138</td>\n",
       "      <td>73</td>\n",
       "      <td>11</td>\n",
       "      <td>276</td>\n",
       "      <td>120</td>\n",
       "      <td>Bad</td>\n",
       "      <td>42</td>\n",
       "      <td>17</td>\n",
       "      <td>Yes</td>\n",
       "      <td>Yes</td>\n",
       "      <td>0</td>\n",
       "    </tr>\n",
       "    <tr>\n",
       "      <th>1</th>\n",
       "      <td>111</td>\n",
       "      <td>48</td>\n",
       "      <td>16</td>\n",
       "      <td>260</td>\n",
       "      <td>83</td>\n",
       "      <td>Good</td>\n",
       "      <td>65</td>\n",
       "      <td>10</td>\n",
       "      <td>Yes</td>\n",
       "      <td>Yes</td>\n",
       "      <td>0</td>\n",
       "    </tr>\n",
       "    <tr>\n",
       "      <th>2</th>\n",
       "      <td>113</td>\n",
       "      <td>35</td>\n",
       "      <td>10</td>\n",
       "      <td>269</td>\n",
       "      <td>80</td>\n",
       "      <td>Medium</td>\n",
       "      <td>59</td>\n",
       "      <td>12</td>\n",
       "      <td>Yes</td>\n",
       "      <td>Yes</td>\n",
       "      <td>0</td>\n",
       "    </tr>\n",
       "    <tr>\n",
       "      <th>3</th>\n",
       "      <td>117</td>\n",
       "      <td>100</td>\n",
       "      <td>4</td>\n",
       "      <td>466</td>\n",
       "      <td>97</td>\n",
       "      <td>Medium</td>\n",
       "      <td>55</td>\n",
       "      <td>14</td>\n",
       "      <td>Yes</td>\n",
       "      <td>Yes</td>\n",
       "      <td>1</td>\n",
       "    </tr>\n",
       "    <tr>\n",
       "      <th>4</th>\n",
       "      <td>141</td>\n",
       "      <td>64</td>\n",
       "      <td>3</td>\n",
       "      <td>340</td>\n",
       "      <td>128</td>\n",
       "      <td>Bad</td>\n",
       "      <td>38</td>\n",
       "      <td>13</td>\n",
       "      <td>Yes</td>\n",
       "      <td>No</td>\n",
       "      <td>1</td>\n",
       "    </tr>\n",
       "  </tbody>\n",
       "</table>\n",
       "</div>"
      ],
      "text/plain": [
       "   CompPrice  Income  Advertising  Population  Price ShelveLoc  Age  \\\n",
       "0        138      73           11         276    120       Bad   42   \n",
       "1        111      48           16         260     83      Good   65   \n",
       "2        113      35           10         269     80    Medium   59   \n",
       "3        117     100            4         466     97    Medium   55   \n",
       "4        141      64            3         340    128       Bad   38   \n",
       "\n",
       "   Education Urban   US  ventas_altas  \n",
       "0         17   Yes  Yes             0  \n",
       "1         10   Yes  Yes             0  \n",
       "2         12   Yes  Yes             0  \n",
       "3         14   Yes  Yes             1  \n",
       "4         13   Yes   No             1  "
      ]
     },
     "execution_count": 3,
     "metadata": {},
     "output_type": "execute_result"
    }
   ],
   "source": [
    "# Ponemos a ventas mayores a 8 igual a 0 y menores iguales a 1\n",
    "datos['ventas_altas'] = np.where(datos.Sales > 8, 0, 1)\n",
    "# Una vez creada la nueva variable respuesta se descarta la original\n",
    "data = datos.drop(columns = 'Sales')\n",
    "data.head()"
   ]
  },
  {
   "cell_type": "markdown",
   "id": "e99df3ac-f9ad-42b2-ab19-57af953dd61a",
   "metadata": {},
   "source": [
    "# Ajuste Del Modelo\n",
    "\n",
    "Se ajusta un árbol de clasificación empleando como variable respuesta ventas_altas y como predictores todas las variables disponibles. Se utilizan en primer lugar los hiperparámetros max_depth=5 y criterion='gini', el resto se dejan por defecto. Después, se aplica el proceso de pruning y se comparan los resultados frente al modelo inicial.\n",
    "\n",
    "A diferencia del ejemplo anterior, en estos datos hay variables categóricas por lo que, antes de entrenar el modelo, es necesario aplicar one-hot-encoding. Puede encontrarse una descripción más detallada de este proceso en Machine learning con Python y Scikit-learn."
   ]
  },
  {
   "cell_type": "markdown",
   "id": "43d39ba2-d67b-4e01-965d-8f53f7e4d7b2",
   "metadata": {},
   "source": [
    "## División de los datos en train y test"
   ]
  },
  {
   "cell_type": "code",
   "execution_count": 4,
   "id": "7cbb0a28-bd28-40d9-85f8-eeea086d910b",
   "metadata": {},
   "outputs": [],
   "source": [
    "from sklearn.model_selection import train_test_split"
   ]
  },
  {
   "cell_type": "code",
   "execution_count": 5,
   "id": "27f824fa-856d-4de6-b824-fbe389ba5209",
   "metadata": {},
   "outputs": [],
   "source": [
    "# División de los datos en train y test\n",
    "# ------------------------------------------------------------------------------\n",
    "X_train, X_test, y_train, y_test = train_test_split(\n",
    "    data.drop(columns = 'ventas_altas'),\n",
    "    data['ventas_altas'],\n",
    "    random_state = 123)"
   ]
  },
  {
   "cell_type": "markdown",
   "id": "8e7db6b8-699a-42a3-bdf2-94e2a61c6bff",
   "metadata": {},
   "source": [
    "## Separación de columnas numéricas y categóricas"
   ]
  },
  {
   "cell_type": "code",
   "execution_count": 6,
   "id": "41ae346b-f764-45fe-8dbc-fb392abee99c",
   "metadata": {},
   "outputs": [],
   "source": [
    "# One-hot-encoding de las variables categóricas\n",
    "# ------------------------------------------------------------------------------\n",
    "# Se identifica el nombre de las columnas numéricas y categóricas\n",
    "cat_cols = X_train.select_dtypes(include=['object', 'category']).columns.to_list()\n",
    "numeric_cols = X_train.select_dtypes(include=['float64', 'int']).columns.to_list()"
   ]
  },
  {
   "cell_type": "code",
   "execution_count": 7,
   "id": "14ac109a-9f92-4cfb-b739-adb82049eeee",
   "metadata": {},
   "outputs": [
    {
     "data": {
      "text/plain": [
       "['ShelveLoc', 'Urban', 'US']"
      ]
     },
     "execution_count": 7,
     "metadata": {},
     "output_type": "execute_result"
    }
   ],
   "source": [
    "cat_cols # Columnas categóricas"
   ]
  },
  {
   "cell_type": "code",
   "execution_count": 8,
   "id": "b23999bf-10ab-49e6-b376-7937198c0463",
   "metadata": {},
   "outputs": [
    {
     "data": {
      "text/plain": [
       "['CompPrice',\n",
       " 'Income',\n",
       " 'Advertising',\n",
       " 'Population',\n",
       " 'Price',\n",
       " 'Age',\n",
       " 'Education']"
      ]
     },
     "execution_count": 8,
     "metadata": {},
     "output_type": "execute_result"
    }
   ],
   "source": [
    "numeric_cols # Columnas numéricas"
   ]
  },
  {
   "cell_type": "markdown",
   "id": "e997dd80-6b0f-4c43-8454-e7b9dac5bb16",
   "metadata": {},
   "source": [
    "## One-hot-encoding"
   ]
  },
  {
   "cell_type": "code",
   "execution_count": 9,
   "id": "7be8f71b-e861-4a94-87df-f9eab0d01247",
   "metadata": {},
   "outputs": [],
   "source": [
    "from sklearn.compose import ColumnTransformer\n",
    "from sklearn.preprocessing import OneHotEncoder"
   ]
  },
  {
   "cell_type": "code",
   "execution_count": 10,
   "id": "5124da5b-a62d-468f-a815-126871a4e95f",
   "metadata": {},
   "outputs": [],
   "source": [
    "# Se aplica one-hot-encoding solo a las columnas categóricas\n",
    "preprocessor = ColumnTransformer(\n",
    "    [('onehot', OneHotEncoder(handle_unknown='ignore'), cat_cols)],\n",
    "    remainder='passthrough')"
   ]
  },
  {
   "cell_type": "code",
   "execution_count": 11,
   "id": "276f5935-e117-4f32-9f0b-ec0901bd1cfc",
   "metadata": {},
   "outputs": [
    {
     "data": {
      "text/plain": [
       "ColumnTransformer(remainder='passthrough',\n",
       "                  transformers=[('onehot',\n",
       "                                 OneHotEncoder(handle_unknown='ignore'),\n",
       "                                 ['ShelveLoc', 'Urban', 'US'])])"
      ]
     },
     "execution_count": 11,
     "metadata": {},
     "output_type": "execute_result"
    }
   ],
   "source": [
    "preprocessor"
   ]
  },
  {
   "cell_type": "code",
   "execution_count": 12,
   "id": "4571e919-c89e-4d12-b196-2b8a0be1a33f",
   "metadata": {},
   "outputs": [],
   "source": [
    "# Una vez que se ha definido el objeto ColumnTransformer, con el método fit()\n",
    "# se aprenden las transformaciones con los datos de entrenamiento y se aplican a\n",
    "# los dos conjuntos con transform(). Ambas operaciones a la vez con fit_transform().\n",
    "X_train_prep = preprocessor.fit_transform(X_train)\n",
    "X_test_prep = preprocessor.transform(X_test)"
   ]
  },
  {
   "cell_type": "code",
   "execution_count": 13,
   "id": "c6c92162-a6a3-447b-ae7a-9dc7b2f84a07",
   "metadata": {},
   "outputs": [
    {
     "data": {
      "text/html": [
       "<div>\n",
       "<style scoped>\n",
       "    .dataframe tbody tr th:only-of-type {\n",
       "        vertical-align: middle;\n",
       "    }\n",
       "\n",
       "    .dataframe tbody tr th {\n",
       "        vertical-align: top;\n",
       "    }\n",
       "\n",
       "    .dataframe thead th {\n",
       "        text-align: right;\n",
       "    }\n",
       "</style>\n",
       "<table border=\"1\" class=\"dataframe\">\n",
       "  <thead>\n",
       "    <tr style=\"text-align: right;\">\n",
       "      <th></th>\n",
       "      <th>CompPrice</th>\n",
       "      <th>Income</th>\n",
       "      <th>Advertising</th>\n",
       "      <th>Population</th>\n",
       "      <th>Price</th>\n",
       "      <th>ShelveLoc</th>\n",
       "      <th>Age</th>\n",
       "      <th>Education</th>\n",
       "      <th>Urban</th>\n",
       "      <th>US</th>\n",
       "    </tr>\n",
       "  </thead>\n",
       "  <tbody>\n",
       "    <tr>\n",
       "      <th>170</th>\n",
       "      <td>128</td>\n",
       "      <td>39</td>\n",
       "      <td>12</td>\n",
       "      <td>356</td>\n",
       "      <td>118</td>\n",
       "      <td>Medium</td>\n",
       "      <td>71</td>\n",
       "      <td>10</td>\n",
       "      <td>Yes</td>\n",
       "      <td>Yes</td>\n",
       "    </tr>\n",
       "    <tr>\n",
       "      <th>297</th>\n",
       "      <td>118</td>\n",
       "      <td>83</td>\n",
       "      <td>13</td>\n",
       "      <td>276</td>\n",
       "      <td>104</td>\n",
       "      <td>Bad</td>\n",
       "      <td>75</td>\n",
       "      <td>10</td>\n",
       "      <td>Yes</td>\n",
       "      <td>Yes</td>\n",
       "    </tr>\n",
       "    <tr>\n",
       "      <th>148</th>\n",
       "      <td>110</td>\n",
       "      <td>119</td>\n",
       "      <td>0</td>\n",
       "      <td>384</td>\n",
       "      <td>97</td>\n",
       "      <td>Medium</td>\n",
       "      <td>72</td>\n",
       "      <td>14</td>\n",
       "      <td>No</td>\n",
       "      <td>Yes</td>\n",
       "    </tr>\n",
       "  </tbody>\n",
       "</table>\n",
       "</div>"
      ],
      "text/plain": [
       "     CompPrice  Income  Advertising  Population  Price ShelveLoc  Age  \\\n",
       "170        128      39           12         356    118    Medium   71   \n",
       "297        118      83           13         276    104       Bad   75   \n",
       "148        110     119            0         384     97    Medium   72   \n",
       "\n",
       "     Education Urban   US  \n",
       "170         10   Yes  Yes  \n",
       "297         10   Yes  Yes  \n",
       "148         14    No  Yes  "
      ]
     },
     "execution_count": 13,
     "metadata": {},
     "output_type": "execute_result"
    }
   ],
   "source": [
    "X_train.head(3)"
   ]
  },
  {
   "cell_type": "code",
   "execution_count": 14,
   "id": "ad8a8b6d-554b-492b-b71f-7a7fbbadcc81",
   "metadata": {},
   "outputs": [
    {
     "data": {
      "text/plain": [
       "array([[  0.,   0.,   1., ..., 118.,  71.,  10.],\n",
       "       [  1.,   0.,   0., ..., 104.,  75.,  10.],\n",
       "       [  0.,   0.,   1., ...,  97.,  72.,  14.],\n",
       "       ...,\n",
       "       [  0.,   1.,   0., ..., 139.,  60.,  15.],\n",
       "       [  0.,   0.,   1., ..., 121.,  66.,  14.],\n",
       "       [  0.,   0.,   1., ..., 162.,  57.,  17.]])"
      ]
     },
     "execution_count": 14,
     "metadata": {},
     "output_type": "execute_result"
    }
   ],
   "source": [
    "X_train_prep"
   ]
  },
  {
   "cell_type": "markdown",
   "id": "18017b1f-0f42-49c9-a566-0488639241dd",
   "metadata": {},
   "source": [
    "El resultado devuelto por ColumnTransformer es un numpy array , por lo que se pierden los\n",
    "nombres de las columnas. Suele ser interesante poder inspeccionar cómo queda el set de datos tras\n",
    "el preprocesado en formato dataframe . Por defecto, OneHotEncoder ordena las nuevas\n",
    "columnas de izquierda a derecha por orden alfabético."
   ]
  },
  {
   "cell_type": "code",
   "execution_count": 33,
   "id": "7569b1d5-372c-4727-b827-5f61cbb34839",
   "metadata": {},
   "outputs": [
    {
     "name": "stdout",
     "output_type": "stream",
     "text": [
      "<class 'pandas.core.frame.DataFrame'>\n",
      "RangeIndex: 300 entries, 0 to 299\n",
      "Data columns (total 14 columns):\n",
      " #   Column            Non-Null Count  Dtype  \n",
      "---  ------            --------------  -----  \n",
      " 0   CompPrice         300 non-null    float64\n",
      " 1   Income            300 non-null    float64\n",
      " 2   Advertising       300 non-null    float64\n",
      " 3   Population        300 non-null    float64\n",
      " 4   Price             300 non-null    float64\n",
      " 5   Age               300 non-null    float64\n",
      " 6   Education         300 non-null    float64\n",
      " 7   ShelveLoc_Bad     300 non-null    float64\n",
      " 8   ShelveLoc_Good    300 non-null    float64\n",
      " 9   ShelveLoc_Medium  300 non-null    float64\n",
      " 10  Urban_No          300 non-null    float64\n",
      " 11  Urban_Yes         300 non-null    float64\n",
      " 12  US_No             300 non-null    float64\n",
      " 13  US_Yes            300 non-null    float64\n",
      "dtypes: float64(14)\n",
      "memory usage: 32.9 KB\n"
     ]
    }
   ],
   "source": [
    "# Convertir el output del ColumnTransformer en dataframe y añadir el nombre de las columnas\n",
    "# ------------------------------------------------------------------------------\n",
    "# Nombre de todas las columnas\n",
    "encoded_cat = preprocessor.named_transformers_['onehot'].get_feature_names_out(cat_cols)\n",
    "labels = np.concatenate([numeric_cols, encoded_cat])\n",
    "# Conversión a dataframe\n",
    "X_train_prep = pd.DataFrame(X_train_prep, columns=labels)\n",
    "X_test_prep = pd.DataFrame(X_test_prep, columns=labels)\n",
    "X_train_prep.info()"
   ]
  },
  {
   "cell_type": "markdown",
   "id": "1c0fc373-c9d6-4c09-9972-fe56a77f0abe",
   "metadata": {},
   "source": [
    "## Creación Del Modelo"
   ]
  },
  {
   "cell_type": "code",
   "execution_count": 16,
   "id": "24f67646-43e8-458f-87f9-d5b1e0ff5061",
   "metadata": {},
   "outputs": [],
   "source": [
    "from sklearn.tree import DecisionTreeClassifier"
   ]
  },
  {
   "cell_type": "code",
   "execution_count": 17,
   "id": "d166e770-fa19-435d-8cc5-7e98f77a0319",
   "metadata": {},
   "outputs": [
    {
     "data": {
      "text/plain": [
       "DecisionTreeClassifier(max_depth=5, random_state=123)"
      ]
     },
     "execution_count": 17,
     "metadata": {},
     "output_type": "execute_result"
    }
   ],
   "source": [
    "# Creación del modelo\n",
    "# ------------------------------------------------------------------------------\n",
    "modelo = DecisionTreeClassifier(max_depth = 5,\n",
    "                                criterion = 'gini',\n",
    "                                random_state = 123)\n",
    "# Entrenamiento del modelo\n",
    "# ------------------------------------------------------------------------------\n",
    "modelo.fit(X_train_prep, y_train)"
   ]
  },
  {
   "cell_type": "markdown",
   "id": "f5506754-7bc9-4348-a8ef-c6dafe95c7c6",
   "metadata": {},
   "source": [
    "## Visualización Del Árbol"
   ]
  },
  {
   "cell_type": "code",
   "execution_count": 18,
   "id": "68701da4-5391-4f29-be76-67aef8a58e71",
   "metadata": {},
   "outputs": [],
   "source": [
    "import matplotlib.pyplot as plt\n",
    "from sklearn.tree import plot_tree"
   ]
  },
  {
   "cell_type": "code",
   "execution_count": 19,
   "id": "030fdbe3-4710-4728-a899-ee38e5662920",
   "metadata": {},
   "outputs": [
    {
     "name": "stdout",
     "output_type": "stream",
     "text": [
      "Profundidad del árbol: 5\n",
      "Número de nodos terminales: 23\n"
     ]
    },
    {
     "data": {
      "image/png": "[encoded data removed]",
      "text/plain": [
       "<Figure size 1800x720 with 1 Axes>"
      ]
     },
     "metadata": {
      "needs_background": "light"
     },
     "output_type": "display_data"
    }
   ],
   "source": [
    "# Estructura del árbol creado\n",
    "# ------------------------------------------------------------------------------\n",
    "fig, ax = plt.subplots(figsize=(25, 10))\n",
    "print(f\"Profundidad del árbol: {modelo.get_depth()}\")\n",
    "print(f\"Número de nodos terminales: {modelo.get_n_leaves()}\")\n",
    "plot = plot_tree(decision_tree = modelo,\n",
    "                 feature_names = labels.tolist(),\n",
    "                 class_names = 'ventas_altas',\n",
    "                 filled = True,\n",
    "                 impurity = False,\n",
    "                 fontsize = 7,\n",
    "                 ax = ax)"
   ]
  },
  {
   "cell_type": "markdown",
   "id": "bb2bb552-34d0-42b2-96f8-34a42741e02f",
   "metadata": {},
   "source": [
    "# Predicción Y Evaluación Del Modelo\n",
    "\n",
    "\n",
    "Se evalúa la capacidad predictiva del árbol inicial calculando el accuracy en el conjunto de test.\n"
   ]
  },
  {
   "cell_type": "code",
   "execution_count": 20,
   "id": "dff6b6d0-6b66-441f-a8b7-138d88044c8b",
   "metadata": {},
   "outputs": [],
   "source": [
    "from sklearn.metrics import confusion_matrix"
   ]
  },
  {
   "cell_type": "code",
   "execution_count": 21,
   "id": "0f8d019e-782f-48a2-ba2d-c7a63b7d50f3",
   "metadata": {},
   "outputs": [
    {
     "name": "stdout",
     "output_type": "stream",
     "text": [
      "Matriz de confusión\n",
      "-------------------\n"
     ]
    },
    {
     "data": {
      "text/plain": [
       "array([[29, 21],\n",
       "       [ 7, 43]], dtype=int64)"
      ]
     },
     "execution_count": 21,
     "metadata": {},
     "output_type": "execute_result"
    }
   ],
   "source": [
    "# Error de test del modelo\n",
    "#-------------------------------------------------------------------------------\n",
    "predicciones = modelo.predict(X = X_test_prep,)\n",
    "print(\"Matriz de confusión\")\n",
    "print(\"-------------------\")\n",
    "confusion_matrix(y_true = y_test,\n",
    "                 y_pred = predicciones)\n"
   ]
  },
  {
   "cell_type": "code",
   "execution_count": 22,
   "id": "5b6c961a-2bd2-4619-88b3-08f71301efb6",
   "metadata": {},
   "outputs": [],
   "source": [
    "from sklearn.metrics import accuracy_score"
   ]
  },
  {
   "cell_type": "code",
   "execution_count": 23,
   "id": "36368393-1db0-435f-8f55-f5c77671d7fa",
   "metadata": {},
   "outputs": [
    {
     "name": "stdout",
     "output_type": "stream",
     "text": [
      "El accuracy de test es: 72.0 %\n"
     ]
    }
   ],
   "source": [
    "# Acuraccy\n",
    "accuracy = accuracy_score(y_true = y_test, \n",
    "                          y_pred = predicciones,\n",
    "                          normalize = True)\n",
    "\n",
    "print(f\"El accuracy de test es: {100 * accuracy} %\")"
   ]
  },
  {
   "cell_type": "markdown",
   "id": "7e5f1b5f-4864-4a74-a7d6-51021c216f55",
   "metadata": {},
   "source": [
    "El modelo inicial es capaz de predecir correctamente un 72 % de las observaciones del conjunto de\n",
    "test.\n"
   ]
  },
  {
   "cell_type": "markdown",
   "id": "aee33870-8cab-4573-8718-ba90ef667c46",
   "metadata": {},
   "source": [
    "# Podado el Árbol (Prunning)\n",
    "\n",
    "Aunque inicialmente se ha empleado un valor de max_depth=5 , este no tiene por qué ser el mejor valor. Con el objetivo de identificar la profundidad óptima que consigue reducir la varianza y aumentar la capacidad predictiva del modelo, se somete al árbol a un proceso de pruning."
   ]
  },
  {
   "cell_type": "code",
   "execution_count": 24,
   "id": "3b05edf6-e86c-4dce-aa3b-181df93acf66",
   "metadata": {},
   "outputs": [],
   "source": [
    "from sklearn.model_selection import GridSearchCV"
   ]
  },
  {
   "cell_type": "code",
   "execution_count": 25,
   "id": "ae7ade67-b0e9-45aa-b671-9110d78d1c80",
   "metadata": {},
   "outputs": [
    {
     "data": {
      "image/png": "[encoded data removed]",
      "text/plain": [
       "<Figure size 432x276.48 with 1 Axes>"
      ]
     },
     "metadata": {
      "needs_background": "light"
     },
     "output_type": "display_data"
    }
   ],
   "source": [
    " # Post pruning (const complexity pruning) por validación cruzada\n",
    "# ------------------------------------------------------------------------------\n",
    "# Valores de ccp_alpha evaluados\n",
    "param_grid = {'ccp_alpha':np.linspace(0, 5, 10)}\n",
    "# Búsqueda por validación cruzada\n",
    "grid = GridSearchCV(\n",
    "    # El árbol se crece al máximo posible antes de aplicar el pruning\n",
    "    estimator = DecisionTreeClassifier(max_depth = None,\n",
    "                                       min_samples_split = 2,\n",
    "                                       min_samples_leaf = 1,\n",
    "                                       random_state = 123),\n",
    "    param_grid = param_grid,\n",
    "    scoring = 'accuracy',\n",
    "    cv = 10,\n",
    "    refit = True,\n",
    "    return_train_score = True\n",
    ")\n",
    "\n",
    "grid.fit(X_train_prep, y_train)\n",
    "fig, ax = plt.subplots(figsize=(6, 3.84))\n",
    "scores = pd.DataFrame(grid.cv_results_)\n",
    "scores.plot(x='param_ccp_alpha', y='mean_train_score', yerr='std_train_score', ax=ax)\n",
    "scores.plot(x='param_ccp_alpha', y='mean_test_score', yerr='std_test_score', ax=ax)\n",
    "ax.set_title(\"Error de validacion cruzada vs hiperparámetro ccp_alpha\");"
   ]
  },
  {
   "cell_type": "code",
   "execution_count": 26,
   "id": "366d461b-3331-403b-94fb-4895bb05298d",
   "metadata": {},
   "outputs": [
    {
     "data": {
      "text/plain": [
       "{'ccp_alpha': 0.0}"
      ]
     },
     "execution_count": 26,
     "metadata": {},
     "output_type": "execute_result"
    }
   ],
   "source": [
    " # Mejor valor ccp_alpha encontrado\n",
    "# ------------------------------------------------------------------------------\n",
    "grid.best_params_"
   ]
  },
  {
   "cell_type": "markdown",
   "id": "cbe79634-f0d3-45dc-b66a-7525dee03e9e",
   "metadata": {},
   "source": [
    "Por default el criterio es GINI, en otro caso se indica el de entropía.  \n",
    "Una vez identificado el valor óptimo de ccp_alpha , se reentrena el árbol indicando este valor en sus argumentos. Si en el GridSearchCV() se indica refit=True , este reentrenamiento se hace automáticamente y el modelo resultante se encuentra almacenado en .best_estimator_ ."
   ]
  },
  {
   "cell_type": "code",
   "execution_count": 27,
   "id": "d8d993ed-5a3f-4681-b72e-cfc6ae4c1372",
   "metadata": {},
   "outputs": [
    {
     "name": "stdout",
     "output_type": "stream",
     "text": [
      "Profundidad del árbol: 9\n",
      "Número de nodos terminales: 49\n"
     ]
    }
   ],
   "source": [
    "# Estructura del árbol final\n",
    "# ------------------------------------------------------------------------------\n",
    "modelo_final = grid.best_estimator_\n",
    "print(f\"Profundidad del árbol: {modelo_final.get_depth()}\")\n",
    "print(f\"Número de nodos terminales: {modelo_final.get_n_leaves()}\")"
   ]
  },
  {
   "cell_type": "code",
   "execution_count": 28,
   "id": "9e52e45d-eeab-4ecd-9505-676022bb68c3",
   "metadata": {},
   "outputs": [
    {
     "name": "stdout",
     "output_type": "stream",
     "text": [
      "El accuracy de test es: 75.0 %\n"
     ]
    }
   ],
   "source": [
    "# Error de test del modelo final\n",
    "#-------------------------------------------------------------------------------\n",
    "predicciones = modelo_final.predict(X = X_test_prep)\n",
    "accuracy = accuracy_score(y_true = y_test,\n",
    "                          y_pred = predicciones,\n",
    "                          normalize = True)\n",
    "\n",
    "print(f\"El accuracy de test es: {100 * accuracy} %\")"
   ]
  },
  {
   "cell_type": "markdown",
   "id": "b1dcbd6c-f551-475f-aa9f-5157dd8dd1b8",
   "metadata": {},
   "source": [
    "Gracias al proceso de pruning el porcentaje de acierto ha pasando de 72% a 75%."
   ]
  },
  {
   "cell_type": "markdown",
   "id": "29a5f6a3-329b-4b9c-bf05-b19be9693345",
   "metadata": {},
   "source": [
    "# Importancia De Predictores\n",
    "\n",
    "La importancia de cada predictor en modelo se calcula como la reducción total (normalizada) en el criterio de división, en este caso el índice Gini, que consigue el predictor en las divisiones en las que participa. Si un predictor no ha sido seleccionado en ninguna divisón, no se ha incluido en el modelo y por lo tanto su importancia es 0.\n"
   ]
  },
  {
   "cell_type": "code",
   "execution_count": 29,
   "id": "3418afc6-eb9c-4cd7-a9ef-51cdc7707332",
   "metadata": {},
   "outputs": [
    {
     "name": "stdout",
     "output_type": "stream",
     "text": [
      "Importancia de los predictores en el modelo\n",
      "-------------------------------------------\n"
     ]
    },
    {
     "data": {
      "text/html": [
       "<div>\n",
       "<style scoped>\n",
       "    .dataframe tbody tr th:only-of-type {\n",
       "        vertical-align: middle;\n",
       "    }\n",
       "\n",
       "    .dataframe tbody tr th {\n",
       "        vertical-align: top;\n",
       "    }\n",
       "\n",
       "    .dataframe thead th {\n",
       "        text-align: right;\n",
       "    }\n",
       "</style>\n",
       "<table border=\"1\" class=\"dataframe\">\n",
       "  <thead>\n",
       "    <tr style=\"text-align: right;\">\n",
       "      <th></th>\n",
       "      <th>predictor</th>\n",
       "      <th>importancia</th>\n",
       "    </tr>\n",
       "  </thead>\n",
       "  <tbody>\n",
       "    <tr>\n",
       "      <th>11</th>\n",
       "      <td>Urban_Yes</td>\n",
       "      <td>0.267291</td>\n",
       "    </tr>\n",
       "    <tr>\n",
       "      <th>7</th>\n",
       "      <td>ShelveLoc_Bad</td>\n",
       "      <td>0.173585</td>\n",
       "    </tr>\n",
       "    <tr>\n",
       "      <th>1</th>\n",
       "      <td>Income</td>\n",
       "      <td>0.163736</td>\n",
       "    </tr>\n",
       "    <tr>\n",
       "      <th>8</th>\n",
       "      <td>ShelveLoc_Good</td>\n",
       "      <td>0.093583</td>\n",
       "    </tr>\n",
       "    <tr>\n",
       "      <th>9</th>\n",
       "      <td>ShelveLoc_Medium</td>\n",
       "      <td>0.089938</td>\n",
       "    </tr>\n",
       "    <tr>\n",
       "      <th>12</th>\n",
       "      <td>US_No</td>\n",
       "      <td>0.055480</td>\n",
       "    </tr>\n",
       "    <tr>\n",
       "      <th>6</th>\n",
       "      <td>Education</td>\n",
       "      <td>0.039439</td>\n",
       "    </tr>\n",
       "    <tr>\n",
       "      <th>4</th>\n",
       "      <td>Price</td>\n",
       "      <td>0.035371</td>\n",
       "    </tr>\n",
       "    <tr>\n",
       "      <th>0</th>\n",
       "      <td>CompPrice</td>\n",
       "      <td>0.033437</td>\n",
       "    </tr>\n",
       "    <tr>\n",
       "      <th>10</th>\n",
       "      <td>Urban_No</td>\n",
       "      <td>0.024170</td>\n",
       "    </tr>\n",
       "    <tr>\n",
       "      <th>5</th>\n",
       "      <td>Age</td>\n",
       "      <td>0.012651</td>\n",
       "    </tr>\n",
       "    <tr>\n",
       "      <th>13</th>\n",
       "      <td>US_Yes</td>\n",
       "      <td>0.011319</td>\n",
       "    </tr>\n",
       "    <tr>\n",
       "      <th>2</th>\n",
       "      <td>Advertising</td>\n",
       "      <td>0.000000</td>\n",
       "    </tr>\n",
       "    <tr>\n",
       "      <th>3</th>\n",
       "      <td>Population</td>\n",
       "      <td>0.000000</td>\n",
       "    </tr>\n",
       "  </tbody>\n",
       "</table>\n",
       "</div>"
      ],
      "text/plain": [
       "           predictor  importancia\n",
       "11         Urban_Yes     0.267291\n",
       "7      ShelveLoc_Bad     0.173585\n",
       "1             Income     0.163736\n",
       "8     ShelveLoc_Good     0.093583\n",
       "9   ShelveLoc_Medium     0.089938\n",
       "12             US_No     0.055480\n",
       "6          Education     0.039439\n",
       "4              Price     0.035371\n",
       "0          CompPrice     0.033437\n",
       "10          Urban_No     0.024170\n",
       "5                Age     0.012651\n",
       "13            US_Yes     0.011319\n",
       "2        Advertising     0.000000\n",
       "3         Population     0.000000"
      ]
     },
     "execution_count": 29,
     "metadata": {},
     "output_type": "execute_result"
    }
   ],
   "source": [
    "print(\"Importancia de los predictores en el modelo\")\n",
    "print(\"-------------------------------------------\")\n",
    "importancia_predictores = pd.DataFrame(\n",
    " {'predictor': labels.tolist(),\n",
    " 'importancia': modelo_final.feature_importances_}\n",
    " )\n",
    "importancia_predictores.sort_values('importancia', ascending=False)\n"
   ]
  },
  {
   "cell_type": "markdown",
   "id": "4acd3887-a80d-48ce-91f3-f4555474c706",
   "metadata": {},
   "source": [
    "El predictor con más importancia es Urban_Yes."
   ]
  },
  {
   "cell_type": "markdown",
   "id": "f3609b85-9cc8-41bb-a5cb-068e2ae0c23a",
   "metadata": {},
   "source": [
    "# Predicción De Probabilidades\n",
    "\n",
    "La mayoría de implementaciones de los modelos basados en árboles, entre ellas la de scikit-learn, permiten predicir probabilidades cuando se trata de problemas de clasificación. Es importante entender cómo se calculan estos valores para interpretarlos y utilizarlos correctamente.  \n",
    "  \n",
    "En el ejemplo anterior, al aplicar .predict() se devuelve (ventas elevadas) o (ventas bajas) para cada observación de test. Sin embargo, no se dispone de ningún tipo de información sobre la seguridad con la que el modelo realiza esta asignación. Con .predict_proba() , en lugar de una clasificación, se obtiene la probabilidad con la que el modelo considera que cada observación puede pertenecer a cada una de las clases.\n",
    "\n"
   ]
  },
  {
   "cell_type": "code",
   "execution_count": 30,
   "id": "c0ea1b71-bc30-49ff-86e0-76db612953ba",
   "metadata": {},
   "outputs": [
    {
     "data": {
      "text/plain": [
       "array([[1.        , 0.        ],\n",
       "       [0.        , 1.        ],\n",
       "       [0.89473684, 0.10526316],\n",
       "       [0.94444444, 0.05555556],\n",
       "       [0.89473684, 0.10526316]])"
      ]
     },
     "execution_count": 30,
     "metadata": {},
     "output_type": "execute_result"
    }
   ],
   "source": [
    " # Predicción de probabilidades\n",
    "#-------------------------------------------------------------------------------\n",
    "predicciones = modelo.predict_proba(X = X_test_prep)\n",
    "predicciones[:5, :]\n"
   ]
  },
  {
   "cell_type": "markdown",
   "id": "e49391d3-5cd6-4870-a875-ed3c5c050950",
   "metadata": {},
   "source": [
    "El resultado de .predict_proba() es un array con una fila por observación y tantas columnas como clases tenga la variable respuesta. El valor de la primera columna se corresponde con la probabilidad, acorde al modelo, de que la observación pertenezca a la clase 0, y así sucesivamente. El valor de probabilidad mostrado para cada predicción se corresponde con la fracción de observaciones de cada classe en el nodo terminal al que ha llegado la observación predicha.  \n",
    "  \n",
    "Por defecto, .predict() asigna cada nueva observación a la clase con mayor probabilidad (en caso de empate se asigna de forma aleatoria). Sin embargo, este no tiene por qué ser el comportamiento deseado en todos los casos.\n"
   ]
  },
  {
   "cell_type": "code",
   "execution_count": 31,
   "id": "9df050d4-cc33-4de4-8b3f-4a91bf1a2815",
   "metadata": {},
   "outputs": [
    {
     "data": {
      "text/html": [
       "<div>\n",
       "<style scoped>\n",
       "    .dataframe tbody tr th:only-of-type {\n",
       "        vertical-align: middle;\n",
       "    }\n",
       "\n",
       "    .dataframe tbody tr th {\n",
       "        vertical-align: top;\n",
       "    }\n",
       "\n",
       "    .dataframe thead th {\n",
       "        text-align: right;\n",
       "    }\n",
       "</style>\n",
       "<table border=\"1\" class=\"dataframe\">\n",
       "  <thead>\n",
       "    <tr style=\"text-align: right;\">\n",
       "      <th></th>\n",
       "      <th>0</th>\n",
       "      <th>1</th>\n",
       "      <th>clasificacion_default_0.5</th>\n",
       "    </tr>\n",
       "  </thead>\n",
       "  <tbody>\n",
       "    <tr>\n",
       "      <th>0</th>\n",
       "      <td>1.000000</td>\n",
       "      <td>0.000000</td>\n",
       "      <td>0</td>\n",
       "    </tr>\n",
       "    <tr>\n",
       "      <th>1</th>\n",
       "      <td>0.000000</td>\n",
       "      <td>1.000000</td>\n",
       "      <td>1</td>\n",
       "    </tr>\n",
       "    <tr>\n",
       "      <th>2</th>\n",
       "      <td>0.894737</td>\n",
       "      <td>0.105263</td>\n",
       "      <td>0</td>\n",
       "    </tr>\n",
       "  </tbody>\n",
       "</table>\n",
       "</div>"
      ],
      "text/plain": [
       "          0         1  clasificacion_default_0.5\n",
       "0  1.000000  0.000000                          0\n",
       "1  0.000000  1.000000                          1\n",
       "2  0.894737  0.105263                          0"
      ]
     },
     "execution_count": 31,
     "metadata": {},
     "output_type": "execute_result"
    }
   ],
   "source": [
    " # Clasificación empleando la clase de mayor probabilidad\n",
    "# ------------------------------------------------------------------------------\n",
    "df_predicciones = pd.DataFrame(data=predicciones, columns=['0', '1'])\n",
    "df_predicciones['clasificacion_default_0.5'] = np.where(df_predicciones['0'] > df_predicciones['1'], 0, 1)\n",
    "df_predicciones.head(3)"
   ]
  },
  {
   "cell_type": "markdown",
   "id": "4ae7cecc-b9ca-4e40-9695-c37a5885ca72",
   "metadata": {},
   "source": [
    "Supóngase el siguiente escenario: la campaña de navidad se aproxima y los propietarios de la cadena quieren duplicar el stock de artículos en aquellas tiendas de las que se prevee que tengan ventas elevadas. Como el transporte de este material hasta las tiendas supone un coste elevado, el director quiere limitar esta estrategia únicamente a tiendas para las que se tenga mucha seguridad de que van conseguir muchas ventas.  \n",
    "  \n",
    "Si se dispone de las probabilidades, se puede establecer un punto de corte concreto, por ejemplo, considerando únicamente como clase (ventas altas) aquellas tiendas cuya predicción para esta clase sea superior al 0.8 (80%). De esta forma, la clasificación final se ajusta mejor a las necesidades del caso de uso."
   ]
  },
  {
   "cell_type": "code",
   "execution_count": 32,
   "id": "c3e34e68-2a43-444d-b698-5b5451d47c3a",
   "metadata": {},
   "outputs": [
    {
     "data": {
      "text/html": [
       "<div>\n",
       "<style scoped>\n",
       "    .dataframe tbody tr th:only-of-type {\n",
       "        vertical-align: middle;\n",
       "    }\n",
       "\n",
       "    .dataframe tbody tr th {\n",
       "        vertical-align: top;\n",
       "    }\n",
       "\n",
       "    .dataframe thead th {\n",
       "        text-align: right;\n",
       "    }\n",
       "</style>\n",
       "<table border=\"1\" class=\"dataframe\">\n",
       "  <thead>\n",
       "    <tr style=\"text-align: right;\">\n",
       "      <th></th>\n",
       "      <th>0</th>\n",
       "      <th>1</th>\n",
       "      <th>clasificacion_default_0.5</th>\n",
       "      <th>clasificacion_custom_0.8</th>\n",
       "    </tr>\n",
       "  </thead>\n",
       "  <tbody>\n",
       "    <tr>\n",
       "      <th>5</th>\n",
       "      <td>0.500000</td>\n",
       "      <td>0.500000</td>\n",
       "      <td>1</td>\n",
       "      <td>0</td>\n",
       "    </tr>\n",
       "    <tr>\n",
       "      <th>6</th>\n",
       "      <td>0.071429</td>\n",
       "      <td>0.928571</td>\n",
       "      <td>1</td>\n",
       "      <td>1</td>\n",
       "    </tr>\n",
       "    <tr>\n",
       "      <th>7</th>\n",
       "      <td>0.944444</td>\n",
       "      <td>0.055556</td>\n",
       "      <td>0</td>\n",
       "      <td>0</td>\n",
       "    </tr>\n",
       "    <tr>\n",
       "      <th>8</th>\n",
       "      <td>0.014493</td>\n",
       "      <td>0.985507</td>\n",
       "      <td>1</td>\n",
       "      <td>1</td>\n",
       "    </tr>\n",
       "    <tr>\n",
       "      <th>9</th>\n",
       "      <td>0.291667</td>\n",
       "      <td>0.708333</td>\n",
       "      <td>1</td>\n",
       "      <td>0</td>\n",
       "    </tr>\n",
       "  </tbody>\n",
       "</table>\n",
       "</div>"
      ],
      "text/plain": [
       "          0         1  clasificacion_default_0.5  clasificacion_custom_0.8\n",
       "5  0.500000  0.500000                          1                         0\n",
       "6  0.071429  0.928571                          1                         1\n",
       "7  0.944444  0.055556                          0                         0\n",
       "8  0.014493  0.985507                          1                         1\n",
       "9  0.291667  0.708333                          1                         0"
      ]
     },
     "execution_count": 32,
     "metadata": {},
     "output_type": "execute_result"
    }
   ],
   "source": [
    "# Clasificación final empleando un threshold de 0.8 para la clase 1.\n",
    "# ------------------------------------------------------------------------------\n",
    "df_predicciones['clasificacion_custom_0.8'] = np.where(df_predicciones['1'] > 0.8, 1, 0)\n",
    "df_predicciones.iloc[5:10, :]"
   ]
  },
  {
   "cell_type": "markdown",
   "id": "08f03005-3f0d-476b-978b-883614479838",
   "metadata": {},
   "source": [
    "## ¿Hasta que punto se debe de confiar en estas probabilidades?  \n",
    "Es muy importante tener en cuenta la diferencia entre la visión que tiene el modelo del mundo y el mundo real. Todo lo que sabe un modelo sobre el mundo real es lo que ha podido aprender de los datos de entrenamiento y, por lo tanto, tiene una visión limitada. Por ejemplo, supóngase que, en los datos de entrenamiento, todas las tiendas que están en zona urbana Urban='Yes' tienen ventas altas independientemente del valor que tomen el resto de predictores. Cuando el modelo trate de predecir una nueva observación, si esta está en zona urbana, clasificará a la tienda como ventas elevadas con un 100% de seguridad. Sin embargo, esto no significa que sea inequivocamente cierto, podría haber tiendas en zonas úrbanas que no tienen ventas elevadas pero, al no estar presentes en los datos de entrenamiento, el modelo no contempla esta posibilidad.  \n",
    "  \n",
    "Otro ejemplo de como estás probabilidades pueden ser engañosas es el siguiente. Si se deja crecer un árbol hasta que todas las observaciones de entrenamiento están en un nodo terminal distinto, cuando se realice una nueva predicción, independientemente del nodo en el que termine, el 100% de las observaciones (solo hay una) pertenecerán a la misma clase. Como el valor de la probabilidad es el porcentaje de observaciones que pertenecen a cada clase en el nodo terminal, el modelo predicirá siempre con un 100% de probabilidad aunque se equivoque.  \n",
    "  \n",
    "Teniendo en cuenta todo esto, hay que considerar las probabilidades generadas por el modelo como la seguridad que tiene este, desde su visión limitada, al realizar las predicciones. Pero no como la probailidad en el mundo real de que así lo sea.\n"
   ]
  },
  {
   "cell_type": "code",
   "execution_count": null,
   "id": "0b3357c5-c878-411a-b45d-986e9e0578a6",
   "metadata": {},
   "outputs": [],
   "source": []
  }
 ],
 "metadata": {
  "kernelspec": {
   "display_name": "Entorno01",
   "language": "python",
   "name": "entorno01"
  },
  "language_info": {
   "codemirror_mode": {
    "name": "ipython",
    "version": 3
   },
   "file_extension": ".py",
   "mimetype": "text/x-python",
   "name": "python",
   "nbconvert_exporter": "python",
   "pygments_lexer": "ipython3",
   "version": "3.9.7"
  }
 },
 "nbformat": 4,
 "nbformat_minor": 5
}
