{
 "cells": [
  {
   "cell_type": "markdown",
   "id": "740a3586-c213-462b-be76-22fb8bcd7ea4",
   "metadata": {},
   "source": [
    "# Random Forest Regresión"
   ]
  },
  {
   "cell_type": "markdown",
   "id": "b58e8a15-0557-420e-84f2-8598288f2f57",
   "metadata": {},
   "source": [
    "# Datos\n",
    "\n",
    "\n",
    "El set de datos Boston disponible en la librería scikitlearn contiene precios de viviendas de la ciudad de Boston, así como información socio-económica del barrio en el que se encuentran. Se pretende ajustar un modelo de regresión que permita predecir el precio medio de una vivienda ( MEDV ) en función de las variables disponibles.\n",
    "\n"
   ]
  },
  {
   "cell_type": "code",
   "execution_count": 63,
   "id": "0bdb8030-4c5f-4194-bed6-0b068915d157",
   "metadata": {},
   "outputs": [],
   "source": [
    "from sklearn.datasets import load_boston\n",
    "import numpy as np\n",
    "import pandas as pd"
   ]
  },
  {
   "cell_type": "code",
   "execution_count": 64,
   "id": "37da82d3-1552-44d4-97e4-35d4ca151666",
   "metadata": {},
   "outputs": [
    {
     "data": {
      "text/html": [
       "<div>\n",
       "<style scoped>\n",
       "    .dataframe tbody tr th:only-of-type {\n",
       "        vertical-align: middle;\n",
       "    }\n",
       "\n",
       "    .dataframe tbody tr th {\n",
       "        vertical-align: top;\n",
       "    }\n",
       "\n",
       "    .dataframe thead th {\n",
       "        text-align: right;\n",
       "    }\n",
       "</style>\n",
       "<table border=\"1\" class=\"dataframe\">\n",
       "  <thead>\n",
       "    <tr style=\"text-align: right;\">\n",
       "      <th></th>\n",
       "      <th>CRIM</th>\n",
       "      <th>ZN</th>\n",
       "      <th>INDUS</th>\n",
       "      <th>CHAS</th>\n",
       "      <th>NOX</th>\n",
       "      <th>RM</th>\n",
       "      <th>AGE</th>\n",
       "      <th>DIS</th>\n",
       "      <th>RAD</th>\n",
       "      <th>TAX</th>\n",
       "      <th>PTRATIO</th>\n",
       "      <th>B</th>\n",
       "      <th>LSTAT</th>\n",
       "      <th>MEDV</th>\n",
       "    </tr>\n",
       "  </thead>\n",
       "  <tbody>\n",
       "    <tr>\n",
       "      <th>0</th>\n",
       "      <td>0.00632</td>\n",
       "      <td>18.0</td>\n",
       "      <td>2.31</td>\n",
       "      <td>0</td>\n",
       "      <td>0.538</td>\n",
       "      <td>6.575</td>\n",
       "      <td>65.2</td>\n",
       "      <td>4.0900</td>\n",
       "      <td>1</td>\n",
       "      <td>296</td>\n",
       "      <td>15.3</td>\n",
       "      <td>396.90</td>\n",
       "      <td>4.98</td>\n",
       "      <td>24.0</td>\n",
       "    </tr>\n",
       "    <tr>\n",
       "      <th>1</th>\n",
       "      <td>0.02731</td>\n",
       "      <td>0.0</td>\n",
       "      <td>7.07</td>\n",
       "      <td>0</td>\n",
       "      <td>0.469</td>\n",
       "      <td>6.421</td>\n",
       "      <td>78.9</td>\n",
       "      <td>4.9671</td>\n",
       "      <td>2</td>\n",
       "      <td>242</td>\n",
       "      <td>17.8</td>\n",
       "      <td>396.90</td>\n",
       "      <td>9.14</td>\n",
       "      <td>21.6</td>\n",
       "    </tr>\n",
       "    <tr>\n",
       "      <th>2</th>\n",
       "      <td>0.02729</td>\n",
       "      <td>0.0</td>\n",
       "      <td>7.07</td>\n",
       "      <td>0</td>\n",
       "      <td>0.469</td>\n",
       "      <td>7.185</td>\n",
       "      <td>61.1</td>\n",
       "      <td>4.9671</td>\n",
       "      <td>2</td>\n",
       "      <td>242</td>\n",
       "      <td>17.8</td>\n",
       "      <td>392.83</td>\n",
       "      <td>4.03</td>\n",
       "      <td>34.7</td>\n",
       "    </tr>\n",
       "    <tr>\n",
       "      <th>3</th>\n",
       "      <td>0.03237</td>\n",
       "      <td>0.0</td>\n",
       "      <td>2.18</td>\n",
       "      <td>0</td>\n",
       "      <td>0.458</td>\n",
       "      <td>6.998</td>\n",
       "      <td>45.8</td>\n",
       "      <td>6.0622</td>\n",
       "      <td>3</td>\n",
       "      <td>222</td>\n",
       "      <td>18.7</td>\n",
       "      <td>394.63</td>\n",
       "      <td>2.94</td>\n",
       "      <td>33.4</td>\n",
       "    </tr>\n",
       "    <tr>\n",
       "      <th>4</th>\n",
       "      <td>0.06905</td>\n",
       "      <td>0.0</td>\n",
       "      <td>2.18</td>\n",
       "      <td>0</td>\n",
       "      <td>0.458</td>\n",
       "      <td>7.147</td>\n",
       "      <td>54.2</td>\n",
       "      <td>6.0622</td>\n",
       "      <td>3</td>\n",
       "      <td>222</td>\n",
       "      <td>18.7</td>\n",
       "      <td>396.90</td>\n",
       "      <td>5.33</td>\n",
       "      <td>36.2</td>\n",
       "    </tr>\n",
       "  </tbody>\n",
       "</table>\n",
       "</div>"
      ],
      "text/plain": [
       "      CRIM    ZN  INDUS  CHAS    NOX     RM   AGE     DIS  RAD  TAX  PTRATIO  \\\n",
       "0  0.00632  18.0   2.31     0  0.538  6.575  65.2  4.0900    1  296     15.3   \n",
       "1  0.02731   0.0   7.07     0  0.469  6.421  78.9  4.9671    2  242     17.8   \n",
       "2  0.02729   0.0   7.07     0  0.469  7.185  61.1  4.9671    2  242     17.8   \n",
       "3  0.03237   0.0   2.18     0  0.458  6.998  45.8  6.0622    3  222     18.7   \n",
       "4  0.06905   0.0   2.18     0  0.458  7.147  54.2  6.0622    3  222     18.7   \n",
       "\n",
       "        B  LSTAT  MEDV  \n",
       "0  396.90   4.98  24.0  \n",
       "1  396.90   9.14  21.6  \n",
       "2  392.83   4.03  34.7  \n",
       "3  394.63   2.94  33.4  \n",
       "4  396.90   5.33  36.2  "
      ]
     },
     "execution_count": 64,
     "metadata": {},
     "output_type": "execute_result"
    }
   ],
   "source": [
    "datos = pd.read_csv(\"Boston.csv\", sep=\",\")\n",
    "datos.head() "
   ]
  },
  {
   "cell_type": "markdown",
   "id": "f42a83d8-3e27-41e5-96eb-cae19c487ddf",
   "metadata": {},
   "source": [
    "# Ajuste Del Modelo\n",
    "\n",
    "Se ajusta un modelo empleando como variable respuesta MEDV y como predictores todas las otras variables disponibles.  \n",
    "La clase RandomForestRegressor del módulo sklearn.ensemble permite entrenar modelos random forest para prpblemas de regresión. Los parámetros e hiperparámetros empleados por defecto son:  \n",
    "* n_estimators=100.  \n",
    "* criterion='mse'.  \n",
    "* max_depth=None.  \n",
    "* min_samples_split=2.  \n",
    "* min_samples_leaf=1.  \n",
    "* min_weight_fraction_leaf=0.0.  \n",
    "* max_features='auto'.  \n",
    "* max_leaf_nodes=None.  \n",
    "* min_impurity_decrease=0.0.  \n",
    "* min_impurity_split=None.  \n",
    "* bootstrap=True.  \n",
    "* oob_score=False.  \n",
    "* n_jobs=None.  \n",
    "* random_state=None.  \n",
    "* verbose=0.  \n",
    "* warm_start=False.  \n",
    "* ccp_alpha=0.0.  \n",
    "* max_samples=None.  \n",
    "  \n",
    "De entre todos ellos, destacan aquellos que detienen el crecimiento de los árboles, los que controlan el número de árboles y predictores incluidos, y los que gestionan la paralelización:  \n",
    "\n",
    "* n_estimators ; número de árboles incluidos en el modelo.\n",
    "* max_depth : profundidad máxima que pueden alcanzar los árboles.\n",
    "* min_samples_split : número mínimo de observaciones que debe de tener un nodo para que pueda divid decimal se interpreta como fracción del total de observaciones de entrenamiento ceil(min_samples_split).  \n",
    "* min_samples_leaf : número mínimo de observaciones que debe de tener cada uno de los nodos hijos para que se produzca la división. Si es un valor decimal se interpreta como fracción del total de observaciones de entrenamiento ceil(min_samples_split * n_samples).  \n",
    "* max_leaf_nodes : número máximo de nodos terminales que pueden tener los árboles.\n",
    "* max_features : número de predictores considerados a en cada división. \n",
    "* oob_score : Si se calcula o no el out-of-bag R^2. Por defecto es False ya que aumenta el tiempo de entrenamiento.\n",
    "* n_jobs : número de cores empleados para el entrenamiento. En random forest los árboles se ajustan de forma independiente, por lo la paralelización reduce notablemente el tiempo de entrenamiento. Con -1 se utilizan todos los cores disponibles.\n",
    "* random_state : semilla para que los resultados sean reproducibles. Tiene que ser un valor entero.  \n",
    "\n",
    "\n",
    "Como en todo estudio predictivo, no solo es importante ajustar el modelo, sino también cuantificar su capacidad para predecir nuevas observaciones. Para poder hacer esta evaluación, se dividen los datos en dos grupos, uno de entrenamiento y otro de test.  \n"
   ]
  },
  {
   "cell_type": "markdown",
   "id": "ba3cbc66-c96b-4848-b4ff-056a40956042",
   "metadata": {},
   "source": [
    "## División de los datos en train y test"
   ]
  },
  {
   "cell_type": "code",
   "execution_count": 65,
   "id": "645d5001-90ac-4948-b281-4d471afd7df0",
   "metadata": {},
   "outputs": [],
   "source": [
    "from sklearn.model_selection import train_test_split"
   ]
  },
  {
   "cell_type": "code",
   "execution_count": 66,
   "id": "f1b0096c-804b-49ca-a5fd-66a559cbf3cf",
   "metadata": {},
   "outputs": [],
   "source": [
    "X_train, X_test, y_train, y_test = train_test_split(\n",
    "    datos.drop(columns = \"MEDV\"),\n",
    "    datos['MEDV'],\n",
    "    random_state = 123)"
   ]
  },
  {
   "cell_type": "markdown",
   "id": "b1e58d41-8ae3-40d5-bb89-305244dc280b",
   "metadata": {},
   "source": [
    "## Creación Del Modelo"
   ]
  },
  {
   "cell_type": "code",
   "execution_count": 67,
   "id": "452a874f-7fb1-4f66-8d0b-049f8cbb5cd8",
   "metadata": {},
   "outputs": [],
   "source": [
    "from sklearn.ensemble import RandomForestRegressor"
   ]
  },
  {
   "cell_type": "code",
   "execution_count": 68,
   "id": "14417121-d4e6-4f7a-8d67-5f1e165514d5",
   "metadata": {},
   "outputs": [],
   "source": [
    "modelo = RandomForestRegressor(n_estimators = 10,\n",
    "                               criterion = 'squared_error',\n",
    "                               max_depth = None,\n",
    "                               max_features = 'auto',\n",
    "                               oob_score = False,\n",
    "                               n_jobs = -1,\n",
    "                               random_state = 123)"
   ]
  },
  {
   "cell_type": "markdown",
   "id": "e41820a4-0864-474b-9a48-a2e412f5a51c",
   "metadata": {},
   "source": [
    "## Entrenamiento Del Modelo"
   ]
  },
  {
   "cell_type": "code",
   "execution_count": 69,
   "id": "b20dfd4b-7c6a-4eef-a164-a4b36ab22325",
   "metadata": {},
   "outputs": [
    {
     "data": {
      "text/plain": [
       "RandomForestRegressor(n_estimators=10, n_jobs=-1, random_state=123)"
      ]
     },
     "execution_count": 69,
     "metadata": {},
     "output_type": "execute_result"
    }
   ],
   "source": [
    "modelo.fit(X_train, y_train)"
   ]
  },
  {
   "cell_type": "markdown",
   "id": "db56931f-d39b-41a9-97b8-3c37c9e39f8f",
   "metadata": {},
   "source": [
    "## Predicción Y Evaluación del modelo\n",
    "\n",
    "Una vez entrenado el modelo, se evalúa la capacidad predictiva empleando el conjunto de test."
   ]
  },
  {
   "cell_type": "code",
   "execution_count": 70,
   "id": "9a9ea9f0-a547-4a4c-98c0-a5ce44796987",
   "metadata": {},
   "outputs": [],
   "source": [
    "from sklearn.metrics import mean_squared_error"
   ]
  },
  {
   "cell_type": "code",
   "execution_count": 71,
   "id": "3837b39b-1372-42d0-b6de-a2c21450b2cc",
   "metadata": {},
   "outputs": [
    {
     "name": "stdout",
     "output_type": "stream",
     "text": [
      "El error (rmse) de test es: 4.358493834335092\n"
     ]
    }
   ],
   "source": [
    "# Error de test del modelo inicial\n",
    "# ==============================================================================\n",
    "predicciones = modelo.predict(X = X_test)\n",
    "rmse = mean_squared_error(y_true = y_test,\n",
    "                          y_pred = predicciones,\n",
    "                          squared = False)\n",
    "print(f\"El error (rmse) de test es: {rmse}\")"
   ]
  },
  {
   "cell_type": "markdown",
   "id": "0a9f9cd6-2f99-4ccf-8058-d2a9bd86bd3d",
   "metadata": {},
   "source": [
    "## Optimización De Hiperparámetros\n",
    "\n",
    "El modelo inicial se ha entrenado utilizando 10 árboles ( n_estimators=10 ) y manteniendo el resto de hiperparámetros con su valor por defecto. Al ser hiperparámetros, no se puede saber de antemano cuál es el valor más adecuado, la forma de identificarlos es mediante el uso de estrategias de validación, por ejemplo validación cruzada.  \n",
    "  \n",
    "Los modelos Random Forest tienen la ventaja de disponer del Out-of-Bag error, lo que permite obtener una estimación del error de test sin recurrir a la validación cruzada, que es computacionalmente costosa. En la implementación de RandomForestRegressor , la métrica\n",
    "devuelta como oob_score es el , si se desea otra, se tiene que recurrir al método oob_decision_function_() para obtener las predicciones y con ellas calcular la métrica de interés. Para una explicación más detallada consultar: Grid search de modelos Random Forest con out-of-bag error y early stopping.  \n",
    "  \n",
    "Cabe tener en cuenta que, cuando se busca el valor óptimo de un hiperparámetro con dos métricas distintas, el resultado obtenido raramente es el mismo. Lo importante es que ambas métricas identifiquen las mismas regiones de interés.  \n",
    "  \n",
    "Cabe tener en cuenta que, cuando se busca el valor óptimo de un hiperparámetro con dos métricas distintas, el resultado obtenido raramente es el mismo. Lo importante es que ambas métricas identifiquen las mismas regiones de interés."
   ]
  },
  {
   "cell_type": "markdown",
   "id": "8938dd7e-7248-445a-a3b4-940f5005c7d0",
   "metadata": {},
   "source": [
    "### Número de árboles\n",
    "En Random Forest, el número de árboles no es un hiperparámetro crítico en cuanto que, añadir árboles, solo puede hacer que mejorar el resultado. En Random Forest no se produce overfitting por exceso de árboles. Sin embargo, añadir árboles una vez que la mejora se estabiliza es una perdida te recursos computacionales."
   ]
  },
  {
   "cell_type": "code",
   "execution_count": 72,
   "id": "c26f7f2b-0033-4012-9f87-40baad439a5f",
   "metadata": {},
   "outputs": [],
   "source": [
    "import matplotlib.pyplot as plt"
   ]
  },
  {
   "cell_type": "code",
   "execution_count": 73,
   "id": "f1db31a5-7695-4ab6-9208-e94cb606f72c",
   "metadata": {},
   "outputs": [
    {
     "name": "stderr",
     "output_type": "stream",
     "text": [
      "D:\\Documentos\\Programas\\Miniconda3\\envs\\Entorno01\\lib\\site-packages\\sklearn\\ensemble\\_forest.py:560: UserWarning: Some inputs do not have OOB scores. This probably means too few trees were used to compute any reliable OOB estimates.\n",
      "  warn(\n",
      "D:\\Documentos\\Programas\\Miniconda3\\envs\\Entorno01\\lib\\site-packages\\sklearn\\ensemble\\_forest.py:560: UserWarning: Some inputs do not have OOB scores. This probably means too few trees were used to compute any reliable OOB estimates.\n",
      "  warn(\n",
      "D:\\Documentos\\Programas\\Miniconda3\\envs\\Entorno01\\lib\\site-packages\\sklearn\\ensemble\\_forest.py:560: UserWarning: Some inputs do not have OOB scores. This probably means too few trees were used to compute any reliable OOB estimates.\n",
      "  warn(\n"
     ]
    },
    {
     "name": "stdout",
     "output_type": "stream",
     "text": [
      "Valor óptimo de n_estimators: 56\n"
     ]
    },
    {
     "data": {
      "image/png": "[encoded data removed]",
      "text/plain": [
       "<Figure size 432x276.48 with 1 Axes>"
      ]
     },
     "metadata": {
      "needs_background": "light"
     },
     "output_type": "display_data"
    }
   ],
   "source": [
    "# Validación empleando el Out-of-Bag error\n",
    "# ==============================================================================\n",
    "train_scores = []\n",
    "oob_scores = []\n",
    "\n",
    "# Valores evaluados\n",
    "estimator_range = range(1, 150, 5)\n",
    "\n",
    "# Bucle para entrenar un modelo con cada valor de n_estimators y extraer su error\n",
    "# de entrenamiento y de Out-of-Bag.\n",
    "\n",
    "for n_estimators in estimator_range:\n",
    "    modelo = RandomForestRegressor(n_estimators = n_estimators, \n",
    "                                   criterion = 'squared_error', \n",
    "                                   max_depth = None, \n",
    "                                   max_features = 'auto',\n",
    "                                   oob_score = True,\n",
    "                                   n_jobs = -1,\n",
    "                                   random_state = 123)\n",
    "    modelo.fit(X_train, y_train)\n",
    "    train_scores.append(modelo.score(X_train, y_train))\n",
    "    oob_scores.append(modelo.oob_score_)\n",
    "\n",
    "# Gráfico con la evolución de los errores\n",
    "fig, ax = plt.subplots(figsize=(6, 3.84))\n",
    "ax.plot(estimator_range, train_scores, label=\"train scores\")\n",
    "ax.plot(estimator_range, oob_scores, label=\"out-of-bag scores\")\n",
    "ax.plot(estimator_range[np.argmax(oob_scores)], max(oob_scores),\n",
    "marker='o', color = \"red\", label=\"max score\")\n",
    "ax.set_ylabel(\"R^2\")\n",
    "ax.set_xlabel(\"n_estimators\")\n",
    "ax.set_title(\"Evolución del out-of-bag-error vs número árboles\")\n",
    "plt.legend();\n",
    "print(f\"Valor óptimo de n_estimators: {estimator_range[np.argmax(oob_scores)]}\")"
   ]
  },
  {
   "cell_type": "code",
   "execution_count": 74,
   "id": "4c54cc0b-0e39-4d57-b66c-8a470a5ee8e4",
   "metadata": {},
   "outputs": [],
   "source": [
    "from sklearn.model_selection import cross_val_score"
   ]
  },
  {
   "cell_type": "code",
   "execution_count": 75,
   "id": "fdcaa57d-647c-4c5c-81db-b93a5555a1e7",
   "metadata": {},
   "outputs": [
    {
     "name": "stdout",
     "output_type": "stream",
     "text": [
      "Valor óptimo de n_estimators: 26\n"
     ]
    },
    {
     "data": {
      "image/png": "[encoded data removed]",
      "text/plain": [
       "<Figure size 432x276.48 with 1 Axes>"
      ]
     },
     "metadata": {
      "needs_background": "light"
     },
     "output_type": "display_data"
    }
   ],
   "source": [
    "# Validación empleando k-cross-validation y neg_root_mean_squared_error\n",
    "# ==============================================================================\n",
    "train_scores = []\n",
    "cv_scores = []\n",
    "\n",
    "# Valores evaluados\n",
    "estimator_range = range(1, 150, 5)\n",
    "\n",
    "# Bucle para entrenar un modelo con cada valor de n_estimators y extraer su error\n",
    "# de entrenamiento y de k-cross-validation.\n",
    "for n_estimators in estimator_range:\n",
    "    modelo = RandomForestRegressor(n_estimators = n_estimators,\n",
    "                                   criterion = 'squared_error',\n",
    "                                   max_depth = None,\n",
    "                                   max_features = 'auto',\n",
    "                                   oob_score = False,\n",
    "                                   n_jobs = -1,\n",
    "                                   random_state = 123)\n",
    "    # Error de train\n",
    "    modelo.fit(X_train, y_train)\n",
    "    predicciones = modelo.predict(X = X_train)\n",
    "    rmse = mean_squared_error(y_true = y_train,\n",
    "                              y_pred = predicciones,\n",
    "                              squared = False)\n",
    "    train_scores.append(rmse)\n",
    "    # Error de validación cruzada\n",
    "    scores = cross_val_score(estimator = modelo,\n",
    "                             X = X_train,\n",
    "                             y = y_train,\n",
    "                             scoring = 'neg_root_mean_squared_error',\n",
    "                             cv = 5)\n",
    "    \n",
    "    # Se agregan los scores de cross_val_score() y se pasa a positivo\n",
    "    cv_scores.append(-1*scores.mean())\n",
    "\n",
    "\n",
    "\n",
    "# Gráfico con la evolución de los errores\n",
    "fig, ax = plt.subplots(figsize=(6, 3.84))\n",
    "ax.plot(estimator_range, train_scores, label=\"train scores\")\n",
    "ax.plot(estimator_range, cv_scores, label=\"cv scores\")\n",
    "ax.plot(estimator_range[np.argmin(cv_scores)], min(cv_scores),\n",
    "marker='o', color = \"red\", label=\"min score\")\n",
    "ax.set_ylabel(\"root_mean_squared_error\")\n",
    "ax.set_xlabel(\"n_estimators\")\n",
    "ax.set_title(\"Evolución del cv-error vs número árboles\")\n",
    "plt.legend();\n",
    "print(f\"Valor óptimo de n_estimators: {estimator_range[np.argmin(cv_scores)]}\")"
   ]
  },
  {
   "cell_type": "markdown",
   "id": "44605ebb-8b35-4edd-9072-96daf220b4bd",
   "metadata": {},
   "source": [
    "Ambas métricas indican que, a partir de entre 20 y 60 árboles, el error de validación del modelo se estabiliza."
   ]
  },
  {
   "cell_type": "markdown",
   "id": "2497d941-5b69-4c8d-80e7-59a592fdb10e",
   "metadata": {},
   "source": [
    "### Max Features\n",
    "El valor de máx_features es uno de los hiperparámetros más importantes de random forest, ya que es el que permite controlar cuánto se decorrelacionan los árboles entre sí."
   ]
  },
  {
   "cell_type": "code",
   "execution_count": 76,
   "id": "995e13dc-1000-4518-9844-ae97957045a1",
   "metadata": {},
   "outputs": [
    {
     "name": "stdout",
     "output_type": "stream",
     "text": [
      "Valor óptimo de max_features: 5\n"
     ]
    },
    {
     "data": {
      "image/png": "[encoded data removed]",
      "text/plain": [
       "<Figure size 432x276.48 with 1 Axes>"
      ]
     },
     "metadata": {
      "needs_background": "light"
     },
     "output_type": "display_data"
    }
   ],
   "source": [
    "# Validación empleando el Out-of-Bag error\n",
    "# ==============================================================================\n",
    "train_scores = []\n",
    "oob_scores = []\n",
    "\n",
    "# Valores evaluados\n",
    "max_features_range = range(1, X_train.shape[1] + 1, 1)\n",
    "\n",
    "# Bucle para entrenar un modelo con cada valor de max_features y extraer su error\n",
    "# de entrenamiento y de Out-of-Bag.\n",
    "for max_features in max_features_range:\n",
    "    modelo = RandomForestRegressor(n_estimators = 100,\n",
    "                                   criterion = 'squared_error',\n",
    "                                   max_depth = None,\n",
    "                                   max_features = max_features,\n",
    "                                   oob_score = True,\n",
    "                                   n_jobs = -1,\n",
    "                                   random_state = 123)\n",
    "    \n",
    "    modelo.fit(X_train, y_train)\n",
    "    train_scores.append(modelo.score(X_train, y_train))\n",
    "    oob_scores.append(modelo.oob_score_)\n",
    "\n",
    "\n",
    "# Gráfico con la evolución de los errores\n",
    "fig, ax = plt.subplots(figsize=(6, 3.84))\n",
    "ax.plot(max_features_range, train_scores, label=\"train scores\")\n",
    "ax.plot(max_features_range, oob_scores, label=\"out-of-bag scores\")\n",
    "ax.plot(max_features_range[np.argmax(oob_scores)], max(oob_scores),\n",
    "marker='o', color = \"red\")\n",
    "ax.set_ylabel(\"R^2\")\n",
    "ax.set_xlabel(\"max_features\")\n",
    "ax.set_title(\"Evolución del out-of-bag-error vs número de predictores\")\n",
    "plt.legend();\n",
    "print(f\"Valor óptimo de max_features: {max_features_range[np.argmax(oob_scores)]}\")"
   ]
  },
  {
   "cell_type": "code",
   "execution_count": 77,
   "id": "335dbb67-bdf7-4781-834d-8677f8702ba4",
   "metadata": {},
   "outputs": [
    {
     "name": "stdout",
     "output_type": "stream",
     "text": [
      "Valor óptimo de max_features: 9\n"
     ]
    },
    {
     "data": {
      "image/png": "[encoded data removed]",
      "text/plain": [
       "<Figure size 432x276.48 with 1 Axes>"
      ]
     },
     "metadata": {
      "needs_background": "light"
     },
     "output_type": "display_data"
    }
   ],
   "source": [
    "# Validación empleando k-cross-validation y neg_root_mean_squared_error\n",
    "# ==============================================================================\n",
    "train_scores = []\n",
    "cv_scores = []\n",
    "\n",
    "# Valores evaluados\n",
    "max_features_range = range(1, X_train.shape[1] + 1, 1)\n",
    "\n",
    "# Bucle para entrenar un modelo con cada valor de max_features y extraer su error\n",
    "# de entrenamiento y de k-cross-validation.\n",
    "for max_features in max_features_range:\n",
    "    modelo = RandomForestRegressor(n_estimators = 100, \n",
    "                                   criterion = 'squared_error',\n",
    "                                   max_depth = None,\n",
    "                                   max_features = max_features,\n",
    "                                   oob_score = True,\n",
    "                                   n_jobs = -1,\n",
    "                                   random_state = 123)\n",
    "    # Error de train\n",
    "    modelo.fit(X_train, y_train)\n",
    "    predicciones = modelo.predict(X = X_train)\n",
    "    rmse = mean_squared_error(y_true = y_train,\n",
    "                              y_pred = predicciones,\n",
    "                              squared = False)\n",
    "    train_scores.append(rmse)\n",
    "    # Error de validación cruzada\n",
    "    scores = cross_val_score(estimator = modelo, \n",
    "                             X = X_train,\n",
    "                             y = y_train,\n",
    "                             scoring = 'neg_root_mean_squared_error',\n",
    "                             cv = 5)\n",
    "    \n",
    "    # Se agregan los scores de cross_val_score() y se pasa a positivo\n",
    "    cv_scores.append(-1*scores.mean())\n",
    "\n",
    "\n",
    "# Gráfico con la evolución de los errores\n",
    "fig, ax = plt.subplots(figsize=(6, 3.84))\n",
    "ax.plot(max_features_range, train_scores, label=\"train scores\")\n",
    "ax.plot(max_features_range, cv_scores, label=\"cv scores\")\n",
    "ax.plot(max_features_range[np.argmin(cv_scores)], min(cv_scores),\n",
    "marker='o', color = \"red\", label=\"min score\")\n",
    "ax.set_ylabel(\"root_mean_squared_error\")\n",
    "ax.set_xlabel(\"max_features\")\n",
    "ax.set_title(\"Evolución del cv-error vs número de predictores\")\n",
    "plt.legend();\n",
    "print(f\"Valor óptimo de max_features: {max_features_range[np.argmin(cv_scores)]}\")"
   ]
  },
  {
   "cell_type": "markdown",
   "id": "57c88539-0dff-4063-8004-1982f44059be",
   "metadata": {},
   "source": [
    "Acorde a las dos métricas utilizadas, el valor óptimo de max_features está entre 5 y 9."
   ]
  },
  {
   "cell_type": "markdown",
   "id": "3b13e417-18a9-498b-9011-43606eaf339c",
   "metadata": {},
   "source": [
    "### Grid Search\n",
    "Aunque el análisis individual de los hiperparámetros es útil para entender su impacto en el modelo e identificar rangos de interés, la búsqueda final no debe hacerse de forma secuencial, ya que cada hiperparámetro interacciona con los demás. Es preferible recurrir a grid search o random search para analizar varias combinaciones de hiperparámetros.   \n",
    "  \n",
    "### Grid Search basado en out-of-bag error"
   ]
  },
  {
   "cell_type": "code",
   "execution_count": 78,
   "id": "0850b8b8-d44b-47de-8c35-fc61eb98029d",
   "metadata": {},
   "outputs": [],
   "source": [
    "from sklearn.model_selection import ParameterGrid"
   ]
  },
  {
   "cell_type": "code",
   "execution_count": 79,
   "id": "eaaee289-f734-43fa-ae44-ffd53865035b",
   "metadata": {},
   "outputs": [
    {
     "name": "stdout",
     "output_type": "stream",
     "text": [
      "Modelo: {'max_depth': None, 'max_features': 5, 'n_estimators': 150} ✓\n",
      "Modelo: {'max_depth': None, 'max_features': 7, 'n_estimators': 150} ✓\n",
      "Modelo: {'max_depth': None, 'max_features': 9, 'n_estimators': 150} ✓\n",
      "Modelo: {'max_depth': 3, 'max_features': 5, 'n_estimators': 150} ✓\n",
      "Modelo: {'max_depth': 3, 'max_features': 7, 'n_estimators': 150} ✓\n",
      "Modelo: {'max_depth': 3, 'max_features': 9, 'n_estimators': 150} ✓\n",
      "Modelo: {'max_depth': 10, 'max_features': 5, 'n_estimators': 150} ✓\n",
      "Modelo: {'max_depth': 10, 'max_features': 7, 'n_estimators': 150} ✓\n",
      "Modelo: {'max_depth': 10, 'max_features': 9, 'n_estimators': 150} ✓\n",
      "Modelo: {'max_depth': 20, 'max_features': 5, 'n_estimators': 150} ✓\n",
      "Modelo: {'max_depth': 20, 'max_features': 7, 'n_estimators': 150} ✓\n",
      "Modelo: {'max_depth': 20, 'max_features': 9, 'n_estimators': 150} ✓\n"
     ]
    },
    {
     "data": {
      "text/html": [
       "<div>\n",
       "<style scoped>\n",
       "    .dataframe tbody tr th:only-of-type {\n",
       "        vertical-align: middle;\n",
       "    }\n",
       "\n",
       "    .dataframe tbody tr th {\n",
       "        vertical-align: top;\n",
       "    }\n",
       "\n",
       "    .dataframe thead th {\n",
       "        text-align: right;\n",
       "    }\n",
       "</style>\n",
       "<table border=\"1\" class=\"dataframe\">\n",
       "  <thead>\n",
       "    <tr style=\"text-align: right;\">\n",
       "      <th></th>\n",
       "      <th>oob_r2</th>\n",
       "      <th>max_depth</th>\n",
       "      <th>max_features</th>\n",
       "      <th>n_estimators</th>\n",
       "    </tr>\n",
       "  </thead>\n",
       "  <tbody>\n",
       "    <tr>\n",
       "      <th>9</th>\n",
       "      <td>0.876112</td>\n",
       "      <td>20.0</td>\n",
       "      <td>5.0</td>\n",
       "      <td>150.0</td>\n",
       "    </tr>\n",
       "    <tr>\n",
       "      <th>0</th>\n",
       "      <td>0.876026</td>\n",
       "      <td>NaN</td>\n",
       "      <td>5.0</td>\n",
       "      <td>150.0</td>\n",
       "    </tr>\n",
       "    <tr>\n",
       "      <th>2</th>\n",
       "      <td>0.873244</td>\n",
       "      <td>NaN</td>\n",
       "      <td>9.0</td>\n",
       "      <td>150.0</td>\n",
       "    </tr>\n",
       "    <tr>\n",
       "      <th>11</th>\n",
       "      <td>0.872855</td>\n",
       "      <td>20.0</td>\n",
       "      <td>9.0</td>\n",
       "      <td>150.0</td>\n",
       "    </tr>\n",
       "  </tbody>\n",
       "</table>\n",
       "</div>"
      ],
      "text/plain": [
       "      oob_r2  max_depth  max_features  n_estimators\n",
       "9   0.876112       20.0           5.0         150.0\n",
       "0   0.876026        NaN           5.0         150.0\n",
       "2   0.873244        NaN           9.0         150.0\n",
       "11  0.872855       20.0           9.0         150.0"
      ]
     },
     "execution_count": 79,
     "metadata": {},
     "output_type": "execute_result"
    }
   ],
   "source": [
    "# Grid de hiperparámetros evaluados\n",
    "# ==============================================================================\n",
    "param_grid = ParameterGrid(\n",
    "    {'n_estimators': [150],\n",
    "    'max_features': [5, 7, 9],\n",
    "    'max_depth' : [None, 3, 10, 20]\n",
    "    })\n",
    "\n",
    "# Loop para ajustar un modelo con cada combinación de hiperparámetros\n",
    "# ==============================================================================\n",
    "resultados = {'params': [], 'oob_r2': []}\n",
    "\n",
    "for params in param_grid:\n",
    "    modelo = RandomForestRegressor(oob_score = True,\n",
    "                                   n_jobs = -1,\n",
    "                                   random_state = 123,\n",
    "                                   ** params)\n",
    "    \n",
    "    modelo.fit(X_train, y_train)\n",
    "    resultados['params'].append(params)\n",
    "    resultados['oob_r2'].append(modelo.oob_score_)\n",
    "    print(f\"Modelo: {params} \\u2713\")\n",
    "\n",
    "    \n",
    "# Resultados\n",
    "# ==============================================================================\n",
    "resultados = pd.DataFrame(resultados)\n",
    "resultados = pd.concat([resultados, resultados['params'].apply(pd.Series)], axis=1)\n",
    "resultados = resultados.drop(columns = 'params')\n",
    "resultados = resultados.sort_values('oob_r2', ascending=False)\n",
    "resultados.head(4)"
   ]
  },
  {
   "cell_type": "code",
   "execution_count": 80,
   "id": "172ee2d0-ada7-4bcb-9394-71836e3249e6",
   "metadata": {},
   "outputs": [],
   "source": [
    "import multiprocessing"
   ]
  },
  {
   "cell_type": "code",
   "execution_count": 81,
   "id": "e6737d70-49dd-4bf6-a659-e2f45a053efa",
   "metadata": {},
   "outputs": [],
   "source": [
    "# # VERSIÓN PARALELIZADA\n",
    "# # ==============================================================================\n",
    "# # Grid de hiperparámetros evaluados\n",
    "# # ==============================================================================\n",
    "# param_grid = ParameterGrid(\n",
    "#     {'n_estimators': [150],\n",
    "#      'max_features': [5, 7, 9],\n",
    "#      'max_depth' : [None, 3, 10, 20]\n",
    "#     })\n",
    "\n",
    "\n",
    "# # Loop paralelizado para ajustar un modelo con cada combinación de hiperparámetros\n",
    "# # ==============================================================================\n",
    "\n",
    "# def eval_oob_error(X, y, modelo, params, verbose=True):\n",
    "#     \"\"\"\n",
    "#     Función para entrenar un modelo utilizando unos parámetros determinados\n",
    "#     y que devuelve el out-of-bag error\n",
    "#     \"\"\"\n",
    "#     modelo.set_params(oob_score = True,\n",
    "#                       n_jobs = -1,\n",
    "#                       random_state = 123,\n",
    "#                       ** params)\n",
    "    \n",
    "#     modelo.fit(X, y)\n",
    "    \n",
    "#     if verbose:\n",
    "#         print(f\"Modelo: {params} \\u2713\")\n",
    "    \n",
    "#     return{'params': params, 'oob_r2': modelo.oob_score_}\n",
    "\n",
    "\n",
    "# n_jobs = multiprocessing.cpu_count(-1)\n",
    "# pool = multiprocessing.Pool(processes=n_jobs)\n",
    "# resultados = pool.starmap(eval_oob_error,\n",
    "#                           [(X_train, y_train, RandomForestRegressor(), params) for params in param_grid]\n",
    "#                          )\n",
    "\n",
    "# # Resultados\n",
    "# # ==============================================================================\n",
    "# resultados = pd.DataFrame(resultados)\n",
    "# resultados = pd.concat([resultados, resultados['params'].apply(pd.Series)], axis=1)\n",
    "# resultados = resultados.drop(columns = 'params')\n",
    "# resultados = resultados.sort_values('oob_r2', ascending=False)\n",
    "# resultados.head(4)"
   ]
  },
  {
   "cell_type": "code",
   "execution_count": 82,
   "id": "f5adc2b8-f7f0-4987-b0c5-107b66d53bfd",
   "metadata": {},
   "outputs": [
    {
     "name": "stdout",
     "output_type": "stream",
     "text": [
      "--------------------------------------------\n",
      "Mejores hiperparámetros encontrados (oob-r2)\n",
      "--------------------------------------------\n",
      "0.8761119758435352 : 0.8761119758435352 R2\n"
     ]
    }
   ],
   "source": [
    "# Mejores hiperparámetros por out-of-bag error\n",
    "# ==============================================================================\n",
    "print(\"--------------------------------------------\")\n",
    "print(\"Mejores hiperparámetros encontrados (oob-r2)\")\n",
    "print(\"--------------------------------------------\")\n",
    "print(resultados.iloc[0,0], \":\", resultados.iloc[0,:]['oob_r2'], \"R2\")"
   ]
  },
  {
   "cell_type": "markdown",
   "id": "20b10545-c717-4c27-a621-539fccd95b18",
   "metadata": {},
   "source": [
    "### Grid Search basado en validación cruzada"
   ]
  },
  {
   "cell_type": "code",
   "execution_count": 83,
   "id": "bec88cd7-eb4e-4485-be0f-7d391765866d",
   "metadata": {},
   "outputs": [],
   "source": [
    "from sklearn.model_selection import GridSearchCV\n",
    "from sklearn.model_selection import RepeatedKFold"
   ]
  },
  {
   "cell_type": "code",
   "execution_count": 84,
   "id": "e7122466-7833-434f-a0ea-f4cb8e129d45",
   "metadata": {},
   "outputs": [
    {
     "data": {
      "text/html": [
       "<div>\n",
       "<style scoped>\n",
       "    .dataframe tbody tr th:only-of-type {\n",
       "        vertical-align: middle;\n",
       "    }\n",
       "\n",
       "    .dataframe tbody tr th {\n",
       "        vertical-align: top;\n",
       "    }\n",
       "\n",
       "    .dataframe thead th {\n",
       "        text-align: right;\n",
       "    }\n",
       "</style>\n",
       "<table border=\"1\" class=\"dataframe\">\n",
       "  <thead>\n",
       "    <tr style=\"text-align: right;\">\n",
       "      <th></th>\n",
       "      <th>param_max_depth</th>\n",
       "      <th>param_max_features</th>\n",
       "      <th>param_n_estimators</th>\n",
       "      <th>mean_test_score</th>\n",
       "      <th>std_test_score</th>\n",
       "      <th>mean_train_score</th>\n",
       "      <th>std_train_score</th>\n",
       "    </tr>\n",
       "  </thead>\n",
       "  <tbody>\n",
       "    <tr>\n",
       "      <th>0</th>\n",
       "      <td>None</td>\n",
       "      <td>5</td>\n",
       "      <td>150</td>\n",
       "      <td>-3.322814</td>\n",
       "      <td>0.694243</td>\n",
       "      <td>-1.262209</td>\n",
       "      <td>0.070334</td>\n",
       "    </tr>\n",
       "    <tr>\n",
       "      <th>9</th>\n",
       "      <td>20</td>\n",
       "      <td>5</td>\n",
       "      <td>150</td>\n",
       "      <td>-3.323318</td>\n",
       "      <td>0.696368</td>\n",
       "      <td>-1.262743</td>\n",
       "      <td>0.070427</td>\n",
       "    </tr>\n",
       "    <tr>\n",
       "      <th>6</th>\n",
       "      <td>10</td>\n",
       "      <td>5</td>\n",
       "      <td>150</td>\n",
       "      <td>-3.342392</td>\n",
       "      <td>0.694921</td>\n",
       "      <td>-1.332379</td>\n",
       "      <td>0.065084</td>\n",
       "    </tr>\n",
       "    <tr>\n",
       "      <th>7</th>\n",
       "      <td>10</td>\n",
       "      <td>7</td>\n",
       "      <td>150</td>\n",
       "      <td>-3.344898</td>\n",
       "      <td>0.732418</td>\n",
       "      <td>-1.329324</td>\n",
       "      <td>0.066658</td>\n",
       "    </tr>\n",
       "  </tbody>\n",
       "</table>\n",
       "</div>"
      ],
      "text/plain": [
       "  param_max_depth param_max_features param_n_estimators  mean_test_score  \\\n",
       "0            None                  5                150        -3.322814   \n",
       "9              20                  5                150        -3.323318   \n",
       "6              10                  5                150        -3.342392   \n",
       "7              10                  7                150        -3.344898   \n",
       "\n",
       "   std_test_score  mean_train_score  std_train_score  \n",
       "0        0.694243         -1.262209         0.070334  \n",
       "9        0.696368         -1.262743         0.070427  \n",
       "6        0.694921         -1.332379         0.065084  \n",
       "7        0.732418         -1.329324         0.066658  "
      ]
     },
     "execution_count": 84,
     "metadata": {},
     "output_type": "execute_result"
    }
   ],
   "source": [
    "# Grid de hiperparámetros evaluados\n",
    "# ==============================================================================\n",
    "param_grid = {'n_estimators': [150],\n",
    "              'max_features': [5, 7, 9],\n",
    "              'max_depth' : [None, 3, 10, 20]\n",
    "             }\n",
    "\n",
    "# Búsqueda por grid search con validación cruzada\n",
    "# ==============================================================================\n",
    "\n",
    "grid = GridSearchCV(estimator = RandomForestRegressor(random_state = 123),\n",
    "                    param_grid = param_grid,\n",
    "                    scoring = 'neg_root_mean_squared_error',\n",
    "                    n_jobs = multiprocessing.cpu_count() - 1,\n",
    "                    cv = RepeatedKFold(n_splits=5, n_repeats=3, random_state=123),\n",
    "                    refit = True,\n",
    "                    verbose = 0,\n",
    "                    return_train_score = True\n",
    "                   )\n",
    "\n",
    "grid.fit(X = X_train, y = y_train)\n",
    "\n",
    "# Resultados\n",
    "# ==============================================================================\n",
    "resultados = pd.DataFrame(grid.cv_results_)\n",
    "resultados.filter(regex = '(param.*|mean_t|std_t)') \\\n",
    ".drop(columns = 'params') \\\n",
    ".sort_values('mean_test_score', ascending = False) \\\n",
    ".head(4)"
   ]
  },
  {
   "cell_type": "code",
   "execution_count": 85,
   "id": "2664a6a4-1828-4984-ad25-8ba0b28a8097",
   "metadata": {},
   "outputs": [
    {
     "name": "stdout",
     "output_type": "stream",
     "text": [
      "----------------------------------------\n",
      "Mejores hiperparámetros encontrados (cv)\n",
      "----------------------------------------\n",
      "{'max_depth': None, 'max_features': 5, 'n_estimators': 150} : -3.322814334216982 neg_root_mean_squared_error\n"
     ]
    }
   ],
   "source": [
    "# Mejores hiperparámetros por validación cruzada\n",
    "# ==============================================================================\n",
    "print(\"----------------------------------------\")\n",
    "print(\"Mejores hiperparámetros encontrados (cv)\")\n",
    "print(\"----------------------------------------\")\n",
    "print(grid.best_params_, \":\", grid.best_score_, grid.scoring)"
   ]
  },
  {
   "cell_type": "markdown",
   "id": "fc230621-8c73-410e-8f69-c21b19b86dd6",
   "metadata": {},
   "source": [
    "Una vez identificados los mejores hiperparámetros, se reentrena el modelo indicando los valores óptimos en sus argumentos. Si en el GridSearchCV() se indica refit=True , este reentrenamiento se hace automáticamente y el modelo resultante se encuentra almacenado en .best_estimator_ ."
   ]
  },
  {
   "cell_type": "code",
   "execution_count": 86,
   "id": "f1bbf6dd-f8e4-4201-b6fd-af549ebfe424",
   "metadata": {},
   "outputs": [
    {
     "name": "stdout",
     "output_type": "stream",
     "text": [
      "El error (rmse) de test es: 3.741488503787231\n"
     ]
    }
   ],
   "source": [
    "# Error de test del modelo final\n",
    "# ==============================================================================\n",
    "modelo_final = grid.best_estimator_\n",
    "predicciones = modelo.predict(X = X_test)\n",
    "rmse = mean_squared_error(y_true = y_test, \n",
    "                          y_pred = predicciones,\n",
    "                          squared = False\n",
    "                         )\n",
    "print(f\"El error (rmse) de test es: {rmse}\")"
   ]
  },
  {
   "cell_type": "markdown",
   "id": "91b9cba1-30b2-4ba1-a24b-0070d011498d",
   "metadata": {},
   "source": [
    "Tras optimizar los hiperparámetros, se consigue reducir el error rmse del modelo de 4.35 a 3.74. Las predicciones del modelo final se alejan en promedio 3.74 unidades (3740 dólares) del valor real."
   ]
  },
  {
   "cell_type": "markdown",
   "id": "b13fb06d-a3c5-4158-a91d-cff06def636f",
   "metadata": {},
   "source": [
    "## Importancia De Predictores\n",
    "\n",
    "\n",
    "### Importancia Por Pureza De Nodos"
   ]
  },
  {
   "cell_type": "code",
   "execution_count": 87,
   "id": "eeda39a8-5061-4a19-981b-7c991575caff",
   "metadata": {},
   "outputs": [
    {
     "name": "stdout",
     "output_type": "stream",
     "text": [
      "Importancia de los predictores en el modelo\n",
      "-------------------------------------------\n"
     ]
    },
    {
     "data": {
      "text/html": [
       "<div>\n",
       "<style scoped>\n",
       "    .dataframe tbody tr th:only-of-type {\n",
       "        vertical-align: middle;\n",
       "    }\n",
       "\n",
       "    .dataframe tbody tr th {\n",
       "        vertical-align: top;\n",
       "    }\n",
       "\n",
       "    .dataframe thead th {\n",
       "        text-align: right;\n",
       "    }\n",
       "</style>\n",
       "<table border=\"1\" class=\"dataframe\">\n",
       "  <thead>\n",
       "    <tr style=\"text-align: right;\">\n",
       "      <th></th>\n",
       "      <th>predictor</th>\n",
       "      <th>importancia</th>\n",
       "    </tr>\n",
       "  </thead>\n",
       "  <tbody>\n",
       "    <tr>\n",
       "      <th>5</th>\n",
       "      <td>RM</td>\n",
       "      <td>0.438703</td>\n",
       "    </tr>\n",
       "    <tr>\n",
       "      <th>12</th>\n",
       "      <td>LSTAT</td>\n",
       "      <td>0.352933</td>\n",
       "    </tr>\n",
       "    <tr>\n",
       "      <th>7</th>\n",
       "      <td>DIS</td>\n",
       "      <td>0.051219</td>\n",
       "    </tr>\n",
       "    <tr>\n",
       "      <th>0</th>\n",
       "      <td>CRIM</td>\n",
       "      <td>0.040944</td>\n",
       "    </tr>\n",
       "    <tr>\n",
       "      <th>4</th>\n",
       "      <td>NOX</td>\n",
       "      <td>0.035128</td>\n",
       "    </tr>\n",
       "    <tr>\n",
       "      <th>10</th>\n",
       "      <td>PTRATIO</td>\n",
       "      <td>0.022411</td>\n",
       "    </tr>\n",
       "    <tr>\n",
       "      <th>6</th>\n",
       "      <td>AGE</td>\n",
       "      <td>0.017649</td>\n",
       "    </tr>\n",
       "    <tr>\n",
       "      <th>9</th>\n",
       "      <td>TAX</td>\n",
       "      <td>0.015948</td>\n",
       "    </tr>\n",
       "    <tr>\n",
       "      <th>11</th>\n",
       "      <td>B</td>\n",
       "      <td>0.010508</td>\n",
       "    </tr>\n",
       "    <tr>\n",
       "      <th>2</th>\n",
       "      <td>INDUS</td>\n",
       "      <td>0.007349</td>\n",
       "    </tr>\n",
       "    <tr>\n",
       "      <th>8</th>\n",
       "      <td>RAD</td>\n",
       "      <td>0.004951</td>\n",
       "    </tr>\n",
       "    <tr>\n",
       "      <th>1</th>\n",
       "      <td>ZN</td>\n",
       "      <td>0.001671</td>\n",
       "    </tr>\n",
       "    <tr>\n",
       "      <th>3</th>\n",
       "      <td>CHAS</td>\n",
       "      <td>0.000586</td>\n",
       "    </tr>\n",
       "  </tbody>\n",
       "</table>\n",
       "</div>"
      ],
      "text/plain": [
       "   predictor  importancia\n",
       "5         RM     0.438703\n",
       "12     LSTAT     0.352933\n",
       "7        DIS     0.051219\n",
       "0       CRIM     0.040944\n",
       "4        NOX     0.035128\n",
       "10   PTRATIO     0.022411\n",
       "6        AGE     0.017649\n",
       "9        TAX     0.015948\n",
       "11         B     0.010508\n",
       "2      INDUS     0.007349\n",
       "8        RAD     0.004951\n",
       "1         ZN     0.001671\n",
       "3       CHAS     0.000586"
      ]
     },
     "execution_count": 87,
     "metadata": {},
     "output_type": "execute_result"
    }
   ],
   "source": [
    "importancia_predictores = pd.DataFrame(\n",
    "    {'predictor': datos.drop(columns = \"MEDV\").columns,\n",
    "     'importancia': modelo.feature_importances_}\n",
    ")\n",
    "\n",
    "print(\"Importancia de los predictores en el modelo\")\n",
    "print(\"-------------------------------------------\")\n",
    "importancia_predictores.sort_values('importancia', ascending=False)"
   ]
  },
  {
   "cell_type": "markdown",
   "id": "3359c66b-fec9-41cc-81a8-160cf11e6e24",
   "metadata": {},
   "source": [
    "### Importancia Por Permutación"
   ]
  },
  {
   "cell_type": "code",
   "execution_count": 88,
   "id": "9abedc2e-c3b7-4f08-be03-8ef503f7cd05",
   "metadata": {},
   "outputs": [],
   "source": [
    "from sklearn.inspection import permutation_importance"
   ]
  },
  {
   "cell_type": "code",
   "execution_count": 89,
   "id": "c06b7b8a-8482-45af-bc4e-500a2b4f1c47",
   "metadata": {},
   "outputs": [
    {
     "data": {
      "text/html": [
       "<div>\n",
       "<style scoped>\n",
       "    .dataframe tbody tr th:only-of-type {\n",
       "        vertical-align: middle;\n",
       "    }\n",
       "\n",
       "    .dataframe tbody tr th {\n",
       "        vertical-align: top;\n",
       "    }\n",
       "\n",
       "    .dataframe thead th {\n",
       "        text-align: right;\n",
       "    }\n",
       "</style>\n",
       "<table border=\"1\" class=\"dataframe\">\n",
       "  <thead>\n",
       "    <tr style=\"text-align: right;\">\n",
       "      <th></th>\n",
       "      <th>importances_mean</th>\n",
       "      <th>importances_std</th>\n",
       "      <th>feature</th>\n",
       "    </tr>\n",
       "  </thead>\n",
       "  <tbody>\n",
       "    <tr>\n",
       "      <th>12</th>\n",
       "      <td>4.908552</td>\n",
       "      <td>0.212955</td>\n",
       "      <td>LSTAT</td>\n",
       "    </tr>\n",
       "    <tr>\n",
       "      <th>5</th>\n",
       "      <td>4.797233</td>\n",
       "      <td>0.059018</td>\n",
       "      <td>RM</td>\n",
       "    </tr>\n",
       "    <tr>\n",
       "      <th>4</th>\n",
       "      <td>1.357376</td>\n",
       "      <td>0.079530</td>\n",
       "      <td>NOX</td>\n",
       "    </tr>\n",
       "    <tr>\n",
       "      <th>7</th>\n",
       "      <td>1.253063</td>\n",
       "      <td>0.059919</td>\n",
       "      <td>DIS</td>\n",
       "    </tr>\n",
       "    <tr>\n",
       "      <th>10</th>\n",
       "      <td>0.945869</td>\n",
       "      <td>0.056614</td>\n",
       "      <td>PTRATIO</td>\n",
       "    </tr>\n",
       "    <tr>\n",
       "      <th>0</th>\n",
       "      <td>0.770452</td>\n",
       "      <td>0.035104</td>\n",
       "      <td>CRIM</td>\n",
       "    </tr>\n",
       "    <tr>\n",
       "      <th>9</th>\n",
       "      <td>0.505306</td>\n",
       "      <td>0.015649</td>\n",
       "      <td>TAX</td>\n",
       "    </tr>\n",
       "    <tr>\n",
       "      <th>6</th>\n",
       "      <td>0.445013</td>\n",
       "      <td>0.021697</td>\n",
       "      <td>AGE</td>\n",
       "    </tr>\n",
       "    <tr>\n",
       "      <th>2</th>\n",
       "      <td>0.441031</td>\n",
       "      <td>0.030156</td>\n",
       "      <td>INDUS</td>\n",
       "    </tr>\n",
       "    <tr>\n",
       "      <th>11</th>\n",
       "      <td>0.324039</td>\n",
       "      <td>0.009679</td>\n",
       "      <td>B</td>\n",
       "    </tr>\n",
       "    <tr>\n",
       "      <th>8</th>\n",
       "      <td>0.122145</td>\n",
       "      <td>0.004693</td>\n",
       "      <td>RAD</td>\n",
       "    </tr>\n",
       "    <tr>\n",
       "      <th>1</th>\n",
       "      <td>0.048223</td>\n",
       "      <td>0.003169</td>\n",
       "      <td>ZN</td>\n",
       "    </tr>\n",
       "    <tr>\n",
       "      <th>3</th>\n",
       "      <td>0.023423</td>\n",
       "      <td>0.001813</td>\n",
       "      <td>CHAS</td>\n",
       "    </tr>\n",
       "  </tbody>\n",
       "</table>\n",
       "</div>"
      ],
      "text/plain": [
       "    importances_mean  importances_std  feature\n",
       "12          4.908552         0.212955    LSTAT\n",
       "5           4.797233         0.059018       RM\n",
       "4           1.357376         0.079530      NOX\n",
       "7           1.253063         0.059919      DIS\n",
       "10          0.945869         0.056614  PTRATIO\n",
       "0           0.770452         0.035104     CRIM\n",
       "9           0.505306         0.015649      TAX\n",
       "6           0.445013         0.021697      AGE\n",
       "2           0.441031         0.030156    INDUS\n",
       "11          0.324039         0.009679        B\n",
       "8           0.122145         0.004693      RAD\n",
       "1           0.048223         0.003169       ZN\n",
       "3           0.023423         0.001813     CHAS"
      ]
     },
     "execution_count": 89,
     "metadata": {},
     "output_type": "execute_result"
    }
   ],
   "source": [
    "importancia = permutation_importance(estimator = modelo_final,\n",
    "                                     X = X_train,\n",
    "                                     y = y_train,\n",
    "                                     n_repeats = 5,\n",
    "                                     scoring = 'neg_root_mean_squared_error',\n",
    "                                     n_jobs = multiprocessing.cpu_count() - 1,\n",
    "                                     random_state = 123\n",
    "                                    )\n",
    "\n",
    "# Se almacenan los resultados (media y desviación) en un dataframe\n",
    "df_importancia = pd.DataFrame(\n",
    "    {k: importancia[k] for k in ['importances_mean', 'importances_std']}\n",
    ")\n",
    "\n",
    "df_importancia['feature'] = X_train.columns\n",
    "df_importancia.sort_values('importances_mean', ascending=False)"
   ]
  },
  {
   "cell_type": "code",
   "execution_count": 90,
   "id": "c28ae5e8-6173-402f-b906-1864c260f466",
   "metadata": {},
   "outputs": [
    {
     "data": {
      "image/png": "[encoded data removed]",
      "text/plain": [
       "<Figure size 360x432 with 1 Axes>"
      ]
     },
     "metadata": {
      "needs_background": "light"
     },
     "output_type": "display_data"
    }
   ],
   "source": [
    "# Gráfico\n",
    "fig, ax = plt.subplots(figsize=(5, 6))\n",
    "df_importancia = df_importancia.sort_values('importances_mean', ascending=True)\n",
    "ax.barh(df_importancia['feature'],\n",
    "        df_importancia['importances_mean'],\n",
    "        xerr=df_importancia['importances_std'],\n",
    "        align='center',\n",
    "        alpha=0)\n",
    "\n",
    "ax.plot(df_importancia['importances_mean'],\n",
    "        df_importancia['feature'],\n",
    "        marker=\"D\",\n",
    "        linestyle=\"\",\n",
    "        alpha=0.8,\n",
    "        color=\"r\")\n",
    "\n",
    "ax.set_title('Importancia de los predictores (train)')\n",
    "ax.set_xlabel('Incremento del error tras la permutación');"
   ]
  },
  {
   "cell_type": "markdown",
   "id": "7a74b98c-e30c-4a83-83bb-fb6b20952e95",
   "metadata": {},
   "source": [
    "Ambas estrategias identifican LSTAT y RM como los predictores más influyentes, acorde a los datos de entrenamiento."
   ]
  },
  {
   "cell_type": "code",
   "execution_count": null,
   "id": "bdc270ed-4682-41b8-b955-9a99315f947f",
   "metadata": {},
   "outputs": [],
   "source": []
  }
 ],
 "metadata": {
  "kernelspec": {
   "display_name": "Entorno01",
   "language": "python",
   "name": "entorno01"
  },
  "language_info": {
   "codemirror_mode": {
    "name": "ipython",
    "version": 3
   },
   "file_extension": ".py",
   "mimetype": "text/x-python",
   "name": "python",
   "nbconvert_exporter": "python",
   "pygments_lexer": "ipython3",
   "version": "3.9.7"
  }
 },
 "nbformat": 4,
 "nbformat_minor": 5
}
