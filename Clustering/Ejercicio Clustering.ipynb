{
 "cells": [
  {
   "cell_type": "markdown",
   "id": "01463262-22d0-4232-8d6d-5d0f6f212d3a",
   "metadata": {},
   "source": [
    "# Clusters"
   ]
  },
  {
   "cell_type": "code",
   "execution_count": 1,
   "id": "fdf653a8-d042-4b64-9e38-f5df3a4faab0",
   "metadata": {},
   "outputs": [],
   "source": [
    "# Importamos librerías y generamos los datos:\n",
    "from sklearn.datasets import make_blobs\n",
    "X, y = make_blobs(100, 2, centers=3, random_state=1, cluster_std=1.2)"
   ]
  },
  {
   "cell_type": "code",
   "execution_count": 2,
   "id": "d4576c99-3e03-430d-8d62-648874498702",
   "metadata": {},
   "outputs": [
    {
     "data": {
      "text/plain": [
       "<matplotlib.collections.PathCollection at 0x13b0b5f7850>"
      ]
     },
     "execution_count": 2,
     "metadata": {},
     "output_type": "execute_result"
    },
    {
     "data": {
      "image/png": "[encoded data removed]",
      "text/plain": [
       "<Figure size 432x288 with 1 Axes>"
      ]
     },
     "metadata": {
      "needs_background": "light"
     },
     "output_type": "display_data"
    }
   ],
   "source": [
    "# Graficamos:\n",
    "import matplotlib.pyplot as plt\n",
    "plt.scatter(X[:, 0], X[:, 1], c=y, s=50)"
   ]
  },
  {
   "cell_type": "markdown",
   "id": "dbf15eac-00dd-4ac8-9916-e702244bd1e1",
   "metadata": {},
   "source": [
    "## Clustering jerárquico aglomerativo\n",
    "\n",
    "\n",
    "Empezaremos por clasificar con este método."
   ]
  },
  {
   "cell_type": "code",
   "execution_count": 3,
   "id": "fcd437a0-b6ca-4480-8fd0-7785ae3e569f",
   "metadata": {},
   "outputs": [],
   "source": [
    "# Importamos la librería para la vinculación\n",
    "from scipy.cluster.hierarchy import linkage"
   ]
  },
  {
   "cell_type": "code",
   "execution_count": 4,
   "id": "a223546e-8f4e-4553-a1c5-3d7223617ddb",
   "metadata": {},
   "outputs": [],
   "source": [
    "# Escogemos el método ward para el linkage (la vinculación)\n",
    "Z = linkage(X, 'ward')"
   ]
  },
  {
   "cell_type": "code",
   "execution_count": 5,
   "id": "7af2ff24-754f-4c70-9def-707dce1da9e2",
   "metadata": {},
   "outputs": [],
   "source": [
    "from scipy.cluster.hierarchy import fcluster"
   ]
  },
  {
   "cell_type": "code",
   "execution_count": 6,
   "id": "037eb166-f5e4-4276-9d93-f80d5bc72f1f",
   "metadata": {},
   "outputs": [
    {
     "data": {
      "text/plain": [
       "array([1, 2, 2, 2, 3, 3, 3, 2, 1, 1, 2, 2, 3, 1, 3, 3, 3, 1, 2, 2, 3, 2,\n",
       "       3, 1, 2, 3, 3, 1, 1, 3, 1, 1, 3, 1, 2, 3, 2, 2, 2, 3, 3, 2, 1, 2,\n",
       "       2, 3, 1, 1, 1, 1, 2, 3, 3, 3, 1, 3, 2, 2, 1, 1, 2, 3, 3, 2, 2, 3,\n",
       "       1, 3, 1, 2, 2, 2, 3, 1, 1, 2, 3, 3, 1, 2, 1, 2, 2, 3, 1, 1, 1, 1,\n",
       "       2, 1, 3, 1, 1, 2, 2, 3, 3, 1, 3, 1], dtype=int32)"
      ]
     },
     "execution_count": 6,
     "metadata": {},
     "output_type": "execute_result"
    }
   ],
   "source": [
    "k = 3 # Elegimos tres clusters\n",
    "clusters = fcluster(Z, k, criterion=\"maxclust\")\n",
    "clusters # Máximo de clusters = 3"
   ]
  },
  {
   "cell_type": "code",
   "execution_count": 7,
   "id": "d66d7d5b-e729-47a9-ba02-a5520ec16cb2",
   "metadata": {},
   "outputs": [],
   "source": [
    "# Puesto que la funcion inicia la clasificacion en 1, lo cambiamos a 0\n",
    "clusters_2 = []\n",
    "for i in clusters:\n",
    "    if i == 1:\n",
    "        clusters_2.append(0)\n",
    "    if i == 2:\n",
    "        clusters_2.append(1)\n",
    "    if i == 3:\n",
    "        clusters_2.append(2)"
   ]
  },
  {
   "cell_type": "code",
   "execution_count": 8,
   "id": "40150bc1-d95e-4e9c-abae-88d0a0774771",
   "metadata": {},
   "outputs": [
    {
     "data": {
      "text/plain": [
       "array([ True,  True,  True,  True,  True,  True,  True,  True,  True,\n",
       "        True,  True,  True,  True,  True,  True,  True,  True,  True,\n",
       "        True,  True,  True,  True,  True,  True,  True,  True,  True,\n",
       "        True,  True,  True,  True,  True,  True,  True,  True,  True,\n",
       "        True,  True,  True,  True,  True,  True,  True,  True,  True,\n",
       "        True,  True,  True,  True,  True,  True,  True,  True,  True,\n",
       "        True,  True,  True,  True,  True,  True,  True,  True,  True,\n",
       "        True,  True,  True,  True,  True,  True,  True,  True,  True,\n",
       "        True,  True,  True,  True,  True,  True,  True,  True,  True,\n",
       "        True,  True,  True,  True,  True,  True,  True,  True,  True,\n",
       "        True,  True,  True,  True,  True,  True,  True,  True,  True,\n",
       "        True])"
      ]
     },
     "execution_count": 8,
     "metadata": {},
     "output_type": "execute_result"
    }
   ],
   "source": [
    "# Se clasificó todo correctamente\n",
    "clusters_2 == y"
   ]
  },
  {
   "cell_type": "markdown",
   "id": "2c862fdf-e42e-4b5b-bd70-c3f2d363a0e9",
   "metadata": {},
   "source": [
    "## Método K-means"
   ]
  },
  {
   "cell_type": "code",
   "execution_count": 9,
   "id": "63e508b2-0bb2-43d5-aa53-8e51c4c6358c",
   "metadata": {},
   "outputs": [],
   "source": [
    "# Para este método importamos la siguiente libreria:\n",
    "from sklearn.cluster import KMeans"
   ]
  },
  {
   "cell_type": "code",
   "execution_count": 10,
   "id": "83f7d293-19bd-44e1-9d8e-df57f88289da",
   "metadata": {},
   "outputs": [
    {
     "data": {
      "text/plain": [
       "KMeans(n_clusters=3)"
      ]
     },
     "execution_count": 10,
     "metadata": {},
     "output_type": "execute_result"
    }
   ],
   "source": [
    "model = KMeans(n_clusters=3) # Elegimos 3 clusters\n",
    "model.fit(X) # Lo aplicamos a nuestros datos"
   ]
  },
  {
   "cell_type": "code",
   "execution_count": 11,
   "id": "d0062313-b7a9-4341-ae29-49f5d31acebe",
   "metadata": {},
   "outputs": [
    {
     "data": {
      "text/plain": [
       "array([0, 1, 1, 1, 2, 2, 2, 1, 0, 0, 1, 1, 2, 0, 2, 2, 2, 0, 1, 1, 2, 1,\n",
       "       2, 0, 1, 2, 2, 0, 0, 2, 0, 0, 2, 0, 1, 2, 1, 1, 1, 2, 2, 1, 0, 1,\n",
       "       1, 2, 0, 0, 0, 0, 1, 2, 2, 2, 0, 2, 1, 1, 0, 0, 1, 2, 2, 1, 1, 2,\n",
       "       0, 2, 0, 1, 1, 1, 2, 0, 0, 1, 2, 2, 0, 1, 0, 1, 1, 2, 0, 0, 0, 0,\n",
       "       1, 0, 2, 0, 0, 1, 1, 2, 2, 0, 2, 0])"
      ]
     },
     "execution_count": 11,
     "metadata": {},
     "output_type": "execute_result"
    }
   ],
   "source": [
    "model.labels_"
   ]
  },
  {
   "cell_type": "code",
   "execution_count": 12,
   "id": "0bbc545a-f914-4187-8ecc-960792215da4",
   "metadata": {},
   "outputs": [
    {
     "data": {
      "text/plain": [
       "array([ True,  True,  True,  True,  True,  True,  True,  True,  True,\n",
       "        True,  True,  True,  True,  True,  True,  True,  True,  True,\n",
       "        True,  True,  True,  True,  True,  True,  True,  True,  True,\n",
       "        True,  True,  True,  True,  True,  True,  True,  True,  True,\n",
       "        True,  True,  True,  True,  True,  True,  True,  True,  True,\n",
       "        True,  True,  True,  True,  True,  True,  True,  True,  True,\n",
       "        True,  True,  True,  True,  True,  True,  True,  True,  True,\n",
       "        True,  True,  True,  True,  True,  True,  True,  True,  True,\n",
       "        True,  True,  True,  True,  True,  True,  True,  True,  True,\n",
       "        True,  True,  True,  True,  True,  True,  True,  True,  True,\n",
       "        True,  True,  True,  True,  True,  True,  True,  True,  True,\n",
       "        True])"
      ]
     },
     "execution_count": 12,
     "metadata": {},
     "output_type": "execute_result"
    }
   ],
   "source": [
    "# Nuevamente vemos que se ha clasificado todo correctamente\n",
    "model.labels_ == y"
   ]
  },
  {
   "cell_type": "markdown",
   "id": "6abf7830-4cd0-41fd-9a1c-6c417cc887cb",
   "metadata": {},
   "source": [
    "## Matriz de confusión y accuracy"
   ]
  },
  {
   "cell_type": "code",
   "execution_count": 13,
   "id": "42b474fd-2a7a-44e0-92e4-76de6fdb1908",
   "metadata": {},
   "outputs": [],
   "source": [
    "# Para ver de una mejor manera los resultados:\n",
    "from sklearn.metrics import confusion_matrix"
   ]
  },
  {
   "cell_type": "code",
   "execution_count": 15,
   "id": "ceb946c8-2a89-4ae5-a869-83a4a8cbd668",
   "metadata": {},
   "outputs": [
    {
     "data": {
      "text/plain": [
       "array([[34,  0,  0],\n",
       "       [ 0, 33,  0],\n",
       "       [ 0,  0, 33]], dtype=int64)"
      ]
     },
     "execution_count": 15,
     "metadata": {},
     "output_type": "execute_result"
    }
   ],
   "source": [
    "mat = confusion_matrix(y, model.labels_)\n",
    "mat.T"
   ]
  },
  {
   "cell_type": "code",
   "execution_count": 16,
   "id": "6e7974ba-34e6-43c4-9b35-ad848eea56d8",
   "metadata": {},
   "outputs": [],
   "source": [
    "import seaborn as sns"
   ]
  },
  {
   "cell_type": "code",
   "execution_count": 17,
   "id": "c4c84711-0347-4c20-8e7e-1cac049f61e1",
   "metadata": {},
   "outputs": [
    {
     "data": {
      "text/plain": [
       "Text(33.0, 0.5, 'true value')"
      ]
     },
     "execution_count": 17,
     "metadata": {},
     "output_type": "execute_result"
    },
    {
     "data": {
      "image/png": "[encoded data removed]",
      "text/plain": [
       "<Figure size 432x288 with 1 Axes>"
      ]
     },
     "metadata": {
      "needs_background": "light"
     },
     "output_type": "display_data"
    }
   ],
   "source": [
    "sns.heatmap(mat, annot=True, cbar=False)\n",
    "plt.xlabel('predicted value')\n",
    "plt.ylabel('true value')"
   ]
  },
  {
   "cell_type": "code",
   "execution_count": 18,
   "id": "519b11cb-cc39-4b0d-b13c-bdcc530a23c0",
   "metadata": {},
   "outputs": [],
   "source": [
    "from sklearn.metrics import accuracy_score"
   ]
  },
  {
   "cell_type": "code",
   "execution_count": 19,
   "id": "747000c7-5204-4cd8-ace8-812897efae46",
   "metadata": {},
   "outputs": [
    {
     "data": {
      "text/plain": [
       "1.0"
      ]
     },
     "execution_count": 19,
     "metadata": {},
     "output_type": "execute_result"
    }
   ],
   "source": [
    "accuracy_score(y, model.labels_)"
   ]
  },
  {
   "cell_type": "markdown",
   "id": "ff48f69a-f692-455a-90ae-26b016d6d6b7",
   "metadata": {},
   "source": [
    "Se obtienen los mismos resultados tanto con el método jerárquico aglomerativo que con el de K means"
   ]
  },
  {
   "cell_type": "code",
   "execution_count": null,
   "id": "1c76f788-45b4-4186-9f93-3e9bde654f0e",
   "metadata": {},
   "outputs": [],
   "source": []
  }
 ],
 "metadata": {
  "kernelspec": {
   "display_name": "Entorno01",
   "language": "python",
   "name": "entorno01"
  },
  "language_info": {
   "codemirror_mode": {
    "name": "ipython",
    "version": 3
   },
   "file_extension": ".py",
   "mimetype": "text/x-python",
   "name": "python",
   "nbconvert_exporter": "python",
   "pygments_lexer": "ipython3",
   "version": "3.9.7"
  }
 },
 "nbformat": 4,
 "nbformat_minor": 5
}
