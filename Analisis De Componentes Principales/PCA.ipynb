{
 "cells": [
  {
   "cell_type": "markdown",
   "id": "c7e0e35a-2dfc-4ec4-867c-52412d049f69",
   "metadata": {},
   "source": [
    "# Análisis De Componentes Principales"
   ]
  },
  {
   "cell_type": "markdown",
   "id": "9dffe317-3f57-49da-8278-c209b20417cb",
   "metadata": {},
   "source": [
    "Las tasas de rendimiento semanales de cinco acciones que cotizan en la Bolsa de Valores de Nueva York\n",
    "se dan a continuación"
   ]
  },
  {
   "cell_type": "code",
   "execution_count": 1,
   "id": "d6c4a5fc-3f8d-4c63-a263-041a087bd0db",
   "metadata": {},
   "outputs": [],
   "source": [
    "import numpy as np"
   ]
  },
  {
   "cell_type": "code",
   "execution_count": 2,
   "id": "51c5d370-96d2-46f0-8b5f-e6b8bca90bfc",
   "metadata": {},
   "outputs": [],
   "source": [
    "names = (\"JPMorgan\",\"Citibank\",\"WellsFargo\",\"RoyalDutchShell\",\"ExxonMobil\")\n",
    "stock = np.genfromtxt('Stock-Price.txt', names=names)"
   ]
  },
  {
   "cell_type": "code",
   "execution_count": 3,
   "id": "0e8f372c-5b5a-44e4-bfe5-3ab33a385640",
   "metadata": {},
   "outputs": [],
   "source": [
    "import pandas as pd"
   ]
  },
  {
   "cell_type": "code",
   "execution_count": 4,
   "id": "40eaa7df-e803-4bf9-a911-1435f18744bf",
   "metadata": {},
   "outputs": [],
   "source": [
    "data = pd.DataFrame(stock)"
   ]
  },
  {
   "cell_type": "code",
   "execution_count": 5,
   "id": "e013658a-6f28-4b8e-95a6-50d08cf8e494",
   "metadata": {
    "tags": []
   },
   "outputs": [
    {
     "data": {
      "text/html": [
       "<div>\n",
       "<style scoped>\n",
       "    .dataframe tbody tr th:only-of-type {\n",
       "        vertical-align: middle;\n",
       "    }\n",
       "\n",
       "    .dataframe tbody tr th {\n",
       "        vertical-align: top;\n",
       "    }\n",
       "\n",
       "    .dataframe thead th {\n",
       "        text-align: right;\n",
       "    }\n",
       "</style>\n",
       "<table border=\"1\" class=\"dataframe\">\n",
       "  <thead>\n",
       "    <tr style=\"text-align: right;\">\n",
       "      <th></th>\n",
       "      <th>JPMorgan</th>\n",
       "      <th>Citibank</th>\n",
       "      <th>WellsFargo</th>\n",
       "      <th>RoyalDutchShell</th>\n",
       "      <th>ExxonMobil</th>\n",
       "    </tr>\n",
       "  </thead>\n",
       "  <tbody>\n",
       "    <tr>\n",
       "      <th>95</th>\n",
       "      <td>0.025683</td>\n",
       "      <td>0.052527</td>\n",
       "      <td>0.040696</td>\n",
       "      <td>-0.031662</td>\n",
       "      <td>-0.018848</td>\n",
       "    </tr>\n",
       "    <tr>\n",
       "      <th>96</th>\n",
       "      <td>-0.006062</td>\n",
       "      <td>0.008633</td>\n",
       "      <td>0.005841</td>\n",
       "      <td>0.044558</td>\n",
       "      <td>0.030594</td>\n",
       "    </tr>\n",
       "    <tr>\n",
       "      <th>97</th>\n",
       "      <td>0.021745</td>\n",
       "      <td>0.022964</td>\n",
       "      <td>0.029198</td>\n",
       "      <td>0.008440</td>\n",
       "      <td>0.031930</td>\n",
       "    </tr>\n",
       "    <tr>\n",
       "      <th>98</th>\n",
       "      <td>0.003374</td>\n",
       "      <td>-0.015306</td>\n",
       "      <td>-0.023824</td>\n",
       "      <td>-0.001674</td>\n",
       "      <td>-0.017227</td>\n",
       "    </tr>\n",
       "    <tr>\n",
       "      <th>99</th>\n",
       "      <td>0.003363</td>\n",
       "      <td>0.002902</td>\n",
       "      <td>-0.003051</td>\n",
       "      <td>-0.001219</td>\n",
       "      <td>-0.009701</td>\n",
       "    </tr>\n",
       "    <tr>\n",
       "      <th>100</th>\n",
       "      <td>0.017015</td>\n",
       "      <td>0.009506</td>\n",
       "      <td>0.018199</td>\n",
       "      <td>-0.016176</td>\n",
       "      <td>-0.007561</td>\n",
       "    </tr>\n",
       "    <tr>\n",
       "      <th>101</th>\n",
       "      <td>0.010393</td>\n",
       "      <td>-0.002661</td>\n",
       "      <td>0.004429</td>\n",
       "      <td>-0.002482</td>\n",
       "      <td>-0.016450</td>\n",
       "    </tr>\n",
       "    <tr>\n",
       "      <th>102</th>\n",
       "      <td>-0.012795</td>\n",
       "      <td>-0.014368</td>\n",
       "      <td>-0.018740</td>\n",
       "      <td>-0.004976</td>\n",
       "      <td>-0.016373</td>\n",
       "    </tr>\n",
       "  </tbody>\n",
       "</table>\n",
       "</div>"
      ],
      "text/plain": [
       "     JPMorgan  Citibank  WellsFargo  RoyalDutchShell  ExxonMobil\n",
       "95   0.025683  0.052527    0.040696        -0.031662   -0.018848\n",
       "96  -0.006062  0.008633    0.005841         0.044558    0.030594\n",
       "97   0.021745  0.022964    0.029198         0.008440    0.031930\n",
       "98   0.003374 -0.015306   -0.023824        -0.001674   -0.017227\n",
       "99   0.003363  0.002902   -0.003051        -0.001219   -0.009701\n",
       "100  0.017015  0.009506    0.018199        -0.016176   -0.007561\n",
       "101  0.010393 -0.002661    0.004429        -0.002482   -0.016450\n",
       "102 -0.012795 -0.014368   -0.018740        -0.004976   -0.016373"
      ]
     },
     "execution_count": 5,
     "metadata": {},
     "output_type": "execute_result"
    }
   ],
   "source": [
    "data.tail(8)"
   ]
  },
  {
   "cell_type": "code",
   "execution_count": 6,
   "id": "6373c347-ef3d-4bf0-abb3-04cff1facfc9",
   "metadata": {},
   "outputs": [
    {
     "data": {
      "text/html": [
       "<div>\n",
       "<style scoped>\n",
       "    .dataframe tbody tr th:only-of-type {\n",
       "        vertical-align: middle;\n",
       "    }\n",
       "\n",
       "    .dataframe tbody tr th {\n",
       "        vertical-align: top;\n",
       "    }\n",
       "\n",
       "    .dataframe thead th {\n",
       "        text-align: right;\n",
       "    }\n",
       "</style>\n",
       "<table border=\"1\" class=\"dataframe\">\n",
       "  <thead>\n",
       "    <tr style=\"text-align: right;\">\n",
       "      <th></th>\n",
       "      <th>JPMorgan</th>\n",
       "      <th>Citibank</th>\n",
       "      <th>WellsFargo</th>\n",
       "      <th>RoyalDutchShell</th>\n",
       "      <th>ExxonMobil</th>\n",
       "    </tr>\n",
       "  </thead>\n",
       "  <tbody>\n",
       "    <tr>\n",
       "      <th>JPMorgan</th>\n",
       "      <td>0.000433</td>\n",
       "      <td>0.000276</td>\n",
       "      <td>0.000159</td>\n",
       "      <td>0.000064</td>\n",
       "      <td>0.000089</td>\n",
       "    </tr>\n",
       "    <tr>\n",
       "      <th>Citibank</th>\n",
       "      <td>0.000276</td>\n",
       "      <td>0.000439</td>\n",
       "      <td>0.000180</td>\n",
       "      <td>0.000181</td>\n",
       "      <td>0.000123</td>\n",
       "    </tr>\n",
       "    <tr>\n",
       "      <th>WellsFargo</th>\n",
       "      <td>0.000159</td>\n",
       "      <td>0.000180</td>\n",
       "      <td>0.000224</td>\n",
       "      <td>0.000073</td>\n",
       "      <td>0.000061</td>\n",
       "    </tr>\n",
       "    <tr>\n",
       "      <th>RoyalDutchShell</th>\n",
       "      <td>0.000064</td>\n",
       "      <td>0.000181</td>\n",
       "      <td>0.000073</td>\n",
       "      <td>0.000722</td>\n",
       "      <td>0.000508</td>\n",
       "    </tr>\n",
       "    <tr>\n",
       "      <th>ExxonMobil</th>\n",
       "      <td>0.000089</td>\n",
       "      <td>0.000123</td>\n",
       "      <td>0.000061</td>\n",
       "      <td>0.000508</td>\n",
       "      <td>0.000766</td>\n",
       "    </tr>\n",
       "  </tbody>\n",
       "</table>\n",
       "</div>"
      ],
      "text/plain": [
       "                 JPMorgan  Citibank  WellsFargo  RoyalDutchShell  ExxonMobil\n",
       "JPMorgan         0.000433  0.000276    0.000159         0.000064    0.000089\n",
       "Citibank         0.000276  0.000439    0.000180         0.000181    0.000123\n",
       "WellsFargo       0.000159  0.000180    0.000224         0.000073    0.000061\n",
       "RoyalDutchShell  0.000064  0.000181    0.000073         0.000722    0.000508\n",
       "ExxonMobil       0.000089  0.000123    0.000061         0.000508    0.000766"
      ]
     },
     "execution_count": 6,
     "metadata": {},
     "output_type": "execute_result"
    }
   ],
   "source": [
    "# Matriz de COVARIANZA\n",
    "\n",
    "S = data.cov(); S"
   ]
  },
  {
   "cell_type": "code",
   "execution_count": 7,
   "id": "14df5f91-d70d-4e82-b069-789a3f9bab69",
   "metadata": {},
   "outputs": [
    {
     "data": {
      "text/html": [
       "<div>\n",
       "<style scoped>\n",
       "    .dataframe tbody tr th:only-of-type {\n",
       "        vertical-align: middle;\n",
       "    }\n",
       "\n",
       "    .dataframe tbody tr th {\n",
       "        vertical-align: top;\n",
       "    }\n",
       "\n",
       "    .dataframe thead th {\n",
       "        text-align: right;\n",
       "    }\n",
       "</style>\n",
       "<table border=\"1\" class=\"dataframe\">\n",
       "  <thead>\n",
       "    <tr style=\"text-align: right;\">\n",
       "      <th></th>\n",
       "      <th>JPMorgan</th>\n",
       "      <th>Citibank</th>\n",
       "      <th>WellsFargo</th>\n",
       "      <th>RoyalDutchShell</th>\n",
       "      <th>ExxonMobil</th>\n",
       "    </tr>\n",
       "  </thead>\n",
       "  <tbody>\n",
       "    <tr>\n",
       "      <th>JPMorgan</th>\n",
       "      <td>1.000000</td>\n",
       "      <td>0.632288</td>\n",
       "      <td>0.510497</td>\n",
       "      <td>0.114602</td>\n",
       "      <td>0.154463</td>\n",
       "    </tr>\n",
       "    <tr>\n",
       "      <th>Citibank</th>\n",
       "      <td>0.632288</td>\n",
       "      <td>1.000000</td>\n",
       "      <td>0.574142</td>\n",
       "      <td>0.322292</td>\n",
       "      <td>0.212675</td>\n",
       "    </tr>\n",
       "    <tr>\n",
       "      <th>WellsFargo</th>\n",
       "      <td>0.510497</td>\n",
       "      <td>0.574142</td>\n",
       "      <td>1.000000</td>\n",
       "      <td>0.182499</td>\n",
       "      <td>0.146207</td>\n",
       "    </tr>\n",
       "    <tr>\n",
       "      <th>RoyalDutchShell</th>\n",
       "      <td>0.114602</td>\n",
       "      <td>0.322292</td>\n",
       "      <td>0.182499</td>\n",
       "      <td>1.000000</td>\n",
       "      <td>0.683378</td>\n",
       "    </tr>\n",
       "    <tr>\n",
       "      <th>ExxonMobil</th>\n",
       "      <td>0.154463</td>\n",
       "      <td>0.212675</td>\n",
       "      <td>0.146207</td>\n",
       "      <td>0.683378</td>\n",
       "      <td>1.000000</td>\n",
       "    </tr>\n",
       "  </tbody>\n",
       "</table>\n",
       "</div>"
      ],
      "text/plain": [
       "                 JPMorgan  Citibank  WellsFargo  RoyalDutchShell  ExxonMobil\n",
       "JPMorgan         1.000000  0.632288    0.510497         0.114602    0.154463\n",
       "Citibank         0.632288  1.000000    0.574142         0.322292    0.212675\n",
       "WellsFargo       0.510497  0.574142    1.000000         0.182499    0.146207\n",
       "RoyalDutchShell  0.114602  0.322292    0.182499         1.000000    0.683378\n",
       "ExxonMobil       0.154463  0.212675    0.146207         0.683378    1.000000"
      ]
     },
     "execution_count": 7,
     "metadata": {},
     "output_type": "execute_result"
    }
   ],
   "source": [
    "# Matriz de CORRELACIONES\n",
    "\n",
    "R = data.corr(); R"
   ]
  },
  {
   "cell_type": "code",
   "execution_count": 8,
   "id": "33b5f6cc-c175-4fdb-8246-e423bd448e11",
   "metadata": {},
   "outputs": [
    {
     "data": {
      "text/plain": [
       "array([0.00136768, 0.00070116, 0.0002538 , 0.0001426 , 0.00011889])"
      ]
     },
     "execution_count": 8,
     "metadata": {},
     "output_type": "execute_result"
    }
   ],
   "source": [
    "# Eigenvalores y vectores de S\n",
    "\n",
    "autoval_S, autovec_S = np.linalg.eig(S)\n",
    "\n",
    "autoval_S"
   ]
  },
  {
   "cell_type": "code",
   "execution_count": 9,
   "id": "cc455d56-0471-462c-8ad1-a1e9f027d728",
   "metadata": {},
   "outputs": [
    {
     "data": {
      "text/plain": [
       "array([[ 0.22282283,  0.62522603, -0.32611218, -0.662759  ,  0.11765952],\n",
       "       [ 0.30728997,  0.57039003,  0.24959014,  0.4140935 , -0.58860803],\n",
       "       [ 0.1548103 ,  0.34450492,  0.03763929,  0.49704993,  0.78030428],\n",
       "       [ 0.63896798, -0.24794753,  0.64249741, -0.30886888,  0.14845546],\n",
       "       [ 0.65090441, -0.32184779, -0.64586064,  0.21637575, -0.09371777]])"
      ]
     },
     "execution_count": 9,
     "metadata": {},
     "output_type": "execute_result"
    }
   ],
   "source": [
    "autovec_S"
   ]
  },
  {
   "cell_type": "code",
   "execution_count": 10,
   "id": "498cd839-d678-4cdb-9d44-f8b18600741b",
   "metadata": {},
   "outputs": [
    {
     "data": {
      "text/plain": [
       "array([2.43727312, 1.40701266, 0.25516988, 0.50051275, 0.40003159])"
      ]
     },
     "execution_count": 10,
     "metadata": {},
     "output_type": "execute_result"
    }
   ],
   "source": [
    "# Eigenvalores y vectores de R\n",
    "\n",
    "autoval_R, autovec_R = np.linalg.eig(R)\n",
    "\n",
    "autoval_R"
   ]
  },
  {
   "cell_type": "code",
   "execution_count": 11,
   "id": "70d3627e-bacb-4210-85a5-5f6a47132e81",
   "metadata": {},
   "outputs": [
    {
     "data": {
      "text/plain": [
       "array([[ 0.46908321,  0.36800696,  0.3841216 ,  0.60431522,  0.36302278],\n",
       "       [ 0.53240549,  0.23646236, -0.49618794,  0.13610618, -0.6292079 ],\n",
       "       [ 0.46516333,  0.3151795 ,  0.07116948, -0.7718281 ,  0.28896583],\n",
       "       [ 0.38734594, -0.58503725,  0.59466408, -0.09336192, -0.38125151],\n",
       "       [ 0.36068206, -0.60584628, -0.49755167,  0.10882629,  0.49341454]])"
      ]
     },
     "execution_count": 11,
     "metadata": {},
     "output_type": "execute_result"
    }
   ],
   "source": [
    "autovec_R"
   ]
  },
  {
   "cell_type": "code",
   "execution_count": 12,
   "id": "a15be40d-eea7-41fc-9655-f445b1e6ae27",
   "metadata": {},
   "outputs": [],
   "source": [
    "# Análisis de componentes principales\n",
    "\n",
    "from sklearn.decomposition import PCA"
   ]
  },
  {
   "cell_type": "code",
   "execution_count": 13,
   "id": "d60c3378-d58f-48a9-a9ce-112dd01f0ed4",
   "metadata": {},
   "outputs": [],
   "source": [
    "# Elegimos número de componentes\n",
    "n = data.shape[1]\n",
    "pca = PCA(n_components=n)"
   ]
  },
  {
   "cell_type": "code",
   "execution_count": 14,
   "id": "d45ddac7-3ef9-4791-b89e-8d090ca72881",
   "metadata": {},
   "outputs": [],
   "source": [
    "model = pca.fit_transform(data)"
   ]
  },
  {
   "cell_type": "code",
   "execution_count": null,
   "id": "7e793f14-2349-4c0d-b941-e52f151865f2",
   "metadata": {},
   "outputs": [],
   "source": []
  },
  {
   "cell_type": "markdown",
   "id": "18473909-cf86-4a0f-a71c-82b6ed2447b9",
   "metadata": {},
   "source": [
    "# Función para PCA"
   ]
  },
  {
   "cell_type": "code",
   "execution_count": 103,
   "id": "b072fa25-018d-4667-ada7-ab920fd02860",
   "metadata": {},
   "outputs": [],
   "source": [
    "def function_pca(datos, matriz):\n",
    "    from sklearn.decomposition import PCA\n",
    "    n = datos.shape[1]\n",
    "    pc = []\n",
    "    for i in range(1,n+1): \n",
    "        pc.append('P%s'%i)\n",
    "        \n",
    "    if matriz == \"S\":\n",
    "        S = datos.cov()\n",
    "        eigenval, eigenvec = np.linalg.eig(S)\n",
    "        \n",
    "        total_sum = sum(eigenval)\n",
    "        var_exp = [(i/total_sum) for i in sorted(eigenval, reverse=True)]\n",
    "        cum_var_exp = np.cumsum(var_exp)\n",
    "        \n",
    "        pca = PCA(n_components=n)\n",
    "        model = pca.fit_transform(datos)\n",
    "        sd = pd.DataFrame(model).std()\n",
    "        eigenval=sorted(eigenval, reverse=True)\n",
    "        \n",
    "        results = pd.DataFrame({'PC':pc, 'Eigenvalues':eigenval, 'Standard deviation': sd, 'Proportion of Variance':var_exp, \n",
    "                                'Cumulative Proportion':cum_var_exp}).T\n",
    "        PC = pd.DataFrame(eigenvec)\n",
    "        \n",
    "    if matriz == \"R\":\n",
    "        R = datos.corr()\n",
    "        eigenval, eigenvec = np.linalg.eig(R)\n",
    "        \n",
    "        total_sum = sum(eigenval)\n",
    "        var_exp = [(i/total_sum) for i in sorted(eigenval, reverse=True)]\n",
    "        cum_var_exp = np.cumsum(var_exp)\n",
    "        \n",
    "        from sklearn.preprocessing import StandardScaler\n",
    "        datos_scale = StandardScaler().fit_transform(datos)\n",
    "        pca = PCA(n_components=n)\n",
    "        model = pca.fit_transform(datos_scale)\n",
    "        sd = pd.DataFrame(model).std()\n",
    "        eigenval=sorted(eigenval, reverse=True)\n",
    "        \n",
    "        results = pd.DataFrame({'PC':pc, 'Eigenvalues':eigenval, 'Standard deviation': sd, 'Proportion of Variance':var_exp, \n",
    "                                'Cumulative Proportion':cum_var_exp}).T\n",
    "        PC = pd.DataFrame(eigenvec)\n",
    "    \n",
    "    return list([results, PC])"
   ]
  },
  {
   "cell_type": "code",
   "execution_count": 104,
   "id": "2e912cc3-5b2c-4e29-acba-4f0017b759ea",
   "metadata": {},
   "outputs": [
    {
     "data": {
      "text/plain": [
       "[                               0         1         2         3         4\n",
       " PC                            P1        P2        P3        P4        P5\n",
       " Eigenvalues             0.001368  0.000701  0.000254  0.000143  0.000119\n",
       " Standard deviation      0.036982  0.026479  0.015931  0.011942  0.010904\n",
       " Proportion of Variance  0.529261  0.271333  0.098216  0.055184  0.046007\n",
       " Cumulative Proportion   0.529261  0.800594  0.898809  0.953993       1.0,\n",
       "           0         1         2         3         4\n",
       " 0  0.222823  0.625226 -0.326112 -0.662759  0.117660\n",
       " 1  0.307290  0.570390  0.249590  0.414094 -0.588608\n",
       " 2  0.154810  0.344505  0.037639  0.497050  0.780304\n",
       " 3  0.638968 -0.247948  0.642497 -0.308869  0.148455\n",
       " 4  0.650904 -0.321848 -0.645861  0.216376 -0.093718]"
      ]
     },
     "execution_count": 104,
     "metadata": {},
     "output_type": "execute_result"
    }
   ],
   "source": [
    "function_pca(data, 'S') # Usando la matriz de covarianza"
   ]
  },
  {
   "cell_type": "code",
   "execution_count": 106,
   "id": "4e120ff4-b458-4f09-96c1-39de10521bc3",
   "metadata": {},
   "outputs": [
    {
     "data": {
      "text/plain": [
       "[                               0         1         2         3         4\n",
       " PC                            P1        P2        P3        P4        P5\n",
       " Eigenvalues             2.437273  1.407013  0.500513  0.400032   0.25517\n",
       " Standard deviation      1.568811  1.191976  0.710929  0.635573  0.507614\n",
       " Proportion of Variance  0.487455  0.281403  0.100103  0.080006  0.051034\n",
       " Cumulative Proportion   0.487455  0.768857   0.86896  0.948966       1.0,\n",
       "           0         1         2         3         4\n",
       " 0  0.469083  0.368007  0.384122  0.604315  0.363023\n",
       " 1  0.532405  0.236462 -0.496188  0.136106 -0.629208\n",
       " 2  0.465163  0.315179  0.071169 -0.771828  0.288966\n",
       " 3  0.387346 -0.585037  0.594664 -0.093362 -0.381252\n",
       " 4  0.360682 -0.605846 -0.497552  0.108826  0.493415]"
      ]
     },
     "execution_count": 106,
     "metadata": {},
     "output_type": "execute_result"
    }
   ],
   "source": [
    "function_pca(data, 'R') # Usando la matriz de correlacion"
   ]
  },
  {
   "cell_type": "code",
   "execution_count": null,
   "id": "efdd5823-8f1e-46a8-8533-3785162456fc",
   "metadata": {},
   "outputs": [],
   "source": []
  }
 ],
 "metadata": {
  "kernelspec": {
   "display_name": "Entorno01",
   "language": "python",
   "name": "entorno01"
  },
  "language_info": {
   "codemirror_mode": {
    "name": "ipython",
    "version": 3
   },
   "file_extension": ".py",
   "mimetype": "text/x-python",
   "name": "python",
   "nbconvert_exporter": "python",
   "pygments_lexer": "ipython3",
   "version": "3.9.7"
  }
 },
 "nbformat": 4,
 "nbformat_minor": 5
}
